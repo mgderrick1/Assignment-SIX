{
 "cells": [
  {
   "cell_type": "code",
   "execution_count": 55,
   "metadata": {},
   "outputs": [],
   "source": [
    "#Required Liblaries\n",
    "\n",
    "import numpy as np\n",
    "import pandas as pd\n",
    "import matplotlib.pyplot as plt\n",
    "import plotly.graph_objs as go\n",
    "import plotly.express as px"
   ]
  },
  {
   "cell_type": "code",
   "execution_count": 56,
   "metadata": {},
   "outputs": [
    {
     "data": {
      "text/html": [
       "<div>\n",
       "<style scoped>\n",
       "    .dataframe tbody tr th:only-of-type {\n",
       "        vertical-align: middle;\n",
       "    }\n",
       "\n",
       "    .dataframe tbody tr th {\n",
       "        vertical-align: top;\n",
       "    }\n",
       "\n",
       "    .dataframe thead th {\n",
       "        text-align: right;\n",
       "    }\n",
       "</style>\n",
       "<table border=\"1\" class=\"dataframe\">\n",
       "  <thead>\n",
       "    <tr style=\"text-align: right;\">\n",
       "      <th></th>\n",
       "      <th>country</th>\n",
       "      <th>continent</th>\n",
       "      <th>year</th>\n",
       "      <th>lifeExp</th>\n",
       "      <th>pop</th>\n",
       "      <th>gdpPercap</th>\n",
       "      <th>iso_alpha</th>\n",
       "      <th>iso_num</th>\n",
       "    </tr>\n",
       "  </thead>\n",
       "  <tbody>\n",
       "    <tr>\n",
       "      <th>0</th>\n",
       "      <td>Afghanistan</td>\n",
       "      <td>Asia</td>\n",
       "      <td>1952</td>\n",
       "      <td>28.801</td>\n",
       "      <td>8425333</td>\n",
       "      <td>779.445314</td>\n",
       "      <td>AFG</td>\n",
       "      <td>4</td>\n",
       "    </tr>\n",
       "    <tr>\n",
       "      <th>1</th>\n",
       "      <td>Afghanistan</td>\n",
       "      <td>Asia</td>\n",
       "      <td>1957</td>\n",
       "      <td>30.332</td>\n",
       "      <td>9240934</td>\n",
       "      <td>820.853030</td>\n",
       "      <td>AFG</td>\n",
       "      <td>4</td>\n",
       "    </tr>\n",
       "    <tr>\n",
       "      <th>2</th>\n",
       "      <td>Afghanistan</td>\n",
       "      <td>Asia</td>\n",
       "      <td>1962</td>\n",
       "      <td>31.997</td>\n",
       "      <td>10267083</td>\n",
       "      <td>853.100710</td>\n",
       "      <td>AFG</td>\n",
       "      <td>4</td>\n",
       "    </tr>\n",
       "    <tr>\n",
       "      <th>3</th>\n",
       "      <td>Afghanistan</td>\n",
       "      <td>Asia</td>\n",
       "      <td>1967</td>\n",
       "      <td>34.020</td>\n",
       "      <td>11537966</td>\n",
       "      <td>836.197138</td>\n",
       "      <td>AFG</td>\n",
       "      <td>4</td>\n",
       "    </tr>\n",
       "    <tr>\n",
       "      <th>4</th>\n",
       "      <td>Afghanistan</td>\n",
       "      <td>Asia</td>\n",
       "      <td>1972</td>\n",
       "      <td>36.088</td>\n",
       "      <td>13079460</td>\n",
       "      <td>739.981106</td>\n",
       "      <td>AFG</td>\n",
       "      <td>4</td>\n",
       "    </tr>\n",
       "    <tr>\n",
       "      <th>...</th>\n",
       "      <td>...</td>\n",
       "      <td>...</td>\n",
       "      <td>...</td>\n",
       "      <td>...</td>\n",
       "      <td>...</td>\n",
       "      <td>...</td>\n",
       "      <td>...</td>\n",
       "      <td>...</td>\n",
       "    </tr>\n",
       "    <tr>\n",
       "      <th>1699</th>\n",
       "      <td>Zimbabwe</td>\n",
       "      <td>Africa</td>\n",
       "      <td>1987</td>\n",
       "      <td>62.351</td>\n",
       "      <td>9216418</td>\n",
       "      <td>706.157306</td>\n",
       "      <td>ZWE</td>\n",
       "      <td>716</td>\n",
       "    </tr>\n",
       "    <tr>\n",
       "      <th>1700</th>\n",
       "      <td>Zimbabwe</td>\n",
       "      <td>Africa</td>\n",
       "      <td>1992</td>\n",
       "      <td>60.377</td>\n",
       "      <td>10704340</td>\n",
       "      <td>693.420786</td>\n",
       "      <td>ZWE</td>\n",
       "      <td>716</td>\n",
       "    </tr>\n",
       "    <tr>\n",
       "      <th>1701</th>\n",
       "      <td>Zimbabwe</td>\n",
       "      <td>Africa</td>\n",
       "      <td>1997</td>\n",
       "      <td>46.809</td>\n",
       "      <td>11404948</td>\n",
       "      <td>792.449960</td>\n",
       "      <td>ZWE</td>\n",
       "      <td>716</td>\n",
       "    </tr>\n",
       "    <tr>\n",
       "      <th>1702</th>\n",
       "      <td>Zimbabwe</td>\n",
       "      <td>Africa</td>\n",
       "      <td>2002</td>\n",
       "      <td>39.989</td>\n",
       "      <td>11926563</td>\n",
       "      <td>672.038623</td>\n",
       "      <td>ZWE</td>\n",
       "      <td>716</td>\n",
       "    </tr>\n",
       "    <tr>\n",
       "      <th>1703</th>\n",
       "      <td>Zimbabwe</td>\n",
       "      <td>Africa</td>\n",
       "      <td>2007</td>\n",
       "      <td>43.487</td>\n",
       "      <td>12311143</td>\n",
       "      <td>469.709298</td>\n",
       "      <td>ZWE</td>\n",
       "      <td>716</td>\n",
       "    </tr>\n",
       "  </tbody>\n",
       "</table>\n",
       "<p>1704 rows × 8 columns</p>\n",
       "</div>"
      ],
      "text/plain": [
       "          country continent  year  lifeExp       pop   gdpPercap iso_alpha  \\\n",
       "0     Afghanistan      Asia  1952   28.801   8425333  779.445314       AFG   \n",
       "1     Afghanistan      Asia  1957   30.332   9240934  820.853030       AFG   \n",
       "2     Afghanistan      Asia  1962   31.997  10267083  853.100710       AFG   \n",
       "3     Afghanistan      Asia  1967   34.020  11537966  836.197138       AFG   \n",
       "4     Afghanistan      Asia  1972   36.088  13079460  739.981106       AFG   \n",
       "...           ...       ...   ...      ...       ...         ...       ...   \n",
       "1699     Zimbabwe    Africa  1987   62.351   9216418  706.157306       ZWE   \n",
       "1700     Zimbabwe    Africa  1992   60.377  10704340  693.420786       ZWE   \n",
       "1701     Zimbabwe    Africa  1997   46.809  11404948  792.449960       ZWE   \n",
       "1702     Zimbabwe    Africa  2002   39.989  11926563  672.038623       ZWE   \n",
       "1703     Zimbabwe    Africa  2007   43.487  12311143  469.709298       ZWE   \n",
       "\n",
       "      iso_num  \n",
       "0           4  \n",
       "1           4  \n",
       "2           4  \n",
       "3           4  \n",
       "4           4  \n",
       "...       ...  \n",
       "1699      716  \n",
       "1700      716  \n",
       "1701      716  \n",
       "1702      716  \n",
       "1703      716  \n",
       "\n",
       "[1704 rows x 8 columns]"
      ]
     },
     "execution_count": 56,
     "metadata": {},
     "output_type": "execute_result"
    }
   ],
   "source": [
    "df=px.data.gapminder()\n",
    "df"
   ]
  },
  {
   "cell_type": "code",
   "execution_count": 70,
   "metadata": {},
   "outputs": [
    {
     "name": "stdout",
     "output_type": "stream",
     "text": [
      "<class 'pandas.core.frame.DataFrame'>\n",
      "RangeIndex: 1704 entries, 0 to 1703\n",
      "Data columns (total 8 columns):\n",
      " #   Column     Non-Null Count  Dtype  \n",
      "---  ------     --------------  -----  \n",
      " 0   country    1704 non-null   object \n",
      " 1   continent  1704 non-null   object \n",
      " 2   year       1704 non-null   int64  \n",
      " 3   lifeExp    1704 non-null   float64\n",
      " 4   pop        1704 non-null   int64  \n",
      " 5   gdpPercap  1704 non-null   float64\n",
      " 6   iso_alpha  1704 non-null   object \n",
      " 7   iso_num    1704 non-null   int64  \n",
      "dtypes: float64(2), int64(3), object(3)\n",
      "memory usage: 106.6+ KB\n"
     ]
    }
   ],
   "source": [
    "df.info()"
   ]
  },
  {
   "cell_type": "code",
   "execution_count": 4,
   "metadata": {},
   "outputs": [
    {
     "data": {
      "text/plain": [
       "Index(['country', 'continent', 'year', 'lifeExp', 'pop', 'gdpPercap',\n",
       "       'iso_alpha', 'iso_num'],\n",
       "      dtype='object')"
      ]
     },
     "execution_count": 4,
     "metadata": {},
     "output_type": "execute_result"
    }
   ],
   "source": [
    "df.columns"
   ]
  },
  {
   "cell_type": "markdown",
   "metadata": {},
   "source": [
    "###### QUESTION 1 >>> The mean life expectancy of all the Asian countries according to the data."
   ]
  },
  {
   "cell_type": "code",
   "execution_count": 71,
   "metadata": {},
   "outputs": [
    {
     "data": {
      "application/vnd.plotly.v1+json": {
       "config": {
        "plotlyServerURL": "https://plot.ly"
       },
       "data": [
        {
         "customdata": [
          [
           "Afghanistan",
           37.478833333333334
          ]
         ],
         "geo": "geo",
         "hovertemplate": "<b>%{hovertext}</b><br><br>country=%{customdata[0]}<br>lifeExp=%{customdata[1]}<br>iso_alpha=%{location}<extra></extra>",
         "hovertext": [
          37.478833333333334
         ],
         "legendgroup": "Afghanistan",
         "locations": [
          "AFG"
         ],
         "marker": {
          "color": "#636efa",
          "size": [
           37.478833333333334
          ],
          "sizemode": "area",
          "sizeref": 0.18706729166666666,
          "symbol": "circle"
         },
         "mode": "markers",
         "name": "Afghanistan",
         "showlegend": true,
         "type": "scattergeo"
        },
        {
         "customdata": [
          [
           "Bahrain",
           65.60566666666666
          ]
         ],
         "geo": "geo",
         "hovertemplate": "<b>%{hovertext}</b><br><br>country=%{customdata[0]}<br>lifeExp=%{customdata[1]}<br>iso_alpha=%{location}<extra></extra>",
         "hovertext": [
          65.60566666666666
         ],
         "legendgroup": "Bahrain",
         "locations": [
          "BHR"
         ],
         "marker": {
          "color": "#EF553B",
          "size": [
           65.60566666666666
          ],
          "sizemode": "area",
          "sizeref": 0.18706729166666666,
          "symbol": "circle"
         },
         "mode": "markers",
         "name": "Bahrain",
         "showlegend": true,
         "type": "scattergeo"
        },
        {
         "customdata": [
          [
           "Bangladesh",
           49.83408333333333
          ]
         ],
         "geo": "geo",
         "hovertemplate": "<b>%{hovertext}</b><br><br>country=%{customdata[0]}<br>lifeExp=%{customdata[1]}<br>iso_alpha=%{location}<extra></extra>",
         "hovertext": [
          49.83408333333333
         ],
         "legendgroup": "Bangladesh",
         "locations": [
          "BGD"
         ],
         "marker": {
          "color": "#00cc96",
          "size": [
           49.83408333333333
          ],
          "sizemode": "area",
          "sizeref": 0.18706729166666666,
          "symbol": "circle"
         },
         "mode": "markers",
         "name": "Bangladesh",
         "showlegend": true,
         "type": "scattergeo"
        },
        {
         "customdata": [
          [
           "Cambodia",
           47.90275
          ]
         ],
         "geo": "geo",
         "hovertemplate": "<b>%{hovertext}</b><br><br>country=%{customdata[0]}<br>lifeExp=%{customdata[1]}<br>iso_alpha=%{location}<extra></extra>",
         "hovertext": [
          47.90275
         ],
         "legendgroup": "Cambodia",
         "locations": [
          "KHM"
         ],
         "marker": {
          "color": "#ab63fa",
          "size": [
           47.90275
          ],
          "sizemode": "area",
          "sizeref": 0.18706729166666666,
          "symbol": "circle"
         },
         "mode": "markers",
         "name": "Cambodia",
         "showlegend": true,
         "type": "scattergeo"
        },
        {
         "customdata": [
          [
           "China",
           61.785140000000006
          ]
         ],
         "geo": "geo",
         "hovertemplate": "<b>%{hovertext}</b><br><br>country=%{customdata[0]}<br>lifeExp=%{customdata[1]}<br>iso_alpha=%{location}<extra></extra>",
         "hovertext": [
          61.785140000000006
         ],
         "legendgroup": "China",
         "locations": [
          "CHN"
         ],
         "marker": {
          "color": "#FFA15A",
          "size": [
           61.785140000000006
          ],
          "sizemode": "area",
          "sizeref": 0.18706729166666666,
          "symbol": "circle"
         },
         "mode": "markers",
         "name": "China",
         "showlegend": true,
         "type": "scattergeo"
        },
        {
         "customdata": [
          [
           "Hong Kong, China",
           73.49283333333334
          ]
         ],
         "geo": "geo",
         "hovertemplate": "<b>%{hovertext}</b><br><br>country=%{customdata[0]}<br>lifeExp=%{customdata[1]}<br>iso_alpha=%{location}<extra></extra>",
         "hovertext": [
          73.49283333333334
         ],
         "legendgroup": "Hong Kong, China",
         "locations": [
          "HKG"
         ],
         "marker": {
          "color": "#19d3f3",
          "size": [
           73.49283333333334
          ],
          "sizemode": "area",
          "sizeref": 0.18706729166666666,
          "symbol": "circle"
         },
         "mode": "markers",
         "name": "Hong Kong, China",
         "showlegend": true,
         "type": "scattergeo"
        },
        {
         "customdata": [
          [
           "India",
           53.166083333333326
          ]
         ],
         "geo": "geo",
         "hovertemplate": "<b>%{hovertext}</b><br><br>country=%{customdata[0]}<br>lifeExp=%{customdata[1]}<br>iso_alpha=%{location}<extra></extra>",
         "hovertext": [
          53.166083333333326
         ],
         "legendgroup": "India",
         "locations": [
          "IND"
         ],
         "marker": {
          "color": "#FF6692",
          "size": [
           53.166083333333326
          ],
          "sizemode": "area",
          "sizeref": 0.18706729166666666,
          "symbol": "circle"
         },
         "mode": "markers",
         "name": "India",
         "showlegend": true,
         "type": "scattergeo"
        },
        {
         "customdata": [
          [
           "Indonesia",
           54.33574999999999
          ]
         ],
         "geo": "geo",
         "hovertemplate": "<b>%{hovertext}</b><br><br>country=%{customdata[0]}<br>lifeExp=%{customdata[1]}<br>iso_alpha=%{location}<extra></extra>",
         "hovertext": [
          54.33574999999999
         ],
         "legendgroup": "Indonesia",
         "locations": [
          "IDN"
         ],
         "marker": {
          "color": "#B6E880",
          "size": [
           54.33574999999999
          ],
          "sizemode": "area",
          "sizeref": 0.18706729166666666,
          "symbol": "circle"
         },
         "mode": "markers",
         "name": "Indonesia",
         "showlegend": true,
         "type": "scattergeo"
        },
        {
         "customdata": [
          [
           "Iran",
           58.63658333333334
          ]
         ],
         "geo": "geo",
         "hovertemplate": "<b>%{hovertext}</b><br><br>country=%{customdata[0]}<br>lifeExp=%{customdata[1]}<br>iso_alpha=%{location}<extra></extra>",
         "hovertext": [
          58.63658333333334
         ],
         "legendgroup": "Iran",
         "locations": [
          "IRN"
         ],
         "marker": {
          "color": "#FF97FF",
          "size": [
           58.63658333333334
          ],
          "sizemode": "area",
          "sizeref": 0.18706729166666666,
          "symbol": "circle"
         },
         "mode": "markers",
         "name": "Iran",
         "showlegend": true,
         "type": "scattergeo"
        },
        {
         "customdata": [
          [
           "Iraq",
           56.58175
          ]
         ],
         "geo": "geo",
         "hovertemplate": "<b>%{hovertext}</b><br><br>country=%{customdata[0]}<br>lifeExp=%{customdata[1]}<br>iso_alpha=%{location}<extra></extra>",
         "hovertext": [
          56.58175
         ],
         "legendgroup": "Iraq",
         "locations": [
          "IRQ"
         ],
         "marker": {
          "color": "#FECB52",
          "size": [
           56.58175
          ],
          "sizemode": "area",
          "sizeref": 0.18706729166666666,
          "symbol": "circle"
         },
         "mode": "markers",
         "name": "Iraq",
         "showlegend": true,
         "type": "scattergeo"
        },
        {
         "customdata": [
          [
           "Israel",
           73.64583333333333
          ]
         ],
         "geo": "geo",
         "hovertemplate": "<b>%{hovertext}</b><br><br>country=%{customdata[0]}<br>lifeExp=%{customdata[1]}<br>iso_alpha=%{location}<extra></extra>",
         "hovertext": [
          73.64583333333333
         ],
         "legendgroup": "Israel",
         "locations": [
          "ISR"
         ],
         "marker": {
          "color": "#636efa",
          "size": [
           73.64583333333333
          ],
          "sizemode": "area",
          "sizeref": 0.18706729166666666,
          "symbol": "circle"
         },
         "mode": "markers",
         "name": "Israel",
         "showlegend": true,
         "type": "scattergeo"
        },
        {
         "customdata": [
          [
           "Japan",
           74.82691666666666
          ]
         ],
         "geo": "geo",
         "hovertemplate": "<b>%{hovertext}</b><br><br>country=%{customdata[0]}<br>lifeExp=%{customdata[1]}<br>iso_alpha=%{location}<extra></extra>",
         "hovertext": [
          74.82691666666666
         ],
         "legendgroup": "Japan",
         "locations": [
          "JPN"
         ],
         "marker": {
          "color": "#EF553B",
          "size": [
           74.82691666666666
          ],
          "sizemode": "area",
          "sizeref": 0.18706729166666666,
          "symbol": "circle"
         },
         "mode": "markers",
         "name": "Japan",
         "showlegend": true,
         "type": "scattergeo"
        },
        {
         "customdata": [
          [
           "Jordan",
           59.78641666666666
          ]
         ],
         "geo": "geo",
         "hovertemplate": "<b>%{hovertext}</b><br><br>country=%{customdata[0]}<br>lifeExp=%{customdata[1]}<br>iso_alpha=%{location}<extra></extra>",
         "hovertext": [
          59.78641666666666
         ],
         "legendgroup": "Jordan",
         "locations": [
          "JOR"
         ],
         "marker": {
          "color": "#00cc96",
          "size": [
           59.78641666666666
          ],
          "sizemode": "area",
          "sizeref": 0.18706729166666666,
          "symbol": "circle"
         },
         "mode": "markers",
         "name": "Jordan",
         "showlegend": true,
         "type": "scattergeo"
        },
        {
         "customdata": [
          [
           "Korea, Dem. Rep.",
           63.60733333333334
          ]
         ],
         "geo": "geo",
         "hovertemplate": "<b>%{hovertext}</b><br><br>country=%{customdata[0]}<br>lifeExp=%{customdata[1]}<br>iso_alpha=%{location}<extra></extra>",
         "hovertext": [
          63.60733333333334
         ],
         "legendgroup": "Korea, Dem. Rep.",
         "locations": [
          "KOR"
         ],
         "marker": {
          "color": "#ab63fa",
          "size": [
           63.60733333333334
          ],
          "sizemode": "area",
          "sizeref": 0.18706729166666666,
          "symbol": "circle"
         },
         "mode": "markers",
         "name": "Korea, Dem. Rep.",
         "showlegend": true,
         "type": "scattergeo"
        },
        {
         "customdata": [
          [
           "Korea, Rep.",
           65.001
          ]
         ],
         "geo": "geo",
         "hovertemplate": "<b>%{hovertext}</b><br><br>country=%{customdata[0]}<br>lifeExp=%{customdata[1]}<br>iso_alpha=%{location}<extra></extra>",
         "hovertext": [
          65.001
         ],
         "legendgroup": "Korea, Rep.",
         "locations": [
          "KOR"
         ],
         "marker": {
          "color": "#FFA15A",
          "size": [
           65.001
          ],
          "sizemode": "area",
          "sizeref": 0.18706729166666666,
          "symbol": "circle"
         },
         "mode": "markers",
         "name": "Korea, Rep.",
         "showlegend": true,
         "type": "scattergeo"
        },
        {
         "customdata": [
          [
           "Kuwait",
           68.92233333333333
          ]
         ],
         "geo": "geo",
         "hovertemplate": "<b>%{hovertext}</b><br><br>country=%{customdata[0]}<br>lifeExp=%{customdata[1]}<br>iso_alpha=%{location}<extra></extra>",
         "hovertext": [
          68.92233333333333
         ],
         "legendgroup": "Kuwait",
         "locations": [
          "KWT"
         ],
         "marker": {
          "color": "#19d3f3",
          "size": [
           68.92233333333333
          ],
          "sizemode": "area",
          "sizeref": 0.18706729166666666,
          "symbol": "circle"
         },
         "mode": "markers",
         "name": "Kuwait",
         "showlegend": true,
         "type": "scattergeo"
        },
        {
         "customdata": [
          [
           "Lebanon",
           65.86566666666666
          ]
         ],
         "geo": "geo",
         "hovertemplate": "<b>%{hovertext}</b><br><br>country=%{customdata[0]}<br>lifeExp=%{customdata[1]}<br>iso_alpha=%{location}<extra></extra>",
         "hovertext": [
          65.86566666666666
         ],
         "legendgroup": "Lebanon",
         "locations": [
          "LBN"
         ],
         "marker": {
          "color": "#FF6692",
          "size": [
           65.86566666666666
          ],
          "sizemode": "area",
          "sizeref": 0.18706729166666666,
          "symbol": "circle"
         },
         "mode": "markers",
         "name": "Lebanon",
         "showlegend": true,
         "type": "scattergeo"
        },
        {
         "customdata": [
          [
           "Malaysia",
           64.27958333333332
          ]
         ],
         "geo": "geo",
         "hovertemplate": "<b>%{hovertext}</b><br><br>country=%{customdata[0]}<br>lifeExp=%{customdata[1]}<br>iso_alpha=%{location}<extra></extra>",
         "hovertext": [
          64.27958333333332
         ],
         "legendgroup": "Malaysia",
         "locations": [
          "MYS"
         ],
         "marker": {
          "color": "#B6E880",
          "size": [
           64.27958333333332
          ],
          "sizemode": "area",
          "sizeref": 0.18706729166666666,
          "symbol": "circle"
         },
         "mode": "markers",
         "name": "Malaysia",
         "showlegend": true,
         "type": "scattergeo"
        },
        {
         "customdata": [
          [
           "Mongolia",
           55.89033333333333
          ]
         ],
         "geo": "geo",
         "hovertemplate": "<b>%{hovertext}</b><br><br>country=%{customdata[0]}<br>lifeExp=%{customdata[1]}<br>iso_alpha=%{location}<extra></extra>",
         "hovertext": [
          55.89033333333333
         ],
         "legendgroup": "Mongolia",
         "locations": [
          "MNG"
         ],
         "marker": {
          "color": "#FF97FF",
          "size": [
           55.89033333333333
          ],
          "sizemode": "area",
          "sizeref": 0.18706729166666666,
          "symbol": "circle"
         },
         "mode": "markers",
         "name": "Mongolia",
         "showlegend": true,
         "type": "scattergeo"
        },
        {
         "customdata": [
          [
           "Myanmar",
           53.321666666666665
          ]
         ],
         "geo": "geo",
         "hovertemplate": "<b>%{hovertext}</b><br><br>country=%{customdata[0]}<br>lifeExp=%{customdata[1]}<br>iso_alpha=%{location}<extra></extra>",
         "hovertext": [
          53.321666666666665
         ],
         "legendgroup": "Myanmar",
         "locations": [
          "MMR"
         ],
         "marker": {
          "color": "#FECB52",
          "size": [
           53.321666666666665
          ],
          "sizemode": "area",
          "sizeref": 0.18706729166666666,
          "symbol": "circle"
         },
         "mode": "markers",
         "name": "Myanmar",
         "showlegend": true,
         "type": "scattergeo"
        },
        {
         "customdata": [
          [
           "Nepal",
           48.98633333333333
          ]
         ],
         "geo": "geo",
         "hovertemplate": "<b>%{hovertext}</b><br><br>country=%{customdata[0]}<br>lifeExp=%{customdata[1]}<br>iso_alpha=%{location}<extra></extra>",
         "hovertext": [
          48.98633333333333
         ],
         "legendgroup": "Nepal",
         "locations": [
          "NPL"
         ],
         "marker": {
          "color": "#636efa",
          "size": [
           48.98633333333333
          ],
          "sizemode": "area",
          "sizeref": 0.18706729166666666,
          "symbol": "circle"
         },
         "mode": "markers",
         "name": "Nepal",
         "showlegend": true,
         "type": "scattergeo"
        },
        {
         "customdata": [
          [
           "Oman",
           58.44266666666667
          ]
         ],
         "geo": "geo",
         "hovertemplate": "<b>%{hovertext}</b><br><br>country=%{customdata[0]}<br>lifeExp=%{customdata[1]}<br>iso_alpha=%{location}<extra></extra>",
         "hovertext": [
          58.44266666666667
         ],
         "legendgroup": "Oman",
         "locations": [
          "OMN"
         ],
         "marker": {
          "color": "#EF553B",
          "size": [
           58.44266666666667
          ],
          "sizemode": "area",
          "sizeref": 0.18706729166666666,
          "symbol": "circle"
         },
         "mode": "markers",
         "name": "Oman",
         "showlegend": true,
         "type": "scattergeo"
        },
        {
         "customdata": [
          [
           "Pakistan",
           54.88225
          ]
         ],
         "geo": "geo",
         "hovertemplate": "<b>%{hovertext}</b><br><br>country=%{customdata[0]}<br>lifeExp=%{customdata[1]}<br>iso_alpha=%{location}<extra></extra>",
         "hovertext": [
          54.88225
         ],
         "legendgroup": "Pakistan",
         "locations": [
          "PAK"
         ],
         "marker": {
          "color": "#00cc96",
          "size": [
           54.88225
          ],
          "sizemode": "area",
          "sizeref": 0.18706729166666666,
          "symbol": "circle"
         },
         "mode": "markers",
         "name": "Pakistan",
         "showlegend": true,
         "type": "scattergeo"
        },
        {
         "customdata": [
          [
           "Philippines",
           60.96725
          ]
         ],
         "geo": "geo",
         "hovertemplate": "<b>%{hovertext}</b><br><br>country=%{customdata[0]}<br>lifeExp=%{customdata[1]}<br>iso_alpha=%{location}<extra></extra>",
         "hovertext": [
          60.96725
         ],
         "legendgroup": "Philippines",
         "locations": [
          "PHL"
         ],
         "marker": {
          "color": "#ab63fa",
          "size": [
           60.96725
          ],
          "sizemode": "area",
          "sizeref": 0.18706729166666666,
          "symbol": "circle"
         },
         "mode": "markers",
         "name": "Philippines",
         "showlegend": true,
         "type": "scattergeo"
        },
        {
         "customdata": [
          [
           "Saudi Arabia",
           58.67875000000001
          ]
         ],
         "geo": "geo",
         "hovertemplate": "<b>%{hovertext}</b><br><br>country=%{customdata[0]}<br>lifeExp=%{customdata[1]}<br>iso_alpha=%{location}<extra></extra>",
         "hovertext": [
          58.67875000000001
         ],
         "legendgroup": "Saudi Arabia",
         "locations": [
          "SAU"
         ],
         "marker": {
          "color": "#FFA15A",
          "size": [
           58.67875000000001
          ],
          "sizemode": "area",
          "sizeref": 0.18706729166666666,
          "symbol": "circle"
         },
         "mode": "markers",
         "name": "Saudi Arabia",
         "showlegend": true,
         "type": "scattergeo"
        },
        {
         "customdata": [
          [
           "Singapore",
           71.22025
          ]
         ],
         "geo": "geo",
         "hovertemplate": "<b>%{hovertext}</b><br><br>country=%{customdata[0]}<br>lifeExp=%{customdata[1]}<br>iso_alpha=%{location}<extra></extra>",
         "hovertext": [
          71.22025
         ],
         "legendgroup": "Singapore",
         "locations": [
          "SGP"
         ],
         "marker": {
          "color": "#19d3f3",
          "size": [
           71.22025
          ],
          "sizemode": "area",
          "sizeref": 0.18706729166666666,
          "symbol": "circle"
         },
         "mode": "markers",
         "name": "Singapore",
         "showlegend": true,
         "type": "scattergeo"
        },
        {
         "customdata": [
          [
           "Sri Lanka",
           66.52608333333332
          ]
         ],
         "geo": "geo",
         "hovertemplate": "<b>%{hovertext}</b><br><br>country=%{customdata[0]}<br>lifeExp=%{customdata[1]}<br>iso_alpha=%{location}<extra></extra>",
         "hovertext": [
          66.52608333333332
         ],
         "legendgroup": "Sri Lanka",
         "locations": [
          "LKA"
         ],
         "marker": {
          "color": "#FF6692",
          "size": [
           66.52608333333332
          ],
          "sizemode": "area",
          "sizeref": 0.18706729166666666,
          "symbol": "circle"
         },
         "mode": "markers",
         "name": "Sri Lanka",
         "showlegend": true,
         "type": "scattergeo"
        },
        {
         "customdata": [
          [
           "Syria",
           61.34616666666667
          ]
         ],
         "geo": "geo",
         "hovertemplate": "<b>%{hovertext}</b><br><br>country=%{customdata[0]}<br>lifeExp=%{customdata[1]}<br>iso_alpha=%{location}<extra></extra>",
         "hovertext": [
          61.34616666666667
         ],
         "legendgroup": "Syria",
         "locations": [
          "SYR"
         ],
         "marker": {
          "color": "#B6E880",
          "size": [
           61.34616666666667
          ],
          "sizemode": "area",
          "sizeref": 0.18706729166666666,
          "symbol": "circle"
         },
         "mode": "markers",
         "name": "Syria",
         "showlegend": true,
         "type": "scattergeo"
        },
        {
         "customdata": [
          [
           "Taiwan",
           70.33666666666666
          ]
         ],
         "geo": "geo",
         "hovertemplate": "<b>%{hovertext}</b><br><br>country=%{customdata[0]}<br>lifeExp=%{customdata[1]}<br>iso_alpha=%{location}<extra></extra>",
         "hovertext": [
          70.33666666666666
         ],
         "legendgroup": "Taiwan",
         "locations": [
          "TWN"
         ],
         "marker": {
          "color": "#FF97FF",
          "size": [
           70.33666666666666
          ],
          "sizemode": "area",
          "sizeref": 0.18706729166666666,
          "symbol": "circle"
         },
         "mode": "markers",
         "name": "Taiwan",
         "showlegend": true,
         "type": "scattergeo"
        },
        {
         "customdata": [
          [
           "Thailand",
           62.20024999999999
          ]
         ],
         "geo": "geo",
         "hovertemplate": "<b>%{hovertext}</b><br><br>country=%{customdata[0]}<br>lifeExp=%{customdata[1]}<br>iso_alpha=%{location}<extra></extra>",
         "hovertext": [
          62.20024999999999
         ],
         "legendgroup": "Thailand",
         "locations": [
          "THA"
         ],
         "marker": {
          "color": "#FECB52",
          "size": [
           62.20024999999999
          ],
          "sizemode": "area",
          "sizeref": 0.18706729166666666,
          "symbol": "circle"
         },
         "mode": "markers",
         "name": "Thailand",
         "showlegend": true,
         "type": "scattergeo"
        },
        {
         "customdata": [
          [
           "Vietnam",
           57.479499999999994
          ]
         ],
         "geo": "geo",
         "hovertemplate": "<b>%{hovertext}</b><br><br>country=%{customdata[0]}<br>lifeExp=%{customdata[1]}<br>iso_alpha=%{location}<extra></extra>",
         "hovertext": [
          57.479499999999994
         ],
         "legendgroup": "Vietnam",
         "locations": [
          "VNM"
         ],
         "marker": {
          "color": "#636efa",
          "size": [
           57.479499999999994
          ],
          "sizemode": "area",
          "sizeref": 0.18706729166666666,
          "symbol": "circle"
         },
         "mode": "markers",
         "name": "Vietnam",
         "showlegend": true,
         "type": "scattergeo"
        },
        {
         "customdata": [
          [
           "West Bank and Gaza",
           60.32866666666667
          ]
         ],
         "geo": "geo",
         "hovertemplate": "<b>%{hovertext}</b><br><br>country=%{customdata[0]}<br>lifeExp=%{customdata[1]}<br>iso_alpha=%{location}<extra></extra>",
         "hovertext": [
          60.32866666666667
         ],
         "legendgroup": "West Bank and Gaza",
         "locations": [
          "PSE"
         ],
         "marker": {
          "color": "#EF553B",
          "size": [
           60.32866666666667
          ],
          "sizemode": "area",
          "sizeref": 0.18706729166666666,
          "symbol": "circle"
         },
         "mode": "markers",
         "name": "West Bank and Gaza",
         "showlegend": true,
         "type": "scattergeo"
        },
        {
         "customdata": [
          [
           "Yemen, Rep.",
           46.78041666666667
          ]
         ],
         "geo": "geo",
         "hovertemplate": "<b>%{hovertext}</b><br><br>country=%{customdata[0]}<br>lifeExp=%{customdata[1]}<br>iso_alpha=%{location}<extra></extra>",
         "hovertext": [
          46.78041666666667
         ],
         "legendgroup": "Yemen, Rep.",
         "locations": [
          "YEM"
         ],
         "marker": {
          "color": "#00cc96",
          "size": [
           46.78041666666667
          ],
          "sizemode": "area",
          "sizeref": 0.18706729166666666,
          "symbol": "circle"
         },
         "mode": "markers",
         "name": "Yemen, Rep.",
         "showlegend": true,
         "type": "scattergeo"
        }
       ],
       "layout": {
        "geo": {
         "center": {},
         "domain": {
          "x": [
           0,
           1
          ],
          "y": [
           0,
           1
          ]
         },
         "scope": "asia"
        },
        "legend": {
         "itemsizing": "constant",
         "title": {
          "text": "country"
         },
         "tracegroupgap": 0
        },
        "template": {
         "data": {
          "bar": [
           {
            "error_x": {
             "color": "#2a3f5f"
            },
            "error_y": {
             "color": "#2a3f5f"
            },
            "marker": {
             "line": {
              "color": "#E5ECF6",
              "width": 0.5
             }
            },
            "type": "bar"
           }
          ],
          "barpolar": [
           {
            "marker": {
             "line": {
              "color": "#E5ECF6",
              "width": 0.5
             }
            },
            "type": "barpolar"
           }
          ],
          "carpet": [
           {
            "aaxis": {
             "endlinecolor": "#2a3f5f",
             "gridcolor": "white",
             "linecolor": "white",
             "minorgridcolor": "white",
             "startlinecolor": "#2a3f5f"
            },
            "baxis": {
             "endlinecolor": "#2a3f5f",
             "gridcolor": "white",
             "linecolor": "white",
             "minorgridcolor": "white",
             "startlinecolor": "#2a3f5f"
            },
            "type": "carpet"
           }
          ],
          "choropleth": [
           {
            "colorbar": {
             "outlinewidth": 0,
             "ticks": ""
            },
            "type": "choropleth"
           }
          ],
          "contour": [
           {
            "colorbar": {
             "outlinewidth": 0,
             "ticks": ""
            },
            "colorscale": [
             [
              0,
              "#0d0887"
             ],
             [
              0.1111111111111111,
              "#46039f"
             ],
             [
              0.2222222222222222,
              "#7201a8"
             ],
             [
              0.3333333333333333,
              "#9c179e"
             ],
             [
              0.4444444444444444,
              "#bd3786"
             ],
             [
              0.5555555555555556,
              "#d8576b"
             ],
             [
              0.6666666666666666,
              "#ed7953"
             ],
             [
              0.7777777777777778,
              "#fb9f3a"
             ],
             [
              0.8888888888888888,
              "#fdca26"
             ],
             [
              1,
              "#f0f921"
             ]
            ],
            "type": "contour"
           }
          ],
          "contourcarpet": [
           {
            "colorbar": {
             "outlinewidth": 0,
             "ticks": ""
            },
            "type": "contourcarpet"
           }
          ],
          "heatmap": [
           {
            "colorbar": {
             "outlinewidth": 0,
             "ticks": ""
            },
            "colorscale": [
             [
              0,
              "#0d0887"
             ],
             [
              0.1111111111111111,
              "#46039f"
             ],
             [
              0.2222222222222222,
              "#7201a8"
             ],
             [
              0.3333333333333333,
              "#9c179e"
             ],
             [
              0.4444444444444444,
              "#bd3786"
             ],
             [
              0.5555555555555556,
              "#d8576b"
             ],
             [
              0.6666666666666666,
              "#ed7953"
             ],
             [
              0.7777777777777778,
              "#fb9f3a"
             ],
             [
              0.8888888888888888,
              "#fdca26"
             ],
             [
              1,
              "#f0f921"
             ]
            ],
            "type": "heatmap"
           }
          ],
          "heatmapgl": [
           {
            "colorbar": {
             "outlinewidth": 0,
             "ticks": ""
            },
            "colorscale": [
             [
              0,
              "#0d0887"
             ],
             [
              0.1111111111111111,
              "#46039f"
             ],
             [
              0.2222222222222222,
              "#7201a8"
             ],
             [
              0.3333333333333333,
              "#9c179e"
             ],
             [
              0.4444444444444444,
              "#bd3786"
             ],
             [
              0.5555555555555556,
              "#d8576b"
             ],
             [
              0.6666666666666666,
              "#ed7953"
             ],
             [
              0.7777777777777778,
              "#fb9f3a"
             ],
             [
              0.8888888888888888,
              "#fdca26"
             ],
             [
              1,
              "#f0f921"
             ]
            ],
            "type": "heatmapgl"
           }
          ],
          "histogram": [
           {
            "marker": {
             "colorbar": {
              "outlinewidth": 0,
              "ticks": ""
             }
            },
            "type": "histogram"
           }
          ],
          "histogram2d": [
           {
            "colorbar": {
             "outlinewidth": 0,
             "ticks": ""
            },
            "colorscale": [
             [
              0,
              "#0d0887"
             ],
             [
              0.1111111111111111,
              "#46039f"
             ],
             [
              0.2222222222222222,
              "#7201a8"
             ],
             [
              0.3333333333333333,
              "#9c179e"
             ],
             [
              0.4444444444444444,
              "#bd3786"
             ],
             [
              0.5555555555555556,
              "#d8576b"
             ],
             [
              0.6666666666666666,
              "#ed7953"
             ],
             [
              0.7777777777777778,
              "#fb9f3a"
             ],
             [
              0.8888888888888888,
              "#fdca26"
             ],
             [
              1,
              "#f0f921"
             ]
            ],
            "type": "histogram2d"
           }
          ],
          "histogram2dcontour": [
           {
            "colorbar": {
             "outlinewidth": 0,
             "ticks": ""
            },
            "colorscale": [
             [
              0,
              "#0d0887"
             ],
             [
              0.1111111111111111,
              "#46039f"
             ],
             [
              0.2222222222222222,
              "#7201a8"
             ],
             [
              0.3333333333333333,
              "#9c179e"
             ],
             [
              0.4444444444444444,
              "#bd3786"
             ],
             [
              0.5555555555555556,
              "#d8576b"
             ],
             [
              0.6666666666666666,
              "#ed7953"
             ],
             [
              0.7777777777777778,
              "#fb9f3a"
             ],
             [
              0.8888888888888888,
              "#fdca26"
             ],
             [
              1,
              "#f0f921"
             ]
            ],
            "type": "histogram2dcontour"
           }
          ],
          "mesh3d": [
           {
            "colorbar": {
             "outlinewidth": 0,
             "ticks": ""
            },
            "type": "mesh3d"
           }
          ],
          "parcoords": [
           {
            "line": {
             "colorbar": {
              "outlinewidth": 0,
              "ticks": ""
             }
            },
            "type": "parcoords"
           }
          ],
          "pie": [
           {
            "automargin": true,
            "type": "pie"
           }
          ],
          "scatter": [
           {
            "marker": {
             "colorbar": {
              "outlinewidth": 0,
              "ticks": ""
             }
            },
            "type": "scatter"
           }
          ],
          "scatter3d": [
           {
            "line": {
             "colorbar": {
              "outlinewidth": 0,
              "ticks": ""
             }
            },
            "marker": {
             "colorbar": {
              "outlinewidth": 0,
              "ticks": ""
             }
            },
            "type": "scatter3d"
           }
          ],
          "scattercarpet": [
           {
            "marker": {
             "colorbar": {
              "outlinewidth": 0,
              "ticks": ""
             }
            },
            "type": "scattercarpet"
           }
          ],
          "scattergeo": [
           {
            "marker": {
             "colorbar": {
              "outlinewidth": 0,
              "ticks": ""
             }
            },
            "type": "scattergeo"
           }
          ],
          "scattergl": [
           {
            "marker": {
             "colorbar": {
              "outlinewidth": 0,
              "ticks": ""
             }
            },
            "type": "scattergl"
           }
          ],
          "scattermapbox": [
           {
            "marker": {
             "colorbar": {
              "outlinewidth": 0,
              "ticks": ""
             }
            },
            "type": "scattermapbox"
           }
          ],
          "scatterpolar": [
           {
            "marker": {
             "colorbar": {
              "outlinewidth": 0,
              "ticks": ""
             }
            },
            "type": "scatterpolar"
           }
          ],
          "scatterpolargl": [
           {
            "marker": {
             "colorbar": {
              "outlinewidth": 0,
              "ticks": ""
             }
            },
            "type": "scatterpolargl"
           }
          ],
          "scatterternary": [
           {
            "marker": {
             "colorbar": {
              "outlinewidth": 0,
              "ticks": ""
             }
            },
            "type": "scatterternary"
           }
          ],
          "surface": [
           {
            "colorbar": {
             "outlinewidth": 0,
             "ticks": ""
            },
            "colorscale": [
             [
              0,
              "#0d0887"
             ],
             [
              0.1111111111111111,
              "#46039f"
             ],
             [
              0.2222222222222222,
              "#7201a8"
             ],
             [
              0.3333333333333333,
              "#9c179e"
             ],
             [
              0.4444444444444444,
              "#bd3786"
             ],
             [
              0.5555555555555556,
              "#d8576b"
             ],
             [
              0.6666666666666666,
              "#ed7953"
             ],
             [
              0.7777777777777778,
              "#fb9f3a"
             ],
             [
              0.8888888888888888,
              "#fdca26"
             ],
             [
              1,
              "#f0f921"
             ]
            ],
            "type": "surface"
           }
          ],
          "table": [
           {
            "cells": {
             "fill": {
              "color": "#EBF0F8"
             },
             "line": {
              "color": "white"
             }
            },
            "header": {
             "fill": {
              "color": "#C8D4E3"
             },
             "line": {
              "color": "white"
             }
            },
            "type": "table"
           }
          ]
         },
         "layout": {
          "annotationdefaults": {
           "arrowcolor": "#2a3f5f",
           "arrowhead": 0,
           "arrowwidth": 1
          },
          "autotypenumbers": "strict",
          "coloraxis": {
           "colorbar": {
            "outlinewidth": 0,
            "ticks": ""
           }
          },
          "colorscale": {
           "diverging": [
            [
             0,
             "#8e0152"
            ],
            [
             0.1,
             "#c51b7d"
            ],
            [
             0.2,
             "#de77ae"
            ],
            [
             0.3,
             "#f1b6da"
            ],
            [
             0.4,
             "#fde0ef"
            ],
            [
             0.5,
             "#f7f7f7"
            ],
            [
             0.6,
             "#e6f5d0"
            ],
            [
             0.7,
             "#b8e186"
            ],
            [
             0.8,
             "#7fbc41"
            ],
            [
             0.9,
             "#4d9221"
            ],
            [
             1,
             "#276419"
            ]
           ],
           "sequential": [
            [
             0,
             "#0d0887"
            ],
            [
             0.1111111111111111,
             "#46039f"
            ],
            [
             0.2222222222222222,
             "#7201a8"
            ],
            [
             0.3333333333333333,
             "#9c179e"
            ],
            [
             0.4444444444444444,
             "#bd3786"
            ],
            [
             0.5555555555555556,
             "#d8576b"
            ],
            [
             0.6666666666666666,
             "#ed7953"
            ],
            [
             0.7777777777777778,
             "#fb9f3a"
            ],
            [
             0.8888888888888888,
             "#fdca26"
            ],
            [
             1,
             "#f0f921"
            ]
           ],
           "sequentialminus": [
            [
             0,
             "#0d0887"
            ],
            [
             0.1111111111111111,
             "#46039f"
            ],
            [
             0.2222222222222222,
             "#7201a8"
            ],
            [
             0.3333333333333333,
             "#9c179e"
            ],
            [
             0.4444444444444444,
             "#bd3786"
            ],
            [
             0.5555555555555556,
             "#d8576b"
            ],
            [
             0.6666666666666666,
             "#ed7953"
            ],
            [
             0.7777777777777778,
             "#fb9f3a"
            ],
            [
             0.8888888888888888,
             "#fdca26"
            ],
            [
             1,
             "#f0f921"
            ]
           ]
          },
          "colorway": [
           "#636efa",
           "#EF553B",
           "#00cc96",
           "#ab63fa",
           "#FFA15A",
           "#19d3f3",
           "#FF6692",
           "#B6E880",
           "#FF97FF",
           "#FECB52"
          ],
          "font": {
           "color": "#2a3f5f"
          },
          "geo": {
           "bgcolor": "white",
           "lakecolor": "white",
           "landcolor": "#E5ECF6",
           "showlakes": true,
           "showland": true,
           "subunitcolor": "white"
          },
          "hoverlabel": {
           "align": "left"
          },
          "hovermode": "closest",
          "mapbox": {
           "style": "light"
          },
          "paper_bgcolor": "white",
          "plot_bgcolor": "#E5ECF6",
          "polar": {
           "angularaxis": {
            "gridcolor": "white",
            "linecolor": "white",
            "ticks": ""
           },
           "bgcolor": "#E5ECF6",
           "radialaxis": {
            "gridcolor": "white",
            "linecolor": "white",
            "ticks": ""
           }
          },
          "scene": {
           "xaxis": {
            "backgroundcolor": "#E5ECF6",
            "gridcolor": "white",
            "gridwidth": 2,
            "linecolor": "white",
            "showbackground": true,
            "ticks": "",
            "zerolinecolor": "white"
           },
           "yaxis": {
            "backgroundcolor": "#E5ECF6",
            "gridcolor": "white",
            "gridwidth": 2,
            "linecolor": "white",
            "showbackground": true,
            "ticks": "",
            "zerolinecolor": "white"
           },
           "zaxis": {
            "backgroundcolor": "#E5ECF6",
            "gridcolor": "white",
            "gridwidth": 2,
            "linecolor": "white",
            "showbackground": true,
            "ticks": "",
            "zerolinecolor": "white"
           }
          },
          "shapedefaults": {
           "line": {
            "color": "#2a3f5f"
           }
          },
          "ternary": {
           "aaxis": {
            "gridcolor": "white",
            "linecolor": "white",
            "ticks": ""
           },
           "baxis": {
            "gridcolor": "white",
            "linecolor": "white",
            "ticks": ""
           },
           "bgcolor": "#E5ECF6",
           "caxis": {
            "gridcolor": "white",
            "linecolor": "white",
            "ticks": ""
           }
          },
          "title": {
           "x": 0.05
          },
          "xaxis": {
           "automargin": true,
           "gridcolor": "white",
           "linecolor": "white",
           "ticks": "",
           "title": {
            "standoff": 15
           },
           "zerolinecolor": "white",
           "zerolinewidth": 2
          },
          "yaxis": {
           "automargin": true,
           "gridcolor": "white",
           "linecolor": "white",
           "ticks": "",
           "title": {
            "standoff": 15
           },
           "zerolinecolor": "white",
           "zerolinewidth": 2
          }
         }
        },
        "title": {
         "text": "Mean life expectancy of all the Asian countries"
        }
       }
      },
      "text/html": [
       "<div>                            <div id=\"ac7b4ddc-e560-44e2-8484-9b4810f26a0f\" class=\"plotly-graph-div\" style=\"height:525px; width:100%;\"></div>            <script type=\"text/javascript\">                require([\"plotly\"], function(Plotly) {                    window.PLOTLYENV=window.PLOTLYENV || {};                                    if (document.getElementById(\"ac7b4ddc-e560-44e2-8484-9b4810f26a0f\")) {                    Plotly.newPlot(                        \"ac7b4ddc-e560-44e2-8484-9b4810f26a0f\",                        [{\"customdata\": [[\"Afghanistan\", 37.478833333333334]], \"geo\": \"geo\", \"hovertemplate\": \"<b>%{hovertext}</b><br><br>country=%{customdata[0]}<br>lifeExp=%{customdata[1]}<br>iso_alpha=%{location}<extra></extra>\", \"hovertext\": [37.478833333333334], \"legendgroup\": \"Afghanistan\", \"locations\": [\"AFG\"], \"marker\": {\"color\": \"#636efa\", \"size\": [37.478833333333334], \"sizemode\": \"area\", \"sizeref\": 0.18706729166666666, \"symbol\": \"circle\"}, \"mode\": \"markers\", \"name\": \"Afghanistan\", \"showlegend\": true, \"type\": \"scattergeo\"}, {\"customdata\": [[\"Bahrain\", 65.60566666666666]], \"geo\": \"geo\", \"hovertemplate\": \"<b>%{hovertext}</b><br><br>country=%{customdata[0]}<br>lifeExp=%{customdata[1]}<br>iso_alpha=%{location}<extra></extra>\", \"hovertext\": [65.60566666666666], \"legendgroup\": \"Bahrain\", \"locations\": [\"BHR\"], \"marker\": {\"color\": \"#EF553B\", \"size\": [65.60566666666666], \"sizemode\": \"area\", \"sizeref\": 0.18706729166666666, \"symbol\": \"circle\"}, \"mode\": \"markers\", \"name\": \"Bahrain\", \"showlegend\": true, \"type\": \"scattergeo\"}, {\"customdata\": [[\"Bangladesh\", 49.83408333333333]], \"geo\": \"geo\", \"hovertemplate\": \"<b>%{hovertext}</b><br><br>country=%{customdata[0]}<br>lifeExp=%{customdata[1]}<br>iso_alpha=%{location}<extra></extra>\", \"hovertext\": [49.83408333333333], \"legendgroup\": \"Bangladesh\", \"locations\": [\"BGD\"], \"marker\": {\"color\": \"#00cc96\", \"size\": [49.83408333333333], \"sizemode\": \"area\", \"sizeref\": 0.18706729166666666, \"symbol\": \"circle\"}, \"mode\": \"markers\", \"name\": \"Bangladesh\", \"showlegend\": true, \"type\": \"scattergeo\"}, {\"customdata\": [[\"Cambodia\", 47.90275]], \"geo\": \"geo\", \"hovertemplate\": \"<b>%{hovertext}</b><br><br>country=%{customdata[0]}<br>lifeExp=%{customdata[1]}<br>iso_alpha=%{location}<extra></extra>\", \"hovertext\": [47.90275], \"legendgroup\": \"Cambodia\", \"locations\": [\"KHM\"], \"marker\": {\"color\": \"#ab63fa\", \"size\": [47.90275], \"sizemode\": \"area\", \"sizeref\": 0.18706729166666666, \"symbol\": \"circle\"}, \"mode\": \"markers\", \"name\": \"Cambodia\", \"showlegend\": true, \"type\": \"scattergeo\"}, {\"customdata\": [[\"China\", 61.785140000000006]], \"geo\": \"geo\", \"hovertemplate\": \"<b>%{hovertext}</b><br><br>country=%{customdata[0]}<br>lifeExp=%{customdata[1]}<br>iso_alpha=%{location}<extra></extra>\", \"hovertext\": [61.785140000000006], \"legendgroup\": \"China\", \"locations\": [\"CHN\"], \"marker\": {\"color\": \"#FFA15A\", \"size\": [61.785140000000006], \"sizemode\": \"area\", \"sizeref\": 0.18706729166666666, \"symbol\": \"circle\"}, \"mode\": \"markers\", \"name\": \"China\", \"showlegend\": true, \"type\": \"scattergeo\"}, {\"customdata\": [[\"Hong Kong, China\", 73.49283333333334]], \"geo\": \"geo\", \"hovertemplate\": \"<b>%{hovertext}</b><br><br>country=%{customdata[0]}<br>lifeExp=%{customdata[1]}<br>iso_alpha=%{location}<extra></extra>\", \"hovertext\": [73.49283333333334], \"legendgroup\": \"Hong Kong, China\", \"locations\": [\"HKG\"], \"marker\": {\"color\": \"#19d3f3\", \"size\": [73.49283333333334], \"sizemode\": \"area\", \"sizeref\": 0.18706729166666666, \"symbol\": \"circle\"}, \"mode\": \"markers\", \"name\": \"Hong Kong, China\", \"showlegend\": true, \"type\": \"scattergeo\"}, {\"customdata\": [[\"India\", 53.166083333333326]], \"geo\": \"geo\", \"hovertemplate\": \"<b>%{hovertext}</b><br><br>country=%{customdata[0]}<br>lifeExp=%{customdata[1]}<br>iso_alpha=%{location}<extra></extra>\", \"hovertext\": [53.166083333333326], \"legendgroup\": \"India\", \"locations\": [\"IND\"], \"marker\": {\"color\": \"#FF6692\", \"size\": [53.166083333333326], \"sizemode\": \"area\", \"sizeref\": 0.18706729166666666, \"symbol\": \"circle\"}, \"mode\": \"markers\", \"name\": \"India\", \"showlegend\": true, \"type\": \"scattergeo\"}, {\"customdata\": [[\"Indonesia\", 54.33574999999999]], \"geo\": \"geo\", \"hovertemplate\": \"<b>%{hovertext}</b><br><br>country=%{customdata[0]}<br>lifeExp=%{customdata[1]}<br>iso_alpha=%{location}<extra></extra>\", \"hovertext\": [54.33574999999999], \"legendgroup\": \"Indonesia\", \"locations\": [\"IDN\"], \"marker\": {\"color\": \"#B6E880\", \"size\": [54.33574999999999], \"sizemode\": \"area\", \"sizeref\": 0.18706729166666666, \"symbol\": \"circle\"}, \"mode\": \"markers\", \"name\": \"Indonesia\", \"showlegend\": true, \"type\": \"scattergeo\"}, {\"customdata\": [[\"Iran\", 58.63658333333334]], \"geo\": \"geo\", \"hovertemplate\": \"<b>%{hovertext}</b><br><br>country=%{customdata[0]}<br>lifeExp=%{customdata[1]}<br>iso_alpha=%{location}<extra></extra>\", \"hovertext\": [58.63658333333334], \"legendgroup\": \"Iran\", \"locations\": [\"IRN\"], \"marker\": {\"color\": \"#FF97FF\", \"size\": [58.63658333333334], \"sizemode\": \"area\", \"sizeref\": 0.18706729166666666, \"symbol\": \"circle\"}, \"mode\": \"markers\", \"name\": \"Iran\", \"showlegend\": true, \"type\": \"scattergeo\"}, {\"customdata\": [[\"Iraq\", 56.58175]], \"geo\": \"geo\", \"hovertemplate\": \"<b>%{hovertext}</b><br><br>country=%{customdata[0]}<br>lifeExp=%{customdata[1]}<br>iso_alpha=%{location}<extra></extra>\", \"hovertext\": [56.58175], \"legendgroup\": \"Iraq\", \"locations\": [\"IRQ\"], \"marker\": {\"color\": \"#FECB52\", \"size\": [56.58175], \"sizemode\": \"area\", \"sizeref\": 0.18706729166666666, \"symbol\": \"circle\"}, \"mode\": \"markers\", \"name\": \"Iraq\", \"showlegend\": true, \"type\": \"scattergeo\"}, {\"customdata\": [[\"Israel\", 73.64583333333333]], \"geo\": \"geo\", \"hovertemplate\": \"<b>%{hovertext}</b><br><br>country=%{customdata[0]}<br>lifeExp=%{customdata[1]}<br>iso_alpha=%{location}<extra></extra>\", \"hovertext\": [73.64583333333333], \"legendgroup\": \"Israel\", \"locations\": [\"ISR\"], \"marker\": {\"color\": \"#636efa\", \"size\": [73.64583333333333], \"sizemode\": \"area\", \"sizeref\": 0.18706729166666666, \"symbol\": \"circle\"}, \"mode\": \"markers\", \"name\": \"Israel\", \"showlegend\": true, \"type\": \"scattergeo\"}, {\"customdata\": [[\"Japan\", 74.82691666666666]], \"geo\": \"geo\", \"hovertemplate\": \"<b>%{hovertext}</b><br><br>country=%{customdata[0]}<br>lifeExp=%{customdata[1]}<br>iso_alpha=%{location}<extra></extra>\", \"hovertext\": [74.82691666666666], \"legendgroup\": \"Japan\", \"locations\": [\"JPN\"], \"marker\": {\"color\": \"#EF553B\", \"size\": [74.82691666666666], \"sizemode\": \"area\", \"sizeref\": 0.18706729166666666, \"symbol\": \"circle\"}, \"mode\": \"markers\", \"name\": \"Japan\", \"showlegend\": true, \"type\": \"scattergeo\"}, {\"customdata\": [[\"Jordan\", 59.78641666666666]], \"geo\": \"geo\", \"hovertemplate\": \"<b>%{hovertext}</b><br><br>country=%{customdata[0]}<br>lifeExp=%{customdata[1]}<br>iso_alpha=%{location}<extra></extra>\", \"hovertext\": [59.78641666666666], \"legendgroup\": \"Jordan\", \"locations\": [\"JOR\"], \"marker\": {\"color\": \"#00cc96\", \"size\": [59.78641666666666], \"sizemode\": \"area\", \"sizeref\": 0.18706729166666666, \"symbol\": \"circle\"}, \"mode\": \"markers\", \"name\": \"Jordan\", \"showlegend\": true, \"type\": \"scattergeo\"}, {\"customdata\": [[\"Korea, Dem. Rep.\", 63.60733333333334]], \"geo\": \"geo\", \"hovertemplate\": \"<b>%{hovertext}</b><br><br>country=%{customdata[0]}<br>lifeExp=%{customdata[1]}<br>iso_alpha=%{location}<extra></extra>\", \"hovertext\": [63.60733333333334], \"legendgroup\": \"Korea, Dem. Rep.\", \"locations\": [\"KOR\"], \"marker\": {\"color\": \"#ab63fa\", \"size\": [63.60733333333334], \"sizemode\": \"area\", \"sizeref\": 0.18706729166666666, \"symbol\": \"circle\"}, \"mode\": \"markers\", \"name\": \"Korea, Dem. Rep.\", \"showlegend\": true, \"type\": \"scattergeo\"}, {\"customdata\": [[\"Korea, Rep.\", 65.001]], \"geo\": \"geo\", \"hovertemplate\": \"<b>%{hovertext}</b><br><br>country=%{customdata[0]}<br>lifeExp=%{customdata[1]}<br>iso_alpha=%{location}<extra></extra>\", \"hovertext\": [65.001], \"legendgroup\": \"Korea, Rep.\", \"locations\": [\"KOR\"], \"marker\": {\"color\": \"#FFA15A\", \"size\": [65.001], \"sizemode\": \"area\", \"sizeref\": 0.18706729166666666, \"symbol\": \"circle\"}, \"mode\": \"markers\", \"name\": \"Korea, Rep.\", \"showlegend\": true, \"type\": \"scattergeo\"}, {\"customdata\": [[\"Kuwait\", 68.92233333333333]], \"geo\": \"geo\", \"hovertemplate\": \"<b>%{hovertext}</b><br><br>country=%{customdata[0]}<br>lifeExp=%{customdata[1]}<br>iso_alpha=%{location}<extra></extra>\", \"hovertext\": [68.92233333333333], \"legendgroup\": \"Kuwait\", \"locations\": [\"KWT\"], \"marker\": {\"color\": \"#19d3f3\", \"size\": [68.92233333333333], \"sizemode\": \"area\", \"sizeref\": 0.18706729166666666, \"symbol\": \"circle\"}, \"mode\": \"markers\", \"name\": \"Kuwait\", \"showlegend\": true, \"type\": \"scattergeo\"}, {\"customdata\": [[\"Lebanon\", 65.86566666666666]], \"geo\": \"geo\", \"hovertemplate\": \"<b>%{hovertext}</b><br><br>country=%{customdata[0]}<br>lifeExp=%{customdata[1]}<br>iso_alpha=%{location}<extra></extra>\", \"hovertext\": [65.86566666666666], \"legendgroup\": \"Lebanon\", \"locations\": [\"LBN\"], \"marker\": {\"color\": \"#FF6692\", \"size\": [65.86566666666666], \"sizemode\": \"area\", \"sizeref\": 0.18706729166666666, \"symbol\": \"circle\"}, \"mode\": \"markers\", \"name\": \"Lebanon\", \"showlegend\": true, \"type\": \"scattergeo\"}, {\"customdata\": [[\"Malaysia\", 64.27958333333332]], \"geo\": \"geo\", \"hovertemplate\": \"<b>%{hovertext}</b><br><br>country=%{customdata[0]}<br>lifeExp=%{customdata[1]}<br>iso_alpha=%{location}<extra></extra>\", \"hovertext\": [64.27958333333332], \"legendgroup\": \"Malaysia\", \"locations\": [\"MYS\"], \"marker\": {\"color\": \"#B6E880\", \"size\": [64.27958333333332], \"sizemode\": \"area\", \"sizeref\": 0.18706729166666666, \"symbol\": \"circle\"}, \"mode\": \"markers\", \"name\": \"Malaysia\", \"showlegend\": true, \"type\": \"scattergeo\"}, {\"customdata\": [[\"Mongolia\", 55.89033333333333]], \"geo\": \"geo\", \"hovertemplate\": \"<b>%{hovertext}</b><br><br>country=%{customdata[0]}<br>lifeExp=%{customdata[1]}<br>iso_alpha=%{location}<extra></extra>\", \"hovertext\": [55.89033333333333], \"legendgroup\": \"Mongolia\", \"locations\": [\"MNG\"], \"marker\": {\"color\": \"#FF97FF\", \"size\": [55.89033333333333], \"sizemode\": \"area\", \"sizeref\": 0.18706729166666666, \"symbol\": \"circle\"}, \"mode\": \"markers\", \"name\": \"Mongolia\", \"showlegend\": true, \"type\": \"scattergeo\"}, {\"customdata\": [[\"Myanmar\", 53.321666666666665]], \"geo\": \"geo\", \"hovertemplate\": \"<b>%{hovertext}</b><br><br>country=%{customdata[0]}<br>lifeExp=%{customdata[1]}<br>iso_alpha=%{location}<extra></extra>\", \"hovertext\": [53.321666666666665], \"legendgroup\": \"Myanmar\", \"locations\": [\"MMR\"], \"marker\": {\"color\": \"#FECB52\", \"size\": [53.321666666666665], \"sizemode\": \"area\", \"sizeref\": 0.18706729166666666, \"symbol\": \"circle\"}, \"mode\": \"markers\", \"name\": \"Myanmar\", \"showlegend\": true, \"type\": \"scattergeo\"}, {\"customdata\": [[\"Nepal\", 48.98633333333333]], \"geo\": \"geo\", \"hovertemplate\": \"<b>%{hovertext}</b><br><br>country=%{customdata[0]}<br>lifeExp=%{customdata[1]}<br>iso_alpha=%{location}<extra></extra>\", \"hovertext\": [48.98633333333333], \"legendgroup\": \"Nepal\", \"locations\": [\"NPL\"], \"marker\": {\"color\": \"#636efa\", \"size\": [48.98633333333333], \"sizemode\": \"area\", \"sizeref\": 0.18706729166666666, \"symbol\": \"circle\"}, \"mode\": \"markers\", \"name\": \"Nepal\", \"showlegend\": true, \"type\": \"scattergeo\"}, {\"customdata\": [[\"Oman\", 58.44266666666667]], \"geo\": \"geo\", \"hovertemplate\": \"<b>%{hovertext}</b><br><br>country=%{customdata[0]}<br>lifeExp=%{customdata[1]}<br>iso_alpha=%{location}<extra></extra>\", \"hovertext\": [58.44266666666667], \"legendgroup\": \"Oman\", \"locations\": [\"OMN\"], \"marker\": {\"color\": \"#EF553B\", \"size\": [58.44266666666667], \"sizemode\": \"area\", \"sizeref\": 0.18706729166666666, \"symbol\": \"circle\"}, \"mode\": \"markers\", \"name\": \"Oman\", \"showlegend\": true, \"type\": \"scattergeo\"}, {\"customdata\": [[\"Pakistan\", 54.88225]], \"geo\": \"geo\", \"hovertemplate\": \"<b>%{hovertext}</b><br><br>country=%{customdata[0]}<br>lifeExp=%{customdata[1]}<br>iso_alpha=%{location}<extra></extra>\", \"hovertext\": [54.88225], \"legendgroup\": \"Pakistan\", \"locations\": [\"PAK\"], \"marker\": {\"color\": \"#00cc96\", \"size\": [54.88225], \"sizemode\": \"area\", \"sizeref\": 0.18706729166666666, \"symbol\": \"circle\"}, \"mode\": \"markers\", \"name\": \"Pakistan\", \"showlegend\": true, \"type\": \"scattergeo\"}, {\"customdata\": [[\"Philippines\", 60.96725]], \"geo\": \"geo\", \"hovertemplate\": \"<b>%{hovertext}</b><br><br>country=%{customdata[0]}<br>lifeExp=%{customdata[1]}<br>iso_alpha=%{location}<extra></extra>\", \"hovertext\": [60.96725], \"legendgroup\": \"Philippines\", \"locations\": [\"PHL\"], \"marker\": {\"color\": \"#ab63fa\", \"size\": [60.96725], \"sizemode\": \"area\", \"sizeref\": 0.18706729166666666, \"symbol\": \"circle\"}, \"mode\": \"markers\", \"name\": \"Philippines\", \"showlegend\": true, \"type\": \"scattergeo\"}, {\"customdata\": [[\"Saudi Arabia\", 58.67875000000001]], \"geo\": \"geo\", \"hovertemplate\": \"<b>%{hovertext}</b><br><br>country=%{customdata[0]}<br>lifeExp=%{customdata[1]}<br>iso_alpha=%{location}<extra></extra>\", \"hovertext\": [58.67875000000001], \"legendgroup\": \"Saudi Arabia\", \"locations\": [\"SAU\"], \"marker\": {\"color\": \"#FFA15A\", \"size\": [58.67875000000001], \"sizemode\": \"area\", \"sizeref\": 0.18706729166666666, \"symbol\": \"circle\"}, \"mode\": \"markers\", \"name\": \"Saudi Arabia\", \"showlegend\": true, \"type\": \"scattergeo\"}, {\"customdata\": [[\"Singapore\", 71.22025]], \"geo\": \"geo\", \"hovertemplate\": \"<b>%{hovertext}</b><br><br>country=%{customdata[0]}<br>lifeExp=%{customdata[1]}<br>iso_alpha=%{location}<extra></extra>\", \"hovertext\": [71.22025], \"legendgroup\": \"Singapore\", \"locations\": [\"SGP\"], \"marker\": {\"color\": \"#19d3f3\", \"size\": [71.22025], \"sizemode\": \"area\", \"sizeref\": 0.18706729166666666, \"symbol\": \"circle\"}, \"mode\": \"markers\", \"name\": \"Singapore\", \"showlegend\": true, \"type\": \"scattergeo\"}, {\"customdata\": [[\"Sri Lanka\", 66.52608333333332]], \"geo\": \"geo\", \"hovertemplate\": \"<b>%{hovertext}</b><br><br>country=%{customdata[0]}<br>lifeExp=%{customdata[1]}<br>iso_alpha=%{location}<extra></extra>\", \"hovertext\": [66.52608333333332], \"legendgroup\": \"Sri Lanka\", \"locations\": [\"LKA\"], \"marker\": {\"color\": \"#FF6692\", \"size\": [66.52608333333332], \"sizemode\": \"area\", \"sizeref\": 0.18706729166666666, \"symbol\": \"circle\"}, \"mode\": \"markers\", \"name\": \"Sri Lanka\", \"showlegend\": true, \"type\": \"scattergeo\"}, {\"customdata\": [[\"Syria\", 61.34616666666667]], \"geo\": \"geo\", \"hovertemplate\": \"<b>%{hovertext}</b><br><br>country=%{customdata[0]}<br>lifeExp=%{customdata[1]}<br>iso_alpha=%{location}<extra></extra>\", \"hovertext\": [61.34616666666667], \"legendgroup\": \"Syria\", \"locations\": [\"SYR\"], \"marker\": {\"color\": \"#B6E880\", \"size\": [61.34616666666667], \"sizemode\": \"area\", \"sizeref\": 0.18706729166666666, \"symbol\": \"circle\"}, \"mode\": \"markers\", \"name\": \"Syria\", \"showlegend\": true, \"type\": \"scattergeo\"}, {\"customdata\": [[\"Taiwan\", 70.33666666666666]], \"geo\": \"geo\", \"hovertemplate\": \"<b>%{hovertext}</b><br><br>country=%{customdata[0]}<br>lifeExp=%{customdata[1]}<br>iso_alpha=%{location}<extra></extra>\", \"hovertext\": [70.33666666666666], \"legendgroup\": \"Taiwan\", \"locations\": [\"TWN\"], \"marker\": {\"color\": \"#FF97FF\", \"size\": [70.33666666666666], \"sizemode\": \"area\", \"sizeref\": 0.18706729166666666, \"symbol\": \"circle\"}, \"mode\": \"markers\", \"name\": \"Taiwan\", \"showlegend\": true, \"type\": \"scattergeo\"}, {\"customdata\": [[\"Thailand\", 62.20024999999999]], \"geo\": \"geo\", \"hovertemplate\": \"<b>%{hovertext}</b><br><br>country=%{customdata[0]}<br>lifeExp=%{customdata[1]}<br>iso_alpha=%{location}<extra></extra>\", \"hovertext\": [62.20024999999999], \"legendgroup\": \"Thailand\", \"locations\": [\"THA\"], \"marker\": {\"color\": \"#FECB52\", \"size\": [62.20024999999999], \"sizemode\": \"area\", \"sizeref\": 0.18706729166666666, \"symbol\": \"circle\"}, \"mode\": \"markers\", \"name\": \"Thailand\", \"showlegend\": true, \"type\": \"scattergeo\"}, {\"customdata\": [[\"Vietnam\", 57.479499999999994]], \"geo\": \"geo\", \"hovertemplate\": \"<b>%{hovertext}</b><br><br>country=%{customdata[0]}<br>lifeExp=%{customdata[1]}<br>iso_alpha=%{location}<extra></extra>\", \"hovertext\": [57.479499999999994], \"legendgroup\": \"Vietnam\", \"locations\": [\"VNM\"], \"marker\": {\"color\": \"#636efa\", \"size\": [57.479499999999994], \"sizemode\": \"area\", \"sizeref\": 0.18706729166666666, \"symbol\": \"circle\"}, \"mode\": \"markers\", \"name\": \"Vietnam\", \"showlegend\": true, \"type\": \"scattergeo\"}, {\"customdata\": [[\"West Bank and Gaza\", 60.32866666666667]], \"geo\": \"geo\", \"hovertemplate\": \"<b>%{hovertext}</b><br><br>country=%{customdata[0]}<br>lifeExp=%{customdata[1]}<br>iso_alpha=%{location}<extra></extra>\", \"hovertext\": [60.32866666666667], \"legendgroup\": \"West Bank and Gaza\", \"locations\": [\"PSE\"], \"marker\": {\"color\": \"#EF553B\", \"size\": [60.32866666666667], \"sizemode\": \"area\", \"sizeref\": 0.18706729166666666, \"symbol\": \"circle\"}, \"mode\": \"markers\", \"name\": \"West Bank and Gaza\", \"showlegend\": true, \"type\": \"scattergeo\"}, {\"customdata\": [[\"Yemen, Rep.\", 46.78041666666667]], \"geo\": \"geo\", \"hovertemplate\": \"<b>%{hovertext}</b><br><br>country=%{customdata[0]}<br>lifeExp=%{customdata[1]}<br>iso_alpha=%{location}<extra></extra>\", \"hovertext\": [46.78041666666667], \"legendgroup\": \"Yemen, Rep.\", \"locations\": [\"YEM\"], \"marker\": {\"color\": \"#00cc96\", \"size\": [46.78041666666667], \"sizemode\": \"area\", \"sizeref\": 0.18706729166666666, \"symbol\": \"circle\"}, \"mode\": \"markers\", \"name\": \"Yemen, Rep.\", \"showlegend\": true, \"type\": \"scattergeo\"}],                        {\"geo\": {\"center\": {}, \"domain\": {\"x\": [0.0, 1.0], \"y\": [0.0, 1.0]}, \"scope\": \"asia\"}, \"legend\": {\"itemsizing\": \"constant\", \"title\": {\"text\": \"country\"}, \"tracegroupgap\": 0}, \"template\": {\"data\": {\"bar\": [{\"error_x\": {\"color\": \"#2a3f5f\"}, \"error_y\": {\"color\": \"#2a3f5f\"}, \"marker\": {\"line\": {\"color\": \"#E5ECF6\", \"width\": 0.5}}, \"type\": \"bar\"}], \"barpolar\": [{\"marker\": {\"line\": {\"color\": \"#E5ECF6\", \"width\": 0.5}}, \"type\": \"barpolar\"}], \"carpet\": [{\"aaxis\": {\"endlinecolor\": \"#2a3f5f\", \"gridcolor\": \"white\", \"linecolor\": \"white\", \"minorgridcolor\": \"white\", \"startlinecolor\": \"#2a3f5f\"}, \"baxis\": {\"endlinecolor\": \"#2a3f5f\", \"gridcolor\": \"white\", \"linecolor\": \"white\", \"minorgridcolor\": \"white\", \"startlinecolor\": \"#2a3f5f\"}, \"type\": \"carpet\"}], \"choropleth\": [{\"colorbar\": {\"outlinewidth\": 0, \"ticks\": \"\"}, \"type\": \"choropleth\"}], \"contour\": [{\"colorbar\": {\"outlinewidth\": 0, \"ticks\": \"\"}, \"colorscale\": [[0.0, \"#0d0887\"], [0.1111111111111111, \"#46039f\"], [0.2222222222222222, \"#7201a8\"], [0.3333333333333333, \"#9c179e\"], [0.4444444444444444, \"#bd3786\"], [0.5555555555555556, \"#d8576b\"], [0.6666666666666666, \"#ed7953\"], [0.7777777777777778, \"#fb9f3a\"], [0.8888888888888888, \"#fdca26\"], [1.0, \"#f0f921\"]], \"type\": \"contour\"}], \"contourcarpet\": [{\"colorbar\": {\"outlinewidth\": 0, \"ticks\": \"\"}, \"type\": \"contourcarpet\"}], \"heatmap\": [{\"colorbar\": {\"outlinewidth\": 0, \"ticks\": \"\"}, \"colorscale\": [[0.0, \"#0d0887\"], [0.1111111111111111, \"#46039f\"], [0.2222222222222222, \"#7201a8\"], [0.3333333333333333, \"#9c179e\"], [0.4444444444444444, \"#bd3786\"], [0.5555555555555556, \"#d8576b\"], [0.6666666666666666, \"#ed7953\"], [0.7777777777777778, \"#fb9f3a\"], [0.8888888888888888, \"#fdca26\"], [1.0, \"#f0f921\"]], \"type\": \"heatmap\"}], \"heatmapgl\": [{\"colorbar\": {\"outlinewidth\": 0, \"ticks\": \"\"}, \"colorscale\": [[0.0, \"#0d0887\"], [0.1111111111111111, \"#46039f\"], [0.2222222222222222, \"#7201a8\"], [0.3333333333333333, \"#9c179e\"], [0.4444444444444444, \"#bd3786\"], [0.5555555555555556, \"#d8576b\"], [0.6666666666666666, \"#ed7953\"], [0.7777777777777778, \"#fb9f3a\"], [0.8888888888888888, \"#fdca26\"], [1.0, \"#f0f921\"]], \"type\": \"heatmapgl\"}], \"histogram\": [{\"marker\": {\"colorbar\": {\"outlinewidth\": 0, \"ticks\": \"\"}}, \"type\": \"histogram\"}], \"histogram2d\": [{\"colorbar\": {\"outlinewidth\": 0, \"ticks\": \"\"}, \"colorscale\": [[0.0, \"#0d0887\"], [0.1111111111111111, \"#46039f\"], [0.2222222222222222, \"#7201a8\"], [0.3333333333333333, \"#9c179e\"], [0.4444444444444444, \"#bd3786\"], [0.5555555555555556, \"#d8576b\"], [0.6666666666666666, \"#ed7953\"], [0.7777777777777778, \"#fb9f3a\"], [0.8888888888888888, \"#fdca26\"], [1.0, \"#f0f921\"]], \"type\": \"histogram2d\"}], \"histogram2dcontour\": [{\"colorbar\": {\"outlinewidth\": 0, \"ticks\": \"\"}, \"colorscale\": [[0.0, \"#0d0887\"], [0.1111111111111111, \"#46039f\"], [0.2222222222222222, \"#7201a8\"], [0.3333333333333333, \"#9c179e\"], [0.4444444444444444, \"#bd3786\"], [0.5555555555555556, \"#d8576b\"], [0.6666666666666666, \"#ed7953\"], [0.7777777777777778, \"#fb9f3a\"], [0.8888888888888888, \"#fdca26\"], [1.0, \"#f0f921\"]], \"type\": \"histogram2dcontour\"}], \"mesh3d\": [{\"colorbar\": {\"outlinewidth\": 0, \"ticks\": \"\"}, \"type\": \"mesh3d\"}], \"parcoords\": [{\"line\": {\"colorbar\": {\"outlinewidth\": 0, \"ticks\": \"\"}}, \"type\": \"parcoords\"}], \"pie\": [{\"automargin\": true, \"type\": \"pie\"}], \"scatter\": [{\"marker\": {\"colorbar\": {\"outlinewidth\": 0, \"ticks\": \"\"}}, \"type\": \"scatter\"}], \"scatter3d\": [{\"line\": {\"colorbar\": {\"outlinewidth\": 0, \"ticks\": \"\"}}, \"marker\": {\"colorbar\": {\"outlinewidth\": 0, \"ticks\": \"\"}}, \"type\": \"scatter3d\"}], \"scattercarpet\": [{\"marker\": {\"colorbar\": {\"outlinewidth\": 0, \"ticks\": \"\"}}, \"type\": \"scattercarpet\"}], \"scattergeo\": [{\"marker\": {\"colorbar\": {\"outlinewidth\": 0, \"ticks\": \"\"}}, \"type\": \"scattergeo\"}], \"scattergl\": [{\"marker\": {\"colorbar\": {\"outlinewidth\": 0, \"ticks\": \"\"}}, \"type\": \"scattergl\"}], \"scattermapbox\": [{\"marker\": {\"colorbar\": {\"outlinewidth\": 0, \"ticks\": \"\"}}, \"type\": \"scattermapbox\"}], \"scatterpolar\": [{\"marker\": {\"colorbar\": {\"outlinewidth\": 0, \"ticks\": \"\"}}, \"type\": \"scatterpolar\"}], \"scatterpolargl\": [{\"marker\": {\"colorbar\": {\"outlinewidth\": 0, \"ticks\": \"\"}}, \"type\": \"scatterpolargl\"}], \"scatterternary\": [{\"marker\": {\"colorbar\": {\"outlinewidth\": 0, \"ticks\": \"\"}}, \"type\": \"scatterternary\"}], \"surface\": [{\"colorbar\": {\"outlinewidth\": 0, \"ticks\": \"\"}, \"colorscale\": [[0.0, \"#0d0887\"], [0.1111111111111111, \"#46039f\"], [0.2222222222222222, \"#7201a8\"], [0.3333333333333333, \"#9c179e\"], [0.4444444444444444, \"#bd3786\"], [0.5555555555555556, \"#d8576b\"], [0.6666666666666666, \"#ed7953\"], [0.7777777777777778, \"#fb9f3a\"], [0.8888888888888888, \"#fdca26\"], [1.0, \"#f0f921\"]], \"type\": \"surface\"}], \"table\": [{\"cells\": {\"fill\": {\"color\": \"#EBF0F8\"}, \"line\": {\"color\": \"white\"}}, \"header\": {\"fill\": {\"color\": \"#C8D4E3\"}, \"line\": {\"color\": \"white\"}}, \"type\": \"table\"}]}, \"layout\": {\"annotationdefaults\": {\"arrowcolor\": \"#2a3f5f\", \"arrowhead\": 0, \"arrowwidth\": 1}, \"autotypenumbers\": \"strict\", \"coloraxis\": {\"colorbar\": {\"outlinewidth\": 0, \"ticks\": \"\"}}, \"colorscale\": {\"diverging\": [[0, \"#8e0152\"], [0.1, \"#c51b7d\"], [0.2, \"#de77ae\"], [0.3, \"#f1b6da\"], [0.4, \"#fde0ef\"], [0.5, \"#f7f7f7\"], [0.6, \"#e6f5d0\"], [0.7, \"#b8e186\"], [0.8, \"#7fbc41\"], [0.9, \"#4d9221\"], [1, \"#276419\"]], \"sequential\": [[0.0, \"#0d0887\"], [0.1111111111111111, \"#46039f\"], [0.2222222222222222, \"#7201a8\"], [0.3333333333333333, \"#9c179e\"], [0.4444444444444444, \"#bd3786\"], [0.5555555555555556, \"#d8576b\"], [0.6666666666666666, \"#ed7953\"], [0.7777777777777778, \"#fb9f3a\"], [0.8888888888888888, \"#fdca26\"], [1.0, \"#f0f921\"]], \"sequentialminus\": [[0.0, \"#0d0887\"], [0.1111111111111111, \"#46039f\"], [0.2222222222222222, \"#7201a8\"], [0.3333333333333333, \"#9c179e\"], [0.4444444444444444, \"#bd3786\"], [0.5555555555555556, \"#d8576b\"], [0.6666666666666666, \"#ed7953\"], [0.7777777777777778, \"#fb9f3a\"], [0.8888888888888888, \"#fdca26\"], [1.0, \"#f0f921\"]]}, \"colorway\": [\"#636efa\", \"#EF553B\", \"#00cc96\", \"#ab63fa\", \"#FFA15A\", \"#19d3f3\", \"#FF6692\", \"#B6E880\", \"#FF97FF\", \"#FECB52\"], \"font\": {\"color\": \"#2a3f5f\"}, \"geo\": {\"bgcolor\": \"white\", \"lakecolor\": \"white\", \"landcolor\": \"#E5ECF6\", \"showlakes\": true, \"showland\": true, \"subunitcolor\": \"white\"}, \"hoverlabel\": {\"align\": \"left\"}, \"hovermode\": \"closest\", \"mapbox\": {\"style\": \"light\"}, \"paper_bgcolor\": \"white\", \"plot_bgcolor\": \"#E5ECF6\", \"polar\": {\"angularaxis\": {\"gridcolor\": \"white\", \"linecolor\": \"white\", \"ticks\": \"\"}, \"bgcolor\": \"#E5ECF6\", \"radialaxis\": {\"gridcolor\": \"white\", \"linecolor\": \"white\", \"ticks\": \"\"}}, \"scene\": {\"xaxis\": {\"backgroundcolor\": \"#E5ECF6\", \"gridcolor\": \"white\", \"gridwidth\": 2, \"linecolor\": \"white\", \"showbackground\": true, \"ticks\": \"\", \"zerolinecolor\": \"white\"}, \"yaxis\": {\"backgroundcolor\": \"#E5ECF6\", \"gridcolor\": \"white\", \"gridwidth\": 2, \"linecolor\": \"white\", \"showbackground\": true, \"ticks\": \"\", \"zerolinecolor\": \"white\"}, \"zaxis\": {\"backgroundcolor\": \"#E5ECF6\", \"gridcolor\": \"white\", \"gridwidth\": 2, \"linecolor\": \"white\", \"showbackground\": true, \"ticks\": \"\", \"zerolinecolor\": \"white\"}}, \"shapedefaults\": {\"line\": {\"color\": \"#2a3f5f\"}}, \"ternary\": {\"aaxis\": {\"gridcolor\": \"white\", \"linecolor\": \"white\", \"ticks\": \"\"}, \"baxis\": {\"gridcolor\": \"white\", \"linecolor\": \"white\", \"ticks\": \"\"}, \"bgcolor\": \"#E5ECF6\", \"caxis\": {\"gridcolor\": \"white\", \"linecolor\": \"white\", \"ticks\": \"\"}}, \"title\": {\"x\": 0.05}, \"xaxis\": {\"automargin\": true, \"gridcolor\": \"white\", \"linecolor\": \"white\", \"ticks\": \"\", \"title\": {\"standoff\": 15}, \"zerolinecolor\": \"white\", \"zerolinewidth\": 2}, \"yaxis\": {\"automargin\": true, \"gridcolor\": \"white\", \"linecolor\": \"white\", \"ticks\": \"\", \"title\": {\"standoff\": 15}, \"zerolinecolor\": \"white\", \"zerolinewidth\": 2}}}, \"title\": {\"text\": \"Mean life expectancy of all the Asian countries\"}},                        {\"responsive\": true}                    ).then(function(){\n",
       "                            \n",
       "var gd = document.getElementById('ac7b4ddc-e560-44e2-8484-9b4810f26a0f');\n",
       "var x = new MutationObserver(function (mutations, observer) {{\n",
       "        var display = window.getComputedStyle(gd).display;\n",
       "        if (!display || display === 'none') {{\n",
       "            console.log([gd, 'removed!']);\n",
       "            Plotly.purge(gd);\n",
       "            observer.disconnect();\n",
       "        }}\n",
       "}});\n",
       "\n",
       "// Listen for the removal of the full notebook cells\n",
       "var notebookContainer = gd.closest('#notebook-container');\n",
       "if (notebookContainer) {{\n",
       "    x.observe(notebookContainer, {childList: true});\n",
       "}}\n",
       "\n",
       "// Listen for the clearing of the current output cell\n",
       "var outputEl = gd.closest('.output');\n",
       "if (outputEl) {{\n",
       "    x.observe(outputEl, {childList: true});\n",
       "}}\n",
       "\n",
       "                        })                };                });            </script>        </div>"
      ]
     },
     "metadata": {},
     "output_type": "display_data"
    }
   ],
   "source": [
    "mean=df.groupby(['country', 'continent', 'iso_alpha'])['lifeExp'].mean().reset_index()\n",
    "\n",
    "meanAsia = mean.loc[mean['continent']=='Asia']\n",
    "meanAsia\n",
    "\n",
    "fig = px.scatter_geo(meanAsia, locations=\"iso_alpha\", size=\"lifeExp\", hover_name=\"lifeExp\" , hover_data=[ \"country\",\"lifeExp\"], color=\"country\", title = 'Mean life expectancy of all the Asian countries')\n",
    "\n",
    "fig.update_layout(\n",
    "        geo_scope='asia',\n",
    "                 )\n",
    "\n",
    "fig.show()\n"
   ]
  },
  {
   "cell_type": "markdown",
   "metadata": {},
   "source": [
    "###### QUESTION 2 >>> Deviation in GDP of each country in Europe and South America.\n"
   ]
  },
  {
   "cell_type": "code",
   "execution_count": 84,
   "metadata": {},
   "outputs": [
    {
     "data": {
      "application/vnd.plotly.v1+json": {
       "config": {
        "plotlyServerURL": "https://plot.ly"
       },
       "data": [
        {
         "customdata": [
          [
           "Albania",
           1192.3515128271426
          ]
         ],
         "geo": "geo",
         "hovertemplate": "<b>%{hovertext}</b><br><br>country=%{customdata[0]}<br>gdpPercap=%{customdata[1]}<br>iso_alpha=%{location}<extra></extra>",
         "hovertext": [
          1192.3515128271426
         ],
         "legendgroup": "Albania",
         "locations": [
          "ALB"
         ],
         "marker": {
          "color": "#636efa",
          "size": [
           1192.3515128271426
          ],
          "sizemode": "area",
          "sizeref": 33.55486811270874,
          "symbol": "circle"
         },
         "mode": "markers",
         "name": "Albania",
         "showlegend": true,
         "type": "scattergeo"
        },
        {
         "customdata": [
          [
           "Austria",
           9655.281487936998
          ]
         ],
         "geo": "geo",
         "hovertemplate": "<b>%{hovertext}</b><br><br>country=%{customdata[0]}<br>gdpPercap=%{customdata[1]}<br>iso_alpha=%{location}<extra></extra>",
         "hovertext": [
          9655.281487936998
         ],
         "legendgroup": "Austria",
         "locations": [
          "AUT"
         ],
         "marker": {
          "color": "#EF553B",
          "size": [
           9655.281487936998
          ],
          "sizemode": "area",
          "sizeref": 33.55486811270874,
          "symbol": "circle"
         },
         "mode": "markers",
         "name": "Austria",
         "showlegend": true,
         "type": "scattergeo"
        },
        {
         "customdata": [
          [
           "Belgium",
           8391.186269123447
          ]
         ],
         "geo": "geo",
         "hovertemplate": "<b>%{hovertext}</b><br><br>country=%{customdata[0]}<br>gdpPercap=%{customdata[1]}<br>iso_alpha=%{location}<extra></extra>",
         "hovertext": [
          8391.186269123447
         ],
         "legendgroup": "Belgium",
         "locations": [
          "BEL"
         ],
         "marker": {
          "color": "#00cc96",
          "size": [
           8391.186269123447
          ],
          "sizemode": "area",
          "sizeref": 33.55486811270874,
          "symbol": "circle"
         },
         "mode": "markers",
         "name": "Belgium",
         "showlegend": true,
         "type": "scattergeo"
        },
        {
         "customdata": [
          [
           "Bosnia and Herzegovina",
           1950.5223467714338
          ]
         ],
         "geo": "geo",
         "hovertemplate": "<b>%{hovertext}</b><br><br>country=%{customdata[0]}<br>gdpPercap=%{customdata[1]}<br>iso_alpha=%{location}<extra></extra>",
         "hovertext": [
          1950.5223467714338
         ],
         "legendgroup": "Bosnia and Herzegovina",
         "locations": [
          "BIH"
         ],
         "marker": {
          "color": "#ab63fa",
          "size": [
           1950.5223467714338
          ],
          "sizemode": "area",
          "sizeref": 33.55486811270874,
          "symbol": "circle"
         },
         "mode": "markers",
         "name": "Bosnia and Herzegovina",
         "showlegend": true,
         "type": "scattergeo"
        },
        {
         "customdata": [
          [
           "Bulgaria",
           2351.963618965281
          ]
         ],
         "geo": "geo",
         "hovertemplate": "<b>%{hovertext}</b><br><br>country=%{customdata[0]}<br>gdpPercap=%{customdata[1]}<br>iso_alpha=%{location}<extra></extra>",
         "hovertext": [
          2351.963618965281
         ],
         "legendgroup": "Bulgaria",
         "locations": [
          "BGR"
         ],
         "marker": {
          "color": "#FFA15A",
          "size": [
           2351.963618965281
          ],
          "sizemode": "area",
          "sizeref": 33.55486811270874,
          "symbol": "circle"
         },
         "mode": "markers",
         "name": "Bulgaria",
         "showlegend": true,
         "type": "scattergeo"
        },
        {
         "customdata": [
          [
           "Croatia",
           3784.4086630384404
          ]
         ],
         "geo": "geo",
         "hovertemplate": "<b>%{hovertext}</b><br><br>country=%{customdata[0]}<br>gdpPercap=%{customdata[1]}<br>iso_alpha=%{location}<extra></extra>",
         "hovertext": [
          3784.4086630384404
         ],
         "legendgroup": "Croatia",
         "locations": [
          "HRV"
         ],
         "marker": {
          "color": "#19d3f3",
          "size": [
           3784.4086630384404
          ],
          "sizemode": "area",
          "sizeref": 33.55486811270874,
          "symbol": "circle"
         },
         "mode": "markers",
         "name": "Croatia",
         "showlegend": true,
         "type": "scattergeo"
        },
        {
         "customdata": [
          [
           "Czech Republic",
           4361.646746815699
          ]
         ],
         "geo": "geo",
         "hovertemplate": "<b>%{hovertext}</b><br><br>country=%{customdata[0]}<br>gdpPercap=%{customdata[1]}<br>iso_alpha=%{location}<extra></extra>",
         "hovertext": [
          4361.646746815699
         ],
         "legendgroup": "Czech Republic",
         "locations": [
          "CZE"
         ],
         "marker": {
          "color": "#FF6692",
          "size": [
           4361.646746815699
          ],
          "sizemode": "area",
          "sizeref": 33.55486811270874,
          "symbol": "circle"
         },
         "mode": "markers",
         "name": "Czech Republic",
         "showlegend": true,
         "type": "scattergeo"
        },
        {
         "customdata": [
          [
           "Denmark",
           8305.077866370926
          ]
         ],
         "geo": "geo",
         "hovertemplate": "<b>%{hovertext}</b><br><br>country=%{customdata[0]}<br>gdpPercap=%{customdata[1]}<br>iso_alpha=%{location}<extra></extra>",
         "hovertext": [
          8305.077866370926
         ],
         "legendgroup": "Denmark",
         "locations": [
          "DNK"
         ],
         "marker": {
          "color": "#B6E880",
          "size": [
           8305.077866370926
          ],
          "sizemode": "area",
          "sizeref": 33.55486811270874,
          "symbol": "circle"
         },
         "mode": "markers",
         "name": "Denmark",
         "showlegend": true,
         "type": "scattergeo"
        },
        {
         "customdata": [
          [
           "Finland",
           8360.17067395112
          ]
         ],
         "geo": "geo",
         "hovertemplate": "<b>%{hovertext}</b><br><br>country=%{customdata[0]}<br>gdpPercap=%{customdata[1]}<br>iso_alpha=%{location}<extra></extra>",
         "hovertext": [
          8360.17067395112
         ],
         "legendgroup": "Finland",
         "locations": [
          "FIN"
         ],
         "marker": {
          "color": "#FF97FF",
          "size": [
           8360.17067395112
          ],
          "sizemode": "area",
          "sizeref": 33.55486811270874,
          "symbol": "circle"
         },
         "mode": "markers",
         "name": "Finland",
         "showlegend": true,
         "type": "scattergeo"
        },
        {
         "customdata": [
          [
           "France",
           7903.234226966455
          ]
         ],
         "geo": "geo",
         "hovertemplate": "<b>%{hovertext}</b><br><br>country=%{customdata[0]}<br>gdpPercap=%{customdata[1]}<br>iso_alpha=%{location}<extra></extra>",
         "hovertext": [
          7903.234226966455
         ],
         "legendgroup": "France",
         "locations": [
          "FRA"
         ],
         "marker": {
          "color": "#FECB52",
          "size": [
           7903.234226966455
          ],
          "sizemode": "area",
          "sizeref": 33.55486811270874,
          "symbol": "circle"
         },
         "mode": "markers",
         "name": "France",
         "showlegend": true,
         "type": "scattergeo"
        },
        {
         "customdata": [
          [
           "Germany",
           8076.261912882131
          ]
         ],
         "geo": "geo",
         "hovertemplate": "<b>%{hovertext}</b><br><br>country=%{customdata[0]}<br>gdpPercap=%{customdata[1]}<br>iso_alpha=%{location}<extra></extra>",
         "hovertext": [
          8076.261912882131
         ],
         "legendgroup": "Germany",
         "locations": [
          "DEU"
         ],
         "marker": {
          "color": "#636efa",
          "size": [
           8076.261912882131
          ],
          "sizemode": "area",
          "sizeref": 33.55486811270874,
          "symbol": "circle"
         },
         "mode": "markers",
         "name": "Germany",
         "showlegend": true,
         "type": "scattergeo"
        },
        {
         "customdata": [
          [
           "Greece",
           7289.928845391456
          ]
         ],
         "geo": "geo",
         "hovertemplate": "<b>%{hovertext}</b><br><br>country=%{customdata[0]}<br>gdpPercap=%{customdata[1]}<br>iso_alpha=%{location}<extra></extra>",
         "hovertext": [
          7289.928845391456
         ],
         "legendgroup": "Greece",
         "locations": [
          "GRC"
         ],
         "marker": {
          "color": "#EF553B",
          "size": [
           7289.928845391456
          ],
          "sizemode": "area",
          "sizeref": 33.55486811270874,
          "symbol": "circle"
         },
         "mode": "markers",
         "name": "Greece",
         "showlegend": true,
         "type": "scattergeo"
        },
        {
         "customdata": [
          [
           "Hungary",
           3620.1819840212697
          ]
         ],
         "geo": "geo",
         "hovertemplate": "<b>%{hovertext}</b><br><br>country=%{customdata[0]}<br>gdpPercap=%{customdata[1]}<br>iso_alpha=%{location}<extra></extra>",
         "hovertext": [
          3620.1819840212697
         ],
         "legendgroup": "Hungary",
         "locations": [
          "HUN"
         ],
         "marker": {
          "color": "#00cc96",
          "size": [
           3620.1819840212697
          ],
          "sizemode": "area",
          "sizeref": 33.55486811270874,
          "symbol": "circle"
         },
         "mode": "markers",
         "name": "Hungary",
         "showlegend": true,
         "type": "scattergeo"
        },
        {
         "customdata": [
          [
           "Iceland",
           9373.245892793891
          ]
         ],
         "geo": "geo",
         "hovertemplate": "<b>%{hovertext}</b><br><br>country=%{customdata[0]}<br>gdpPercap=%{customdata[1]}<br>iso_alpha=%{location}<extra></extra>",
         "hovertext": [
          9373.245892793891
         ],
         "legendgroup": "Iceland",
         "locations": [
          "ISL"
         ],
         "marker": {
          "color": "#ab63fa",
          "size": [
           9373.245892793891
          ],
          "sizemode": "area",
          "sizeref": 33.55486811270874,
          "symbol": "circle"
         },
         "mode": "markers",
         "name": "Iceland",
         "showlegend": true,
         "type": "scattergeo"
        },
        {
         "customdata": [
          [
           "Ireland",
           11573.311021961543
          ]
         ],
         "geo": "geo",
         "hovertemplate": "<b>%{hovertext}</b><br><br>country=%{customdata[0]}<br>gdpPercap=%{customdata[1]}<br>iso_alpha=%{location}<extra></extra>",
         "hovertext": [
          11573.311021961543
         ],
         "legendgroup": "Ireland",
         "locations": [
          "IRL"
         ],
         "marker": {
          "color": "#FFA15A",
          "size": [
           11573.311021961543
          ],
          "sizemode": "area",
          "sizeref": 33.55486811270874,
          "symbol": "circle"
         },
         "mode": "markers",
         "name": "Ireland",
         "showlegend": true,
         "type": "scattergeo"
        },
        {
         "customdata": [
          [
           "Italy",
           8273.523174155274
          ]
         ],
         "geo": "geo",
         "hovertemplate": "<b>%{hovertext}</b><br><br>country=%{customdata[0]}<br>gdpPercap=%{customdata[1]}<br>iso_alpha=%{location}<extra></extra>",
         "hovertext": [
          8273.523174155274
         ],
         "legendgroup": "Italy",
         "locations": [
          "ITA"
         ],
         "marker": {
          "color": "#19d3f3",
          "size": [
           8273.523174155274
          ],
          "sizemode": "area",
          "sizeref": 33.55486811270874,
          "symbol": "circle"
         },
         "mode": "markers",
         "name": "Italy",
         "showlegend": true,
         "type": "scattergeo"
        },
        {
         "customdata": [
          [
           "Montenegro",
           2848.9552003110725
          ]
         ],
         "geo": "geo",
         "hovertemplate": "<b>%{hovertext}</b><br><br>country=%{customdata[0]}<br>gdpPercap=%{customdata[1]}<br>iso_alpha=%{location}<extra></extra>",
         "hovertext": [
          2848.9552003110725
         ],
         "legendgroup": "Montenegro",
         "locations": [
          "MNE"
         ],
         "marker": {
          "color": "#FF6692",
          "size": [
           2848.9552003110725
          ],
          "sizemode": "area",
          "sizeref": 33.55486811270874,
          "symbol": "circle"
         },
         "mode": "markers",
         "name": "Montenegro",
         "showlegend": true,
         "type": "scattergeo"
        },
        {
         "customdata": [
          [
           "Netherlands",
           8918.866410855815
          ]
         ],
         "geo": "geo",
         "hovertemplate": "<b>%{hovertext}</b><br><br>country=%{customdata[0]}<br>gdpPercap=%{customdata[1]}<br>iso_alpha=%{location}<extra></extra>",
         "hovertext": [
          8918.866410855815
         ],
         "legendgroup": "Netherlands",
         "locations": [
          "NLD"
         ],
         "marker": {
          "color": "#B6E880",
          "size": [
           8918.866410855815
          ],
          "sizemode": "area",
          "sizeref": 33.55486811270874,
          "symbol": "circle"
         },
         "mode": "markers",
         "name": "Netherlands",
         "showlegend": true,
         "type": "scattergeo"
        },
        {
         "customdata": [
          [
           "Norway",
           13421.947245083496
          ]
         ],
         "geo": "geo",
         "hovertemplate": "<b>%{hovertext}</b><br><br>country=%{customdata[0]}<br>gdpPercap=%{customdata[1]}<br>iso_alpha=%{location}<extra></extra>",
         "hovertext": [
          13421.947245083496
         ],
         "legendgroup": "Norway",
         "locations": [
          "NOR"
         ],
         "marker": {
          "color": "#FF97FF",
          "size": [
           13421.947245083496
          ],
          "sizemode": "area",
          "sizeref": 33.55486811270874,
          "symbol": "circle"
         },
         "mode": "markers",
         "name": "Norway",
         "showlegend": true,
         "type": "scattergeo"
        },
        {
         "customdata": [
          [
           "Poland",
           3198.3512045852826
          ]
         ],
         "geo": "geo",
         "hovertemplate": "<b>%{hovertext}</b><br><br>country=%{customdata[0]}<br>gdpPercap=%{customdata[1]}<br>iso_alpha=%{location}<extra></extra>",
         "hovertext": [
          3198.3512045852826
         ],
         "legendgroup": "Poland",
         "locations": [
          "POL"
         ],
         "marker": {
          "color": "#FECB52",
          "size": [
           3198.3512045852826
          ],
          "sizemode": "area",
          "sizeref": 33.55486811270874,
          "symbol": "circle"
         },
         "mode": "markers",
         "name": "Poland",
         "showlegend": true,
         "type": "scattergeo"
        },
        {
         "customdata": [
          [
           "Portugal",
           6222.544893656536
          ]
         ],
         "geo": "geo",
         "hovertemplate": "<b>%{hovertext}</b><br><br>country=%{customdata[0]}<br>gdpPercap=%{customdata[1]}<br>iso_alpha=%{location}<extra></extra>",
         "hovertext": [
          6222.544893656536
         ],
         "legendgroup": "Portugal",
         "locations": [
          "PRT"
         ],
         "marker": {
          "color": "#636efa",
          "size": [
           6222.544893656536
          ],
          "sizemode": "area",
          "sizeref": 33.55486811270874,
          "symbol": "circle"
         },
         "mode": "markers",
         "name": "Portugal",
         "showlegend": true,
         "type": "scattergeo"
        },
        {
         "customdata": [
          [
           "Romania",
           2425.9735414266147
          ]
         ],
         "geo": "geo",
         "hovertemplate": "<b>%{hovertext}</b><br><br>country=%{customdata[0]}<br>gdpPercap=%{customdata[1]}<br>iso_alpha=%{location}<extra></extra>",
         "hovertext": [
          2425.9735414266147
         ],
         "legendgroup": "Romania",
         "locations": [
          "ROU"
         ],
         "marker": {
          "color": "#EF553B",
          "size": [
           2425.9735414266147
          ],
          "sizemode": "area",
          "sizeref": 33.55486811270874,
          "symbol": "circle"
         },
         "mode": "markers",
         "name": "Romania",
         "showlegend": true,
         "type": "scattergeo"
        },
        {
         "customdata": [
          [
           "Serbia",
           3829.9068362833264
          ]
         ],
         "geo": "geo",
         "hovertemplate": "<b>%{hovertext}</b><br><br>country=%{customdata[0]}<br>gdpPercap=%{customdata[1]}<br>iso_alpha=%{location}<extra></extra>",
         "hovertext": [
          3829.9068362833264
         ],
         "legendgroup": "Serbia",
         "locations": [
          "SRB"
         ],
         "marker": {
          "color": "#00cc96",
          "size": [
           3829.9068362833264
          ],
          "sizemode": "area",
          "sizeref": 33.55486811270874,
          "symbol": "circle"
         },
         "mode": "markers",
         "name": "Serbia",
         "showlegend": true,
         "type": "scattergeo"
        },
        {
         "customdata": [
          [
           "Slovak Republic",
           3650.2308262197657
          ]
         ],
         "geo": "geo",
         "hovertemplate": "<b>%{hovertext}</b><br><br>country=%{customdata[0]}<br>gdpPercap=%{customdata[1]}<br>iso_alpha=%{location}<extra></extra>",
         "hovertext": [
          3650.2308262197657
         ],
         "legendgroup": "Slovak Republic",
         "locations": [
          "SVK"
         ],
         "marker": {
          "color": "#ab63fa",
          "size": [
           3650.2308262197657
          ],
          "sizemode": "area",
          "sizeref": 33.55486811270874,
          "symbol": "circle"
         },
         "mode": "markers",
         "name": "Slovak Republic",
         "showlegend": true,
         "type": "scattergeo"
        },
        {
         "customdata": [
          [
           "Slovenia",
           6470.288209477645
          ]
         ],
         "geo": "geo",
         "hovertemplate": "<b>%{hovertext}</b><br><br>country=%{customdata[0]}<br>gdpPercap=%{customdata[1]}<br>iso_alpha=%{location}<extra></extra>",
         "hovertext": [
          6470.288209477645
         ],
         "legendgroup": "Slovenia",
         "locations": [
          "SVN"
         ],
         "marker": {
          "color": "#FFA15A",
          "size": [
           6470.288209477645
          ],
          "sizemode": "area",
          "sizeref": 33.55486811270874,
          "symbol": "circle"
         },
         "mode": "markers",
         "name": "Slovenia",
         "showlegend": true,
         "type": "scattergeo"
        },
        {
         "customdata": [
          [
           "Spain",
           8046.634571300094
          ]
         ],
         "geo": "geo",
         "hovertemplate": "<b>%{hovertext}</b><br><br>country=%{customdata[0]}<br>gdpPercap=%{customdata[1]}<br>iso_alpha=%{location}<extra></extra>",
         "hovertext": [
          8046.634571300094
         ],
         "legendgroup": "Spain",
         "locations": [
          "ESP"
         ],
         "marker": {
          "color": "#19d3f3",
          "size": [
           8046.634571300094
          ],
          "sizemode": "area",
          "sizeref": 33.55486811270874,
          "symbol": "circle"
         },
         "mode": "markers",
         "name": "Spain",
         "showlegend": true,
         "type": "scattergeo"
        },
        {
         "customdata": [
          [
           "Sweden",
           7723.247842796874
          ]
         ],
         "geo": "geo",
         "hovertemplate": "<b>%{hovertext}</b><br><br>country=%{customdata[0]}<br>gdpPercap=%{customdata[1]}<br>iso_alpha=%{location}<extra></extra>",
         "hovertext": [
          7723.247842796874
         ],
         "legendgroup": "Sweden",
         "locations": [
          "SWE"
         ],
         "marker": {
          "color": "#FF6692",
          "size": [
           7723.247842796874
          ],
          "sizemode": "area",
          "sizeref": 33.55486811270874,
          "symbol": "circle"
         },
         "mode": "markers",
         "name": "Sweden",
         "showlegend": true,
         "type": "scattergeo"
        },
        {
         "customdata": [
          [
           "Switzerland",
           6886.463308080273
          ]
         ],
         "geo": "geo",
         "hovertemplate": "<b>%{hovertext}</b><br><br>country=%{customdata[0]}<br>gdpPercap=%{customdata[1]}<br>iso_alpha=%{location}<extra></extra>",
         "hovertext": [
          6886.463308080273
         ],
         "legendgroup": "Switzerland",
         "locations": [
          "CHE"
         ],
         "marker": {
          "color": "#B6E880",
          "size": [
           6886.463308080273
          ],
          "sizemode": "area",
          "sizeref": 33.55486811270874,
          "symbol": "circle"
         },
         "mode": "markers",
         "name": "Switzerland",
         "showlegend": true,
         "type": "scattergeo"
        },
        {
         "customdata": [
          [
           "Turkey",
           2049.665101880844
          ]
         ],
         "geo": "geo",
         "hovertemplate": "<b>%{hovertext}</b><br><br>country=%{customdata[0]}<br>gdpPercap=%{customdata[1]}<br>iso_alpha=%{location}<extra></extra>",
         "hovertext": [
          2049.665101880844
         ],
         "legendgroup": "Turkey",
         "locations": [
          "TUR"
         ],
         "marker": {
          "color": "#FF97FF",
          "size": [
           2049.665101880844
          ],
          "sizemode": "area",
          "sizeref": 33.55486811270874,
          "symbol": "circle"
         },
         "mode": "markers",
         "name": "Turkey",
         "showlegend": true,
         "type": "scattergeo"
        },
        {
         "customdata": [
          [
           "United Kingdom",
           7388.189398602921
          ]
         ],
         "geo": "geo",
         "hovertemplate": "<b>%{hovertext}</b><br><br>country=%{customdata[0]}<br>gdpPercap=%{customdata[1]}<br>iso_alpha=%{location}<extra></extra>",
         "hovertext": [
          7388.189398602921
         ],
         "legendgroup": "United Kingdom",
         "locations": [
          "GBR"
         ],
         "marker": {
          "color": "#FECB52",
          "size": [
           7388.189398602921
          ],
          "sizemode": "area",
          "sizeref": 33.55486811270874,
          "symbol": "circle"
         },
         "mode": "markers",
         "name": "United Kingdom",
         "showlegend": true,
         "type": "scattergeo"
        }
       ],
       "layout": {
        "geo": {
         "center": {},
         "domain": {
          "x": [
           0,
           1
          ],
          "y": [
           0,
           1
          ]
         },
         "scope": "europe"
        },
        "legend": {
         "itemsizing": "constant",
         "title": {
          "text": "country"
         },
         "tracegroupgap": 0
        },
        "template": {
         "data": {
          "bar": [
           {
            "error_x": {
             "color": "#2a3f5f"
            },
            "error_y": {
             "color": "#2a3f5f"
            },
            "marker": {
             "line": {
              "color": "#E5ECF6",
              "width": 0.5
             }
            },
            "type": "bar"
           }
          ],
          "barpolar": [
           {
            "marker": {
             "line": {
              "color": "#E5ECF6",
              "width": 0.5
             }
            },
            "type": "barpolar"
           }
          ],
          "carpet": [
           {
            "aaxis": {
             "endlinecolor": "#2a3f5f",
             "gridcolor": "white",
             "linecolor": "white",
             "minorgridcolor": "white",
             "startlinecolor": "#2a3f5f"
            },
            "baxis": {
             "endlinecolor": "#2a3f5f",
             "gridcolor": "white",
             "linecolor": "white",
             "minorgridcolor": "white",
             "startlinecolor": "#2a3f5f"
            },
            "type": "carpet"
           }
          ],
          "choropleth": [
           {
            "colorbar": {
             "outlinewidth": 0,
             "ticks": ""
            },
            "type": "choropleth"
           }
          ],
          "contour": [
           {
            "colorbar": {
             "outlinewidth": 0,
             "ticks": ""
            },
            "colorscale": [
             [
              0,
              "#0d0887"
             ],
             [
              0.1111111111111111,
              "#46039f"
             ],
             [
              0.2222222222222222,
              "#7201a8"
             ],
             [
              0.3333333333333333,
              "#9c179e"
             ],
             [
              0.4444444444444444,
              "#bd3786"
             ],
             [
              0.5555555555555556,
              "#d8576b"
             ],
             [
              0.6666666666666666,
              "#ed7953"
             ],
             [
              0.7777777777777778,
              "#fb9f3a"
             ],
             [
              0.8888888888888888,
              "#fdca26"
             ],
             [
              1,
              "#f0f921"
             ]
            ],
            "type": "contour"
           }
          ],
          "contourcarpet": [
           {
            "colorbar": {
             "outlinewidth": 0,
             "ticks": ""
            },
            "type": "contourcarpet"
           }
          ],
          "heatmap": [
           {
            "colorbar": {
             "outlinewidth": 0,
             "ticks": ""
            },
            "colorscale": [
             [
              0,
              "#0d0887"
             ],
             [
              0.1111111111111111,
              "#46039f"
             ],
             [
              0.2222222222222222,
              "#7201a8"
             ],
             [
              0.3333333333333333,
              "#9c179e"
             ],
             [
              0.4444444444444444,
              "#bd3786"
             ],
             [
              0.5555555555555556,
              "#d8576b"
             ],
             [
              0.6666666666666666,
              "#ed7953"
             ],
             [
              0.7777777777777778,
              "#fb9f3a"
             ],
             [
              0.8888888888888888,
              "#fdca26"
             ],
             [
              1,
              "#f0f921"
             ]
            ],
            "type": "heatmap"
           }
          ],
          "heatmapgl": [
           {
            "colorbar": {
             "outlinewidth": 0,
             "ticks": ""
            },
            "colorscale": [
             [
              0,
              "#0d0887"
             ],
             [
              0.1111111111111111,
              "#46039f"
             ],
             [
              0.2222222222222222,
              "#7201a8"
             ],
             [
              0.3333333333333333,
              "#9c179e"
             ],
             [
              0.4444444444444444,
              "#bd3786"
             ],
             [
              0.5555555555555556,
              "#d8576b"
             ],
             [
              0.6666666666666666,
              "#ed7953"
             ],
             [
              0.7777777777777778,
              "#fb9f3a"
             ],
             [
              0.8888888888888888,
              "#fdca26"
             ],
             [
              1,
              "#f0f921"
             ]
            ],
            "type": "heatmapgl"
           }
          ],
          "histogram": [
           {
            "marker": {
             "colorbar": {
              "outlinewidth": 0,
              "ticks": ""
             }
            },
            "type": "histogram"
           }
          ],
          "histogram2d": [
           {
            "colorbar": {
             "outlinewidth": 0,
             "ticks": ""
            },
            "colorscale": [
             [
              0,
              "#0d0887"
             ],
             [
              0.1111111111111111,
              "#46039f"
             ],
             [
              0.2222222222222222,
              "#7201a8"
             ],
             [
              0.3333333333333333,
              "#9c179e"
             ],
             [
              0.4444444444444444,
              "#bd3786"
             ],
             [
              0.5555555555555556,
              "#d8576b"
             ],
             [
              0.6666666666666666,
              "#ed7953"
             ],
             [
              0.7777777777777778,
              "#fb9f3a"
             ],
             [
              0.8888888888888888,
              "#fdca26"
             ],
             [
              1,
              "#f0f921"
             ]
            ],
            "type": "histogram2d"
           }
          ],
          "histogram2dcontour": [
           {
            "colorbar": {
             "outlinewidth": 0,
             "ticks": ""
            },
            "colorscale": [
             [
              0,
              "#0d0887"
             ],
             [
              0.1111111111111111,
              "#46039f"
             ],
             [
              0.2222222222222222,
              "#7201a8"
             ],
             [
              0.3333333333333333,
              "#9c179e"
             ],
             [
              0.4444444444444444,
              "#bd3786"
             ],
             [
              0.5555555555555556,
              "#d8576b"
             ],
             [
              0.6666666666666666,
              "#ed7953"
             ],
             [
              0.7777777777777778,
              "#fb9f3a"
             ],
             [
              0.8888888888888888,
              "#fdca26"
             ],
             [
              1,
              "#f0f921"
             ]
            ],
            "type": "histogram2dcontour"
           }
          ],
          "mesh3d": [
           {
            "colorbar": {
             "outlinewidth": 0,
             "ticks": ""
            },
            "type": "mesh3d"
           }
          ],
          "parcoords": [
           {
            "line": {
             "colorbar": {
              "outlinewidth": 0,
              "ticks": ""
             }
            },
            "type": "parcoords"
           }
          ],
          "pie": [
           {
            "automargin": true,
            "type": "pie"
           }
          ],
          "scatter": [
           {
            "marker": {
             "colorbar": {
              "outlinewidth": 0,
              "ticks": ""
             }
            },
            "type": "scatter"
           }
          ],
          "scatter3d": [
           {
            "line": {
             "colorbar": {
              "outlinewidth": 0,
              "ticks": ""
             }
            },
            "marker": {
             "colorbar": {
              "outlinewidth": 0,
              "ticks": ""
             }
            },
            "type": "scatter3d"
           }
          ],
          "scattercarpet": [
           {
            "marker": {
             "colorbar": {
              "outlinewidth": 0,
              "ticks": ""
             }
            },
            "type": "scattercarpet"
           }
          ],
          "scattergeo": [
           {
            "marker": {
             "colorbar": {
              "outlinewidth": 0,
              "ticks": ""
             }
            },
            "type": "scattergeo"
           }
          ],
          "scattergl": [
           {
            "marker": {
             "colorbar": {
              "outlinewidth": 0,
              "ticks": ""
             }
            },
            "type": "scattergl"
           }
          ],
          "scattermapbox": [
           {
            "marker": {
             "colorbar": {
              "outlinewidth": 0,
              "ticks": ""
             }
            },
            "type": "scattermapbox"
           }
          ],
          "scatterpolar": [
           {
            "marker": {
             "colorbar": {
              "outlinewidth": 0,
              "ticks": ""
             }
            },
            "type": "scatterpolar"
           }
          ],
          "scatterpolargl": [
           {
            "marker": {
             "colorbar": {
              "outlinewidth": 0,
              "ticks": ""
             }
            },
            "type": "scatterpolargl"
           }
          ],
          "scatterternary": [
           {
            "marker": {
             "colorbar": {
              "outlinewidth": 0,
              "ticks": ""
             }
            },
            "type": "scatterternary"
           }
          ],
          "surface": [
           {
            "colorbar": {
             "outlinewidth": 0,
             "ticks": ""
            },
            "colorscale": [
             [
              0,
              "#0d0887"
             ],
             [
              0.1111111111111111,
              "#46039f"
             ],
             [
              0.2222222222222222,
              "#7201a8"
             ],
             [
              0.3333333333333333,
              "#9c179e"
             ],
             [
              0.4444444444444444,
              "#bd3786"
             ],
             [
              0.5555555555555556,
              "#d8576b"
             ],
             [
              0.6666666666666666,
              "#ed7953"
             ],
             [
              0.7777777777777778,
              "#fb9f3a"
             ],
             [
              0.8888888888888888,
              "#fdca26"
             ],
             [
              1,
              "#f0f921"
             ]
            ],
            "type": "surface"
           }
          ],
          "table": [
           {
            "cells": {
             "fill": {
              "color": "#EBF0F8"
             },
             "line": {
              "color": "white"
             }
            },
            "header": {
             "fill": {
              "color": "#C8D4E3"
             },
             "line": {
              "color": "white"
             }
            },
            "type": "table"
           }
          ]
         },
         "layout": {
          "annotationdefaults": {
           "arrowcolor": "#2a3f5f",
           "arrowhead": 0,
           "arrowwidth": 1
          },
          "autotypenumbers": "strict",
          "coloraxis": {
           "colorbar": {
            "outlinewidth": 0,
            "ticks": ""
           }
          },
          "colorscale": {
           "diverging": [
            [
             0,
             "#8e0152"
            ],
            [
             0.1,
             "#c51b7d"
            ],
            [
             0.2,
             "#de77ae"
            ],
            [
             0.3,
             "#f1b6da"
            ],
            [
             0.4,
             "#fde0ef"
            ],
            [
             0.5,
             "#f7f7f7"
            ],
            [
             0.6,
             "#e6f5d0"
            ],
            [
             0.7,
             "#b8e186"
            ],
            [
             0.8,
             "#7fbc41"
            ],
            [
             0.9,
             "#4d9221"
            ],
            [
             1,
             "#276419"
            ]
           ],
           "sequential": [
            [
             0,
             "#0d0887"
            ],
            [
             0.1111111111111111,
             "#46039f"
            ],
            [
             0.2222222222222222,
             "#7201a8"
            ],
            [
             0.3333333333333333,
             "#9c179e"
            ],
            [
             0.4444444444444444,
             "#bd3786"
            ],
            [
             0.5555555555555556,
             "#d8576b"
            ],
            [
             0.6666666666666666,
             "#ed7953"
            ],
            [
             0.7777777777777778,
             "#fb9f3a"
            ],
            [
             0.8888888888888888,
             "#fdca26"
            ],
            [
             1,
             "#f0f921"
            ]
           ],
           "sequentialminus": [
            [
             0,
             "#0d0887"
            ],
            [
             0.1111111111111111,
             "#46039f"
            ],
            [
             0.2222222222222222,
             "#7201a8"
            ],
            [
             0.3333333333333333,
             "#9c179e"
            ],
            [
             0.4444444444444444,
             "#bd3786"
            ],
            [
             0.5555555555555556,
             "#d8576b"
            ],
            [
             0.6666666666666666,
             "#ed7953"
            ],
            [
             0.7777777777777778,
             "#fb9f3a"
            ],
            [
             0.8888888888888888,
             "#fdca26"
            ],
            [
             1,
             "#f0f921"
            ]
           ]
          },
          "colorway": [
           "#636efa",
           "#EF553B",
           "#00cc96",
           "#ab63fa",
           "#FFA15A",
           "#19d3f3",
           "#FF6692",
           "#B6E880",
           "#FF97FF",
           "#FECB52"
          ],
          "font": {
           "color": "#2a3f5f"
          },
          "geo": {
           "bgcolor": "white",
           "lakecolor": "white",
           "landcolor": "#E5ECF6",
           "showlakes": true,
           "showland": true,
           "subunitcolor": "white"
          },
          "hoverlabel": {
           "align": "left"
          },
          "hovermode": "closest",
          "mapbox": {
           "style": "light"
          },
          "paper_bgcolor": "white",
          "plot_bgcolor": "#E5ECF6",
          "polar": {
           "angularaxis": {
            "gridcolor": "white",
            "linecolor": "white",
            "ticks": ""
           },
           "bgcolor": "#E5ECF6",
           "radialaxis": {
            "gridcolor": "white",
            "linecolor": "white",
            "ticks": ""
           }
          },
          "scene": {
           "xaxis": {
            "backgroundcolor": "#E5ECF6",
            "gridcolor": "white",
            "gridwidth": 2,
            "linecolor": "white",
            "showbackground": true,
            "ticks": "",
            "zerolinecolor": "white"
           },
           "yaxis": {
            "backgroundcolor": "#E5ECF6",
            "gridcolor": "white",
            "gridwidth": 2,
            "linecolor": "white",
            "showbackground": true,
            "ticks": "",
            "zerolinecolor": "white"
           },
           "zaxis": {
            "backgroundcolor": "#E5ECF6",
            "gridcolor": "white",
            "gridwidth": 2,
            "linecolor": "white",
            "showbackground": true,
            "ticks": "",
            "zerolinecolor": "white"
           }
          },
          "shapedefaults": {
           "line": {
            "color": "#2a3f5f"
           }
          },
          "ternary": {
           "aaxis": {
            "gridcolor": "white",
            "linecolor": "white",
            "ticks": ""
           },
           "baxis": {
            "gridcolor": "white",
            "linecolor": "white",
            "ticks": ""
           },
           "bgcolor": "#E5ECF6",
           "caxis": {
            "gridcolor": "white",
            "linecolor": "white",
            "ticks": ""
           }
          },
          "title": {
           "x": 0.05
          },
          "xaxis": {
           "automargin": true,
           "gridcolor": "white",
           "linecolor": "white",
           "ticks": "",
           "title": {
            "standoff": 15
           },
           "zerolinecolor": "white",
           "zerolinewidth": 2
          },
          "yaxis": {
           "automargin": true,
           "gridcolor": "white",
           "linecolor": "white",
           "ticks": "",
           "title": {
            "standoff": 15
           },
           "zerolinecolor": "white",
           "zerolinewidth": 2
          }
         }
        },
        "title": {
         "text": "Deviation in GDP of each country in Europe"
        }
       }
      },
      "text/html": [
       "<div>                            <div id=\"1d5e640a-1219-40c5-9537-f6b8bfb1e21c\" class=\"plotly-graph-div\" style=\"height:525px; width:100%;\"></div>            <script type=\"text/javascript\">                require([\"plotly\"], function(Plotly) {                    window.PLOTLYENV=window.PLOTLYENV || {};                                    if (document.getElementById(\"1d5e640a-1219-40c5-9537-f6b8bfb1e21c\")) {                    Plotly.newPlot(                        \"1d5e640a-1219-40c5-9537-f6b8bfb1e21c\",                        [{\"customdata\": [[\"Albania\", 1192.3515128271426]], \"geo\": \"geo\", \"hovertemplate\": \"<b>%{hovertext}</b><br><br>country=%{customdata[0]}<br>gdpPercap=%{customdata[1]}<br>iso_alpha=%{location}<extra></extra>\", \"hovertext\": [1192.3515128271426], \"legendgroup\": \"Albania\", \"locations\": [\"ALB\"], \"marker\": {\"color\": \"#636efa\", \"size\": [1192.3515128271426], \"sizemode\": \"area\", \"sizeref\": 33.55486811270874, \"symbol\": \"circle\"}, \"mode\": \"markers\", \"name\": \"Albania\", \"showlegend\": true, \"type\": \"scattergeo\"}, {\"customdata\": [[\"Austria\", 9655.281487936998]], \"geo\": \"geo\", \"hovertemplate\": \"<b>%{hovertext}</b><br><br>country=%{customdata[0]}<br>gdpPercap=%{customdata[1]}<br>iso_alpha=%{location}<extra></extra>\", \"hovertext\": [9655.281487936998], \"legendgroup\": \"Austria\", \"locations\": [\"AUT\"], \"marker\": {\"color\": \"#EF553B\", \"size\": [9655.281487936998], \"sizemode\": \"area\", \"sizeref\": 33.55486811270874, \"symbol\": \"circle\"}, \"mode\": \"markers\", \"name\": \"Austria\", \"showlegend\": true, \"type\": \"scattergeo\"}, {\"customdata\": [[\"Belgium\", 8391.186269123447]], \"geo\": \"geo\", \"hovertemplate\": \"<b>%{hovertext}</b><br><br>country=%{customdata[0]}<br>gdpPercap=%{customdata[1]}<br>iso_alpha=%{location}<extra></extra>\", \"hovertext\": [8391.186269123447], \"legendgroup\": \"Belgium\", \"locations\": [\"BEL\"], \"marker\": {\"color\": \"#00cc96\", \"size\": [8391.186269123447], \"sizemode\": \"area\", \"sizeref\": 33.55486811270874, \"symbol\": \"circle\"}, \"mode\": \"markers\", \"name\": \"Belgium\", \"showlegend\": true, \"type\": \"scattergeo\"}, {\"customdata\": [[\"Bosnia and Herzegovina\", 1950.5223467714338]], \"geo\": \"geo\", \"hovertemplate\": \"<b>%{hovertext}</b><br><br>country=%{customdata[0]}<br>gdpPercap=%{customdata[1]}<br>iso_alpha=%{location}<extra></extra>\", \"hovertext\": [1950.5223467714338], \"legendgroup\": \"Bosnia and Herzegovina\", \"locations\": [\"BIH\"], \"marker\": {\"color\": \"#ab63fa\", \"size\": [1950.5223467714338], \"sizemode\": \"area\", \"sizeref\": 33.55486811270874, \"symbol\": \"circle\"}, \"mode\": \"markers\", \"name\": \"Bosnia and Herzegovina\", \"showlegend\": true, \"type\": \"scattergeo\"}, {\"customdata\": [[\"Bulgaria\", 2351.963618965281]], \"geo\": \"geo\", \"hovertemplate\": \"<b>%{hovertext}</b><br><br>country=%{customdata[0]}<br>gdpPercap=%{customdata[1]}<br>iso_alpha=%{location}<extra></extra>\", \"hovertext\": [2351.963618965281], \"legendgroup\": \"Bulgaria\", \"locations\": [\"BGR\"], \"marker\": {\"color\": \"#FFA15A\", \"size\": [2351.963618965281], \"sizemode\": \"area\", \"sizeref\": 33.55486811270874, \"symbol\": \"circle\"}, \"mode\": \"markers\", \"name\": \"Bulgaria\", \"showlegend\": true, \"type\": \"scattergeo\"}, {\"customdata\": [[\"Croatia\", 3784.4086630384404]], \"geo\": \"geo\", \"hovertemplate\": \"<b>%{hovertext}</b><br><br>country=%{customdata[0]}<br>gdpPercap=%{customdata[1]}<br>iso_alpha=%{location}<extra></extra>\", \"hovertext\": [3784.4086630384404], \"legendgroup\": \"Croatia\", \"locations\": [\"HRV\"], \"marker\": {\"color\": \"#19d3f3\", \"size\": [3784.4086630384404], \"sizemode\": \"area\", \"sizeref\": 33.55486811270874, \"symbol\": \"circle\"}, \"mode\": \"markers\", \"name\": \"Croatia\", \"showlegend\": true, \"type\": \"scattergeo\"}, {\"customdata\": [[\"Czech Republic\", 4361.646746815699]], \"geo\": \"geo\", \"hovertemplate\": \"<b>%{hovertext}</b><br><br>country=%{customdata[0]}<br>gdpPercap=%{customdata[1]}<br>iso_alpha=%{location}<extra></extra>\", \"hovertext\": [4361.646746815699], \"legendgroup\": \"Czech Republic\", \"locations\": [\"CZE\"], \"marker\": {\"color\": \"#FF6692\", \"size\": [4361.646746815699], \"sizemode\": \"area\", \"sizeref\": 33.55486811270874, \"symbol\": \"circle\"}, \"mode\": \"markers\", \"name\": \"Czech Republic\", \"showlegend\": true, \"type\": \"scattergeo\"}, {\"customdata\": [[\"Denmark\", 8305.077866370926]], \"geo\": \"geo\", \"hovertemplate\": \"<b>%{hovertext}</b><br><br>country=%{customdata[0]}<br>gdpPercap=%{customdata[1]}<br>iso_alpha=%{location}<extra></extra>\", \"hovertext\": [8305.077866370926], \"legendgroup\": \"Denmark\", \"locations\": [\"DNK\"], \"marker\": {\"color\": \"#B6E880\", \"size\": [8305.077866370926], \"sizemode\": \"area\", \"sizeref\": 33.55486811270874, \"symbol\": \"circle\"}, \"mode\": \"markers\", \"name\": \"Denmark\", \"showlegend\": true, \"type\": \"scattergeo\"}, {\"customdata\": [[\"Finland\", 8360.17067395112]], \"geo\": \"geo\", \"hovertemplate\": \"<b>%{hovertext}</b><br><br>country=%{customdata[0]}<br>gdpPercap=%{customdata[1]}<br>iso_alpha=%{location}<extra></extra>\", \"hovertext\": [8360.17067395112], \"legendgroup\": \"Finland\", \"locations\": [\"FIN\"], \"marker\": {\"color\": \"#FF97FF\", \"size\": [8360.17067395112], \"sizemode\": \"area\", \"sizeref\": 33.55486811270874, \"symbol\": \"circle\"}, \"mode\": \"markers\", \"name\": \"Finland\", \"showlegend\": true, \"type\": \"scattergeo\"}, {\"customdata\": [[\"France\", 7903.234226966455]], \"geo\": \"geo\", \"hovertemplate\": \"<b>%{hovertext}</b><br><br>country=%{customdata[0]}<br>gdpPercap=%{customdata[1]}<br>iso_alpha=%{location}<extra></extra>\", \"hovertext\": [7903.234226966455], \"legendgroup\": \"France\", \"locations\": [\"FRA\"], \"marker\": {\"color\": \"#FECB52\", \"size\": [7903.234226966455], \"sizemode\": \"area\", \"sizeref\": 33.55486811270874, \"symbol\": \"circle\"}, \"mode\": \"markers\", \"name\": \"France\", \"showlegend\": true, \"type\": \"scattergeo\"}, {\"customdata\": [[\"Germany\", 8076.261912882131]], \"geo\": \"geo\", \"hovertemplate\": \"<b>%{hovertext}</b><br><br>country=%{customdata[0]}<br>gdpPercap=%{customdata[1]}<br>iso_alpha=%{location}<extra></extra>\", \"hovertext\": [8076.261912882131], \"legendgroup\": \"Germany\", \"locations\": [\"DEU\"], \"marker\": {\"color\": \"#636efa\", \"size\": [8076.261912882131], \"sizemode\": \"area\", \"sizeref\": 33.55486811270874, \"symbol\": \"circle\"}, \"mode\": \"markers\", \"name\": \"Germany\", \"showlegend\": true, \"type\": \"scattergeo\"}, {\"customdata\": [[\"Greece\", 7289.928845391456]], \"geo\": \"geo\", \"hovertemplate\": \"<b>%{hovertext}</b><br><br>country=%{customdata[0]}<br>gdpPercap=%{customdata[1]}<br>iso_alpha=%{location}<extra></extra>\", \"hovertext\": [7289.928845391456], \"legendgroup\": \"Greece\", \"locations\": [\"GRC\"], \"marker\": {\"color\": \"#EF553B\", \"size\": [7289.928845391456], \"sizemode\": \"area\", \"sizeref\": 33.55486811270874, \"symbol\": \"circle\"}, \"mode\": \"markers\", \"name\": \"Greece\", \"showlegend\": true, \"type\": \"scattergeo\"}, {\"customdata\": [[\"Hungary\", 3620.1819840212697]], \"geo\": \"geo\", \"hovertemplate\": \"<b>%{hovertext}</b><br><br>country=%{customdata[0]}<br>gdpPercap=%{customdata[1]}<br>iso_alpha=%{location}<extra></extra>\", \"hovertext\": [3620.1819840212697], \"legendgroup\": \"Hungary\", \"locations\": [\"HUN\"], \"marker\": {\"color\": \"#00cc96\", \"size\": [3620.1819840212697], \"sizemode\": \"area\", \"sizeref\": 33.55486811270874, \"symbol\": \"circle\"}, \"mode\": \"markers\", \"name\": \"Hungary\", \"showlegend\": true, \"type\": \"scattergeo\"}, {\"customdata\": [[\"Iceland\", 9373.245892793891]], \"geo\": \"geo\", \"hovertemplate\": \"<b>%{hovertext}</b><br><br>country=%{customdata[0]}<br>gdpPercap=%{customdata[1]}<br>iso_alpha=%{location}<extra></extra>\", \"hovertext\": [9373.245892793891], \"legendgroup\": \"Iceland\", \"locations\": [\"ISL\"], \"marker\": {\"color\": \"#ab63fa\", \"size\": [9373.245892793891], \"sizemode\": \"area\", \"sizeref\": 33.55486811270874, \"symbol\": \"circle\"}, \"mode\": \"markers\", \"name\": \"Iceland\", \"showlegend\": true, \"type\": \"scattergeo\"}, {\"customdata\": [[\"Ireland\", 11573.311021961543]], \"geo\": \"geo\", \"hovertemplate\": \"<b>%{hovertext}</b><br><br>country=%{customdata[0]}<br>gdpPercap=%{customdata[1]}<br>iso_alpha=%{location}<extra></extra>\", \"hovertext\": [11573.311021961543], \"legendgroup\": \"Ireland\", \"locations\": [\"IRL\"], \"marker\": {\"color\": \"#FFA15A\", \"size\": [11573.311021961543], \"sizemode\": \"area\", \"sizeref\": 33.55486811270874, \"symbol\": \"circle\"}, \"mode\": \"markers\", \"name\": \"Ireland\", \"showlegend\": true, \"type\": \"scattergeo\"}, {\"customdata\": [[\"Italy\", 8273.523174155274]], \"geo\": \"geo\", \"hovertemplate\": \"<b>%{hovertext}</b><br><br>country=%{customdata[0]}<br>gdpPercap=%{customdata[1]}<br>iso_alpha=%{location}<extra></extra>\", \"hovertext\": [8273.523174155274], \"legendgroup\": \"Italy\", \"locations\": [\"ITA\"], \"marker\": {\"color\": \"#19d3f3\", \"size\": [8273.523174155274], \"sizemode\": \"area\", \"sizeref\": 33.55486811270874, \"symbol\": \"circle\"}, \"mode\": \"markers\", \"name\": \"Italy\", \"showlegend\": true, \"type\": \"scattergeo\"}, {\"customdata\": [[\"Montenegro\", 2848.9552003110725]], \"geo\": \"geo\", \"hovertemplate\": \"<b>%{hovertext}</b><br><br>country=%{customdata[0]}<br>gdpPercap=%{customdata[1]}<br>iso_alpha=%{location}<extra></extra>\", \"hovertext\": [2848.9552003110725], \"legendgroup\": \"Montenegro\", \"locations\": [\"MNE\"], \"marker\": {\"color\": \"#FF6692\", \"size\": [2848.9552003110725], \"sizemode\": \"area\", \"sizeref\": 33.55486811270874, \"symbol\": \"circle\"}, \"mode\": \"markers\", \"name\": \"Montenegro\", \"showlegend\": true, \"type\": \"scattergeo\"}, {\"customdata\": [[\"Netherlands\", 8918.866410855815]], \"geo\": \"geo\", \"hovertemplate\": \"<b>%{hovertext}</b><br><br>country=%{customdata[0]}<br>gdpPercap=%{customdata[1]}<br>iso_alpha=%{location}<extra></extra>\", \"hovertext\": [8918.866410855815], \"legendgroup\": \"Netherlands\", \"locations\": [\"NLD\"], \"marker\": {\"color\": \"#B6E880\", \"size\": [8918.866410855815], \"sizemode\": \"area\", \"sizeref\": 33.55486811270874, \"symbol\": \"circle\"}, \"mode\": \"markers\", \"name\": \"Netherlands\", \"showlegend\": true, \"type\": \"scattergeo\"}, {\"customdata\": [[\"Norway\", 13421.947245083496]], \"geo\": \"geo\", \"hovertemplate\": \"<b>%{hovertext}</b><br><br>country=%{customdata[0]}<br>gdpPercap=%{customdata[1]}<br>iso_alpha=%{location}<extra></extra>\", \"hovertext\": [13421.947245083496], \"legendgroup\": \"Norway\", \"locations\": [\"NOR\"], \"marker\": {\"color\": \"#FF97FF\", \"size\": [13421.947245083496], \"sizemode\": \"area\", \"sizeref\": 33.55486811270874, \"symbol\": \"circle\"}, \"mode\": \"markers\", \"name\": \"Norway\", \"showlegend\": true, \"type\": \"scattergeo\"}, {\"customdata\": [[\"Poland\", 3198.3512045852826]], \"geo\": \"geo\", \"hovertemplate\": \"<b>%{hovertext}</b><br><br>country=%{customdata[0]}<br>gdpPercap=%{customdata[1]}<br>iso_alpha=%{location}<extra></extra>\", \"hovertext\": [3198.3512045852826], \"legendgroup\": \"Poland\", \"locations\": [\"POL\"], \"marker\": {\"color\": \"#FECB52\", \"size\": [3198.3512045852826], \"sizemode\": \"area\", \"sizeref\": 33.55486811270874, \"symbol\": \"circle\"}, \"mode\": \"markers\", \"name\": \"Poland\", \"showlegend\": true, \"type\": \"scattergeo\"}, {\"customdata\": [[\"Portugal\", 6222.544893656536]], \"geo\": \"geo\", \"hovertemplate\": \"<b>%{hovertext}</b><br><br>country=%{customdata[0]}<br>gdpPercap=%{customdata[1]}<br>iso_alpha=%{location}<extra></extra>\", \"hovertext\": [6222.544893656536], \"legendgroup\": \"Portugal\", \"locations\": [\"PRT\"], \"marker\": {\"color\": \"#636efa\", \"size\": [6222.544893656536], \"sizemode\": \"area\", \"sizeref\": 33.55486811270874, \"symbol\": \"circle\"}, \"mode\": \"markers\", \"name\": \"Portugal\", \"showlegend\": true, \"type\": \"scattergeo\"}, {\"customdata\": [[\"Romania\", 2425.9735414266147]], \"geo\": \"geo\", \"hovertemplate\": \"<b>%{hovertext}</b><br><br>country=%{customdata[0]}<br>gdpPercap=%{customdata[1]}<br>iso_alpha=%{location}<extra></extra>\", \"hovertext\": [2425.9735414266147], \"legendgroup\": \"Romania\", \"locations\": [\"ROU\"], \"marker\": {\"color\": \"#EF553B\", \"size\": [2425.9735414266147], \"sizemode\": \"area\", \"sizeref\": 33.55486811270874, \"symbol\": \"circle\"}, \"mode\": \"markers\", \"name\": \"Romania\", \"showlegend\": true, \"type\": \"scattergeo\"}, {\"customdata\": [[\"Serbia\", 3829.9068362833264]], \"geo\": \"geo\", \"hovertemplate\": \"<b>%{hovertext}</b><br><br>country=%{customdata[0]}<br>gdpPercap=%{customdata[1]}<br>iso_alpha=%{location}<extra></extra>\", \"hovertext\": [3829.9068362833264], \"legendgroup\": \"Serbia\", \"locations\": [\"SRB\"], \"marker\": {\"color\": \"#00cc96\", \"size\": [3829.9068362833264], \"sizemode\": \"area\", \"sizeref\": 33.55486811270874, \"symbol\": \"circle\"}, \"mode\": \"markers\", \"name\": \"Serbia\", \"showlegend\": true, \"type\": \"scattergeo\"}, {\"customdata\": [[\"Slovak Republic\", 3650.2308262197657]], \"geo\": \"geo\", \"hovertemplate\": \"<b>%{hovertext}</b><br><br>country=%{customdata[0]}<br>gdpPercap=%{customdata[1]}<br>iso_alpha=%{location}<extra></extra>\", \"hovertext\": [3650.2308262197657], \"legendgroup\": \"Slovak Republic\", \"locations\": [\"SVK\"], \"marker\": {\"color\": \"#ab63fa\", \"size\": [3650.2308262197657], \"sizemode\": \"area\", \"sizeref\": 33.55486811270874, \"symbol\": \"circle\"}, \"mode\": \"markers\", \"name\": \"Slovak Republic\", \"showlegend\": true, \"type\": \"scattergeo\"}, {\"customdata\": [[\"Slovenia\", 6470.288209477645]], \"geo\": \"geo\", \"hovertemplate\": \"<b>%{hovertext}</b><br><br>country=%{customdata[0]}<br>gdpPercap=%{customdata[1]}<br>iso_alpha=%{location}<extra></extra>\", \"hovertext\": [6470.288209477645], \"legendgroup\": \"Slovenia\", \"locations\": [\"SVN\"], \"marker\": {\"color\": \"#FFA15A\", \"size\": [6470.288209477645], \"sizemode\": \"area\", \"sizeref\": 33.55486811270874, \"symbol\": \"circle\"}, \"mode\": \"markers\", \"name\": \"Slovenia\", \"showlegend\": true, \"type\": \"scattergeo\"}, {\"customdata\": [[\"Spain\", 8046.634571300094]], \"geo\": \"geo\", \"hovertemplate\": \"<b>%{hovertext}</b><br><br>country=%{customdata[0]}<br>gdpPercap=%{customdata[1]}<br>iso_alpha=%{location}<extra></extra>\", \"hovertext\": [8046.634571300094], \"legendgroup\": \"Spain\", \"locations\": [\"ESP\"], \"marker\": {\"color\": \"#19d3f3\", \"size\": [8046.634571300094], \"sizemode\": \"area\", \"sizeref\": 33.55486811270874, \"symbol\": \"circle\"}, \"mode\": \"markers\", \"name\": \"Spain\", \"showlegend\": true, \"type\": \"scattergeo\"}, {\"customdata\": [[\"Sweden\", 7723.247842796874]], \"geo\": \"geo\", \"hovertemplate\": \"<b>%{hovertext}</b><br><br>country=%{customdata[0]}<br>gdpPercap=%{customdata[1]}<br>iso_alpha=%{location}<extra></extra>\", \"hovertext\": [7723.247842796874], \"legendgroup\": \"Sweden\", \"locations\": [\"SWE\"], \"marker\": {\"color\": \"#FF6692\", \"size\": [7723.247842796874], \"sizemode\": \"area\", \"sizeref\": 33.55486811270874, \"symbol\": \"circle\"}, \"mode\": \"markers\", \"name\": \"Sweden\", \"showlegend\": true, \"type\": \"scattergeo\"}, {\"customdata\": [[\"Switzerland\", 6886.463308080273]], \"geo\": \"geo\", \"hovertemplate\": \"<b>%{hovertext}</b><br><br>country=%{customdata[0]}<br>gdpPercap=%{customdata[1]}<br>iso_alpha=%{location}<extra></extra>\", \"hovertext\": [6886.463308080273], \"legendgroup\": \"Switzerland\", \"locations\": [\"CHE\"], \"marker\": {\"color\": \"#B6E880\", \"size\": [6886.463308080273], \"sizemode\": \"area\", \"sizeref\": 33.55486811270874, \"symbol\": \"circle\"}, \"mode\": \"markers\", \"name\": \"Switzerland\", \"showlegend\": true, \"type\": \"scattergeo\"}, {\"customdata\": [[\"Turkey\", 2049.665101880844]], \"geo\": \"geo\", \"hovertemplate\": \"<b>%{hovertext}</b><br><br>country=%{customdata[0]}<br>gdpPercap=%{customdata[1]}<br>iso_alpha=%{location}<extra></extra>\", \"hovertext\": [2049.665101880844], \"legendgroup\": \"Turkey\", \"locations\": [\"TUR\"], \"marker\": {\"color\": \"#FF97FF\", \"size\": [2049.665101880844], \"sizemode\": \"area\", \"sizeref\": 33.55486811270874, \"symbol\": \"circle\"}, \"mode\": \"markers\", \"name\": \"Turkey\", \"showlegend\": true, \"type\": \"scattergeo\"}, {\"customdata\": [[\"United Kingdom\", 7388.189398602921]], \"geo\": \"geo\", \"hovertemplate\": \"<b>%{hovertext}</b><br><br>country=%{customdata[0]}<br>gdpPercap=%{customdata[1]}<br>iso_alpha=%{location}<extra></extra>\", \"hovertext\": [7388.189398602921], \"legendgroup\": \"United Kingdom\", \"locations\": [\"GBR\"], \"marker\": {\"color\": \"#FECB52\", \"size\": [7388.189398602921], \"sizemode\": \"area\", \"sizeref\": 33.55486811270874, \"symbol\": \"circle\"}, \"mode\": \"markers\", \"name\": \"United Kingdom\", \"showlegend\": true, \"type\": \"scattergeo\"}],                        {\"geo\": {\"center\": {}, \"domain\": {\"x\": [0.0, 1.0], \"y\": [0.0, 1.0]}, \"scope\": \"europe\"}, \"legend\": {\"itemsizing\": \"constant\", \"title\": {\"text\": \"country\"}, \"tracegroupgap\": 0}, \"template\": {\"data\": {\"bar\": [{\"error_x\": {\"color\": \"#2a3f5f\"}, \"error_y\": {\"color\": \"#2a3f5f\"}, \"marker\": {\"line\": {\"color\": \"#E5ECF6\", \"width\": 0.5}}, \"type\": \"bar\"}], \"barpolar\": [{\"marker\": {\"line\": {\"color\": \"#E5ECF6\", \"width\": 0.5}}, \"type\": \"barpolar\"}], \"carpet\": [{\"aaxis\": {\"endlinecolor\": \"#2a3f5f\", \"gridcolor\": \"white\", \"linecolor\": \"white\", \"minorgridcolor\": \"white\", \"startlinecolor\": \"#2a3f5f\"}, \"baxis\": {\"endlinecolor\": \"#2a3f5f\", \"gridcolor\": \"white\", \"linecolor\": \"white\", \"minorgridcolor\": \"white\", \"startlinecolor\": \"#2a3f5f\"}, \"type\": \"carpet\"}], \"choropleth\": [{\"colorbar\": {\"outlinewidth\": 0, \"ticks\": \"\"}, \"type\": \"choropleth\"}], \"contour\": [{\"colorbar\": {\"outlinewidth\": 0, \"ticks\": \"\"}, \"colorscale\": [[0.0, \"#0d0887\"], [0.1111111111111111, \"#46039f\"], [0.2222222222222222, \"#7201a8\"], [0.3333333333333333, \"#9c179e\"], [0.4444444444444444, \"#bd3786\"], [0.5555555555555556, \"#d8576b\"], [0.6666666666666666, \"#ed7953\"], [0.7777777777777778, \"#fb9f3a\"], [0.8888888888888888, \"#fdca26\"], [1.0, \"#f0f921\"]], \"type\": \"contour\"}], \"contourcarpet\": [{\"colorbar\": {\"outlinewidth\": 0, \"ticks\": \"\"}, \"type\": \"contourcarpet\"}], \"heatmap\": [{\"colorbar\": {\"outlinewidth\": 0, \"ticks\": \"\"}, \"colorscale\": [[0.0, \"#0d0887\"], [0.1111111111111111, \"#46039f\"], [0.2222222222222222, \"#7201a8\"], [0.3333333333333333, \"#9c179e\"], [0.4444444444444444, \"#bd3786\"], [0.5555555555555556, \"#d8576b\"], [0.6666666666666666, \"#ed7953\"], [0.7777777777777778, \"#fb9f3a\"], [0.8888888888888888, \"#fdca26\"], [1.0, \"#f0f921\"]], \"type\": \"heatmap\"}], \"heatmapgl\": [{\"colorbar\": {\"outlinewidth\": 0, \"ticks\": \"\"}, \"colorscale\": [[0.0, \"#0d0887\"], [0.1111111111111111, \"#46039f\"], [0.2222222222222222, \"#7201a8\"], [0.3333333333333333, \"#9c179e\"], [0.4444444444444444, \"#bd3786\"], [0.5555555555555556, \"#d8576b\"], [0.6666666666666666, \"#ed7953\"], [0.7777777777777778, \"#fb9f3a\"], [0.8888888888888888, \"#fdca26\"], [1.0, \"#f0f921\"]], \"type\": \"heatmapgl\"}], \"histogram\": [{\"marker\": {\"colorbar\": {\"outlinewidth\": 0, \"ticks\": \"\"}}, \"type\": \"histogram\"}], \"histogram2d\": [{\"colorbar\": {\"outlinewidth\": 0, \"ticks\": \"\"}, \"colorscale\": [[0.0, \"#0d0887\"], [0.1111111111111111, \"#46039f\"], [0.2222222222222222, \"#7201a8\"], [0.3333333333333333, \"#9c179e\"], [0.4444444444444444, \"#bd3786\"], [0.5555555555555556, \"#d8576b\"], [0.6666666666666666, \"#ed7953\"], [0.7777777777777778, \"#fb9f3a\"], [0.8888888888888888, \"#fdca26\"], [1.0, \"#f0f921\"]], \"type\": \"histogram2d\"}], \"histogram2dcontour\": [{\"colorbar\": {\"outlinewidth\": 0, \"ticks\": \"\"}, \"colorscale\": [[0.0, \"#0d0887\"], [0.1111111111111111, \"#46039f\"], [0.2222222222222222, \"#7201a8\"], [0.3333333333333333, \"#9c179e\"], [0.4444444444444444, \"#bd3786\"], [0.5555555555555556, \"#d8576b\"], [0.6666666666666666, \"#ed7953\"], [0.7777777777777778, \"#fb9f3a\"], [0.8888888888888888, \"#fdca26\"], [1.0, \"#f0f921\"]], \"type\": \"histogram2dcontour\"}], \"mesh3d\": [{\"colorbar\": {\"outlinewidth\": 0, \"ticks\": \"\"}, \"type\": \"mesh3d\"}], \"parcoords\": [{\"line\": {\"colorbar\": {\"outlinewidth\": 0, \"ticks\": \"\"}}, \"type\": \"parcoords\"}], \"pie\": [{\"automargin\": true, \"type\": \"pie\"}], \"scatter\": [{\"marker\": {\"colorbar\": {\"outlinewidth\": 0, \"ticks\": \"\"}}, \"type\": \"scatter\"}], \"scatter3d\": [{\"line\": {\"colorbar\": {\"outlinewidth\": 0, \"ticks\": \"\"}}, \"marker\": {\"colorbar\": {\"outlinewidth\": 0, \"ticks\": \"\"}}, \"type\": \"scatter3d\"}], \"scattercarpet\": [{\"marker\": {\"colorbar\": {\"outlinewidth\": 0, \"ticks\": \"\"}}, \"type\": \"scattercarpet\"}], \"scattergeo\": [{\"marker\": {\"colorbar\": {\"outlinewidth\": 0, \"ticks\": \"\"}}, \"type\": \"scattergeo\"}], \"scattergl\": [{\"marker\": {\"colorbar\": {\"outlinewidth\": 0, \"ticks\": \"\"}}, \"type\": \"scattergl\"}], \"scattermapbox\": [{\"marker\": {\"colorbar\": {\"outlinewidth\": 0, \"ticks\": \"\"}}, \"type\": \"scattermapbox\"}], \"scatterpolar\": [{\"marker\": {\"colorbar\": {\"outlinewidth\": 0, \"ticks\": \"\"}}, \"type\": \"scatterpolar\"}], \"scatterpolargl\": [{\"marker\": {\"colorbar\": {\"outlinewidth\": 0, \"ticks\": \"\"}}, \"type\": \"scatterpolargl\"}], \"scatterternary\": [{\"marker\": {\"colorbar\": {\"outlinewidth\": 0, \"ticks\": \"\"}}, \"type\": \"scatterternary\"}], \"surface\": [{\"colorbar\": {\"outlinewidth\": 0, \"ticks\": \"\"}, \"colorscale\": [[0.0, \"#0d0887\"], [0.1111111111111111, \"#46039f\"], [0.2222222222222222, \"#7201a8\"], [0.3333333333333333, \"#9c179e\"], [0.4444444444444444, \"#bd3786\"], [0.5555555555555556, \"#d8576b\"], [0.6666666666666666, \"#ed7953\"], [0.7777777777777778, \"#fb9f3a\"], [0.8888888888888888, \"#fdca26\"], [1.0, \"#f0f921\"]], \"type\": \"surface\"}], \"table\": [{\"cells\": {\"fill\": {\"color\": \"#EBF0F8\"}, \"line\": {\"color\": \"white\"}}, \"header\": {\"fill\": {\"color\": \"#C8D4E3\"}, \"line\": {\"color\": \"white\"}}, \"type\": \"table\"}]}, \"layout\": {\"annotationdefaults\": {\"arrowcolor\": \"#2a3f5f\", \"arrowhead\": 0, \"arrowwidth\": 1}, \"autotypenumbers\": \"strict\", \"coloraxis\": {\"colorbar\": {\"outlinewidth\": 0, \"ticks\": \"\"}}, \"colorscale\": {\"diverging\": [[0, \"#8e0152\"], [0.1, \"#c51b7d\"], [0.2, \"#de77ae\"], [0.3, \"#f1b6da\"], [0.4, \"#fde0ef\"], [0.5, \"#f7f7f7\"], [0.6, \"#e6f5d0\"], [0.7, \"#b8e186\"], [0.8, \"#7fbc41\"], [0.9, \"#4d9221\"], [1, \"#276419\"]], \"sequential\": [[0.0, \"#0d0887\"], [0.1111111111111111, \"#46039f\"], [0.2222222222222222, \"#7201a8\"], [0.3333333333333333, \"#9c179e\"], [0.4444444444444444, \"#bd3786\"], [0.5555555555555556, \"#d8576b\"], [0.6666666666666666, \"#ed7953\"], [0.7777777777777778, \"#fb9f3a\"], [0.8888888888888888, \"#fdca26\"], [1.0, \"#f0f921\"]], \"sequentialminus\": [[0.0, \"#0d0887\"], [0.1111111111111111, \"#46039f\"], [0.2222222222222222, \"#7201a8\"], [0.3333333333333333, \"#9c179e\"], [0.4444444444444444, \"#bd3786\"], [0.5555555555555556, \"#d8576b\"], [0.6666666666666666, \"#ed7953\"], [0.7777777777777778, \"#fb9f3a\"], [0.8888888888888888, \"#fdca26\"], [1.0, \"#f0f921\"]]}, \"colorway\": [\"#636efa\", \"#EF553B\", \"#00cc96\", \"#ab63fa\", \"#FFA15A\", \"#19d3f3\", \"#FF6692\", \"#B6E880\", \"#FF97FF\", \"#FECB52\"], \"font\": {\"color\": \"#2a3f5f\"}, \"geo\": {\"bgcolor\": \"white\", \"lakecolor\": \"white\", \"landcolor\": \"#E5ECF6\", \"showlakes\": true, \"showland\": true, \"subunitcolor\": \"white\"}, \"hoverlabel\": {\"align\": \"left\"}, \"hovermode\": \"closest\", \"mapbox\": {\"style\": \"light\"}, \"paper_bgcolor\": \"white\", \"plot_bgcolor\": \"#E5ECF6\", \"polar\": {\"angularaxis\": {\"gridcolor\": \"white\", \"linecolor\": \"white\", \"ticks\": \"\"}, \"bgcolor\": \"#E5ECF6\", \"radialaxis\": {\"gridcolor\": \"white\", \"linecolor\": \"white\", \"ticks\": \"\"}}, \"scene\": {\"xaxis\": {\"backgroundcolor\": \"#E5ECF6\", \"gridcolor\": \"white\", \"gridwidth\": 2, \"linecolor\": \"white\", \"showbackground\": true, \"ticks\": \"\", \"zerolinecolor\": \"white\"}, \"yaxis\": {\"backgroundcolor\": \"#E5ECF6\", \"gridcolor\": \"white\", \"gridwidth\": 2, \"linecolor\": \"white\", \"showbackground\": true, \"ticks\": \"\", \"zerolinecolor\": \"white\"}, \"zaxis\": {\"backgroundcolor\": \"#E5ECF6\", \"gridcolor\": \"white\", \"gridwidth\": 2, \"linecolor\": \"white\", \"showbackground\": true, \"ticks\": \"\", \"zerolinecolor\": \"white\"}}, \"shapedefaults\": {\"line\": {\"color\": \"#2a3f5f\"}}, \"ternary\": {\"aaxis\": {\"gridcolor\": \"white\", \"linecolor\": \"white\", \"ticks\": \"\"}, \"baxis\": {\"gridcolor\": \"white\", \"linecolor\": \"white\", \"ticks\": \"\"}, \"bgcolor\": \"#E5ECF6\", \"caxis\": {\"gridcolor\": \"white\", \"linecolor\": \"white\", \"ticks\": \"\"}}, \"title\": {\"x\": 0.05}, \"xaxis\": {\"automargin\": true, \"gridcolor\": \"white\", \"linecolor\": \"white\", \"ticks\": \"\", \"title\": {\"standoff\": 15}, \"zerolinecolor\": \"white\", \"zerolinewidth\": 2}, \"yaxis\": {\"automargin\": true, \"gridcolor\": \"white\", \"linecolor\": \"white\", \"ticks\": \"\", \"title\": {\"standoff\": 15}, \"zerolinecolor\": \"white\", \"zerolinewidth\": 2}}}, \"title\": {\"text\": \"Deviation in GDP of each country in Europe\"}},                        {\"responsive\": true}                    ).then(function(){\n",
       "                            \n",
       "var gd = document.getElementById('1d5e640a-1219-40c5-9537-f6b8bfb1e21c');\n",
       "var x = new MutationObserver(function (mutations, observer) {{\n",
       "        var display = window.getComputedStyle(gd).display;\n",
       "        if (!display || display === 'none') {{\n",
       "            console.log([gd, 'removed!']);\n",
       "            Plotly.purge(gd);\n",
       "            observer.disconnect();\n",
       "        }}\n",
       "}});\n",
       "\n",
       "// Listen for the removal of the full notebook cells\n",
       "var notebookContainer = gd.closest('#notebook-container');\n",
       "if (notebookContainer) {{\n",
       "    x.observe(notebookContainer, {childList: true});\n",
       "}}\n",
       "\n",
       "// Listen for the clearing of the current output cell\n",
       "var outputEl = gd.closest('.output');\n",
       "if (outputEl) {{\n",
       "    x.observe(outputEl, {childList: true});\n",
       "}}\n",
       "\n",
       "                        })                };                });            </script>        </div>"
      ]
     },
     "metadata": {},
     "output_type": "display_data"
    }
   ],
   "source": [
    "#Europe\n",
    "\n",
    "dev=df.groupby(['country', 'continent', 'iso_alpha'])['gdpPercap'].std().reset_index()\n",
    "\n",
    "devGDP = dev.loc[dev['continent']=='Europe']\n",
    "\n",
    "\n",
    "fig = px.scatter_geo(devGDP, locations=\"iso_alpha\", size=\"gdpPercap\", hover_name=\"gdpPercap\" , hover_data=[ \"country\",\"gdpPercap\"], color=\"country\", title = 'Deviation in GDP of each country in Europe')\n",
    "\n",
    "fig.update_layout(\n",
    "        geo_scope='europe',\n",
    "                 )\n",
    "\n",
    "fig.show()"
   ]
  },
  {
   "cell_type": "code",
   "execution_count": 88,
   "metadata": {},
   "outputs": [
    {
     "data": {
      "application/vnd.plotly.v1+json": {
       "config": {
        "plotlyServerURL": "https://plot.ly"
       },
       "data": [
        {
         "customdata": [
          [
           "Argentina",
           1862.5831513991852
          ]
         ],
         "geo": "geo",
         "hovertemplate": "<b>%{hovertext}</b><br><br>country=%{customdata[0]}<br>gdpPercap=%{customdata[1]}<br>iso_alpha=%{location}<extra></extra>",
         "hovertext": [
          1862.5831513991852
         ],
         "legendgroup": "Argentina",
         "locations": [
          "ARG"
         ],
         "marker": {
          "color": "#636efa",
          "size": [
           1862.5831513991852
          ],
          "sizemode": "area",
          "sizeref": 24.23764525809297,
          "symbol": "circle"
         },
         "mode": "markers",
         "name": "Argentina",
         "showlegend": true,
         "type": "scattergeo"
        },
        {
         "customdata": [
          [
           "Bolivia",
           524.7487056551422
          ]
         ],
         "geo": "geo",
         "hovertemplate": "<b>%{hovertext}</b><br><br>country=%{customdata[0]}<br>gdpPercap=%{customdata[1]}<br>iso_alpha=%{location}<extra></extra>",
         "hovertext": [
          524.7487056551422
         ],
         "legendgroup": "Bolivia",
         "locations": [
          "BOL"
         ],
         "marker": {
          "color": "#EF553B",
          "size": [
           524.7487056551422
          ],
          "sizemode": "area",
          "sizeref": 24.23764525809297,
          "symbol": "circle"
         },
         "mode": "markers",
         "name": "Bolivia",
         "showlegend": true,
         "type": "scattergeo"
        },
        {
         "customdata": [
          [
           "Brazil",
           2436.4537541482923
          ]
         ],
         "geo": "geo",
         "hovertemplate": "<b>%{hovertext}</b><br><br>country=%{customdata[0]}<br>gdpPercap=%{customdata[1]}<br>iso_alpha=%{location}<extra></extra>",
         "hovertext": [
          2436.4537541482923
         ],
         "legendgroup": "Brazil",
         "locations": [
          "BRA"
         ],
         "marker": {
          "color": "#00cc96",
          "size": [
           2436.4537541482923
          ],
          "sizemode": "area",
          "sizeref": 24.23764525809297,
          "symbol": "circle"
         },
         "mode": "markers",
         "name": "Brazil",
         "showlegend": true,
         "type": "scattergeo"
        },
        {
         "customdata": [
          [
           "Canada",
           8210.112789217534
          ]
         ],
         "geo": "geo",
         "hovertemplate": "<b>%{hovertext}</b><br><br>country=%{customdata[0]}<br>gdpPercap=%{customdata[1]}<br>iso_alpha=%{location}<extra></extra>",
         "hovertext": [
          8210.112789217534
         ],
         "legendgroup": "Canada",
         "locations": [
          "CAN"
         ],
         "marker": {
          "color": "#ab63fa",
          "size": [
           8210.112789217534
          ],
          "sizemode": "area",
          "sizeref": 24.23764525809297,
          "symbol": "circle"
         },
         "mode": "markers",
         "name": "Canada",
         "showlegend": true,
         "type": "scattergeo"
        },
        {
         "customdata": [
          [
           "Chile",
           3026.1940231231747
          ]
         ],
         "geo": "geo",
         "hovertemplate": "<b>%{hovertext}</b><br><br>country=%{customdata[0]}<br>gdpPercap=%{customdata[1]}<br>iso_alpha=%{location}<extra></extra>",
         "hovertext": [
          3026.1940231231747
         ],
         "legendgroup": "Chile",
         "locations": [
          "CHL"
         ],
         "marker": {
          "color": "#FFA15A",
          "size": [
           3026.1940231231747
          ],
          "sizemode": "area",
          "sizeref": 24.23764525809297,
          "symbol": "circle"
         },
         "mode": "markers",
         "name": "Chile",
         "showlegend": true,
         "type": "scattergeo"
        },
        {
         "customdata": [
          [
           "Colombia",
           1652.9314656406464
          ]
         ],
         "geo": "geo",
         "hovertemplate": "<b>%{hovertext}</b><br><br>country=%{customdata[0]}<br>gdpPercap=%{customdata[1]}<br>iso_alpha=%{location}<extra></extra>",
         "hovertext": [
          1652.9314656406464
         ],
         "legendgroup": "Colombia",
         "locations": [
          "COL"
         ],
         "marker": {
          "color": "#19d3f3",
          "size": [
           1652.9314656406464
          ],
          "sizemode": "area",
          "sizeref": 24.23764525809297,
          "symbol": "circle"
         },
         "mode": "markers",
         "name": "Colombia",
         "showlegend": true,
         "type": "scattergeo"
        },
        {
         "customdata": [
          [
           "Costa Rica",
           2018.532901460858
          ]
         ],
         "geo": "geo",
         "hovertemplate": "<b>%{hovertext}</b><br><br>country=%{customdata[0]}<br>gdpPercap=%{customdata[1]}<br>iso_alpha=%{location}<extra></extra>",
         "hovertext": [
          2018.532901460858
         ],
         "legendgroup": "Costa Rica",
         "locations": [
          "CRI"
         ],
         "marker": {
          "color": "#FF6692",
          "size": [
           2018.532901460858
          ],
          "sizemode": "area",
          "sizeref": 24.23764525809297,
          "symbol": "circle"
         },
         "mode": "markers",
         "name": "Costa Rica",
         "showlegend": true,
         "type": "scattergeo"
        },
        {
         "customdata": [
          [
           "Cuba",
           1127.7810717472016
          ]
         ],
         "geo": "geo",
         "hovertemplate": "<b>%{hovertext}</b><br><br>country=%{customdata[0]}<br>gdpPercap=%{customdata[1]}<br>iso_alpha=%{location}<extra></extra>",
         "hovertext": [
          1127.7810717472016
         ],
         "legendgroup": "Cuba",
         "locations": [
          "CUB"
         ],
         "marker": {
          "color": "#B6E880",
          "size": [
           1127.7810717472016
          ],
          "sizemode": "area",
          "sizeref": 24.23764525809297,
          "symbol": "circle"
         },
         "mode": "markers",
         "name": "Cuba",
         "showlegend": true,
         "type": "scattergeo"
        },
        {
         "customdata": [
          [
           "Dominican Republic",
           1373.9062331198909
          ]
         ],
         "geo": "geo",
         "hovertemplate": "<b>%{hovertext}</b><br><br>country=%{customdata[0]}<br>gdpPercap=%{customdata[1]}<br>iso_alpha=%{location}<extra></extra>",
         "hovertext": [
          1373.9062331198909
         ],
         "legendgroup": "Dominican Republic",
         "locations": [
          "DOM"
         ],
         "marker": {
          "color": "#FF97FF",
          "size": [
           1373.9062331198909
          ],
          "sizemode": "area",
          "sizeref": 24.23764525809297,
          "symbol": "circle"
         },
         "mode": "markers",
         "name": "Dominican Republic",
         "showlegend": true,
         "type": "scattergeo"
        },
        {
         "customdata": [
          [
           "Ecuador",
           1435.1522819702238
          ]
         ],
         "geo": "geo",
         "hovertemplate": "<b>%{hovertext}</b><br><br>country=%{customdata[0]}<br>gdpPercap=%{customdata[1]}<br>iso_alpha=%{location}<extra></extra>",
         "hovertext": [
          1435.1522819702238
         ],
         "legendgroup": "Ecuador",
         "locations": [
          "ECU"
         ],
         "marker": {
          "color": "#FECB52",
          "size": [
           1435.1522819702238
          ],
          "sizemode": "area",
          "sizeref": 24.23764525809297,
          "symbol": "circle"
         },
         "mode": "markers",
         "name": "Ecuador",
         "showlegend": true,
         "type": "scattergeo"
        },
        {
         "customdata": [
          [
           "El Salvador",
           804.7006970800187
          ]
         ],
         "geo": "geo",
         "hovertemplate": "<b>%{hovertext}</b><br><br>country=%{customdata[0]}<br>gdpPercap=%{customdata[1]}<br>iso_alpha=%{location}<extra></extra>",
         "hovertext": [
          804.7006970800187
         ],
         "legendgroup": "El Salvador",
         "locations": [
          "SLV"
         ],
         "marker": {
          "color": "#636efa",
          "size": [
           804.7006970800187
          ],
          "sizemode": "area",
          "sizeref": 24.23764525809297,
          "symbol": "circle"
         },
         "mode": "markers",
         "name": "El Salvador",
         "showlegend": true,
         "type": "scattergeo"
        },
        {
         "customdata": [
          [
           "Guatemala",
           992.215770059954
          ]
         ],
         "geo": "geo",
         "hovertemplate": "<b>%{hovertext}</b><br><br>country=%{customdata[0]}<br>gdpPercap=%{customdata[1]}<br>iso_alpha=%{location}<extra></extra>",
         "hovertext": [
          992.215770059954
         ],
         "legendgroup": "Guatemala",
         "locations": [
          "GTM"
         ],
         "marker": {
          "color": "#EF553B",
          "size": [
           992.215770059954
          ],
          "sizemode": "area",
          "sizeref": 24.23764525809297,
          "symbol": "circle"
         },
         "mode": "markers",
         "name": "Guatemala",
         "showlegend": true,
         "type": "scattergeo"
        },
        {
         "customdata": [
          [
           "Haiti",
           266.449296487635
          ]
         ],
         "geo": "geo",
         "hovertemplate": "<b>%{hovertext}</b><br><br>country=%{customdata[0]}<br>gdpPercap=%{customdata[1]}<br>iso_alpha=%{location}<extra></extra>",
         "hovertext": [
          266.449296487635
         ],
         "legendgroup": "Haiti",
         "locations": [
          "HTI"
         ],
         "marker": {
          "color": "#00cc96",
          "size": [
           266.449296487635
          ],
          "sizemode": "area",
          "sizeref": 24.23764525809297,
          "symbol": "circle"
         },
         "mode": "markers",
         "name": "Haiti",
         "showlegend": true,
         "type": "scattergeo"
        },
        {
         "customdata": [
          [
           "Honduras",
           453.58591041069946
          ]
         ],
         "geo": "geo",
         "hovertemplate": "<b>%{hovertext}</b><br><br>country=%{customdata[0]}<br>gdpPercap=%{customdata[1]}<br>iso_alpha=%{location}<extra></extra>",
         "hovertext": [
          453.58591041069946
         ],
         "legendgroup": "Honduras",
         "locations": [
          "HND"
         ],
         "marker": {
          "color": "#ab63fa",
          "size": [
           453.58591041069946
          ],
          "sizemode": "area",
          "sizeref": 24.23764525809297,
          "symbol": "circle"
         },
         "mode": "markers",
         "name": "Honduras",
         "showlegend": true,
         "type": "scattergeo"
        },
        {
         "customdata": [
          [
           "Jamaica",
           1343.4723672319974
          ]
         ],
         "geo": "geo",
         "hovertemplate": "<b>%{hovertext}</b><br><br>country=%{customdata[0]}<br>gdpPercap=%{customdata[1]}<br>iso_alpha=%{location}<extra></extra>",
         "hovertext": [
          1343.4723672319974
         ],
         "legendgroup": "Jamaica",
         "locations": [
          "JAM"
         ],
         "marker": {
          "color": "#FFA15A",
          "size": [
           1343.4723672319974
          ],
          "sizemode": "area",
          "sizeref": 24.23764525809297,
          "symbol": "circle"
         },
         "mode": "markers",
         "name": "Jamaica",
         "showlegend": true,
         "type": "scattergeo"
        },
        {
         "customdata": [
          [
           "Mexico",
           2770.8122529469697
          ]
         ],
         "geo": "geo",
         "hovertemplate": "<b>%{hovertext}</b><br><br>country=%{customdata[0]}<br>gdpPercap=%{customdata[1]}<br>iso_alpha=%{location}<extra></extra>",
         "hovertext": [
          2770.8122529469697
         ],
         "legendgroup": "Mexico",
         "locations": [
          "MEX"
         ],
         "marker": {
          "color": "#19d3f3",
          "size": [
           2770.8122529469697
          ],
          "sizemode": "area",
          "sizeref": 24.23764525809297,
          "symbol": "circle"
         },
         "mode": "markers",
         "name": "Mexico",
         "showlegend": true,
         "type": "scattergeo"
        },
        {
         "customdata": [
          [
           "Nicaragua",
           1044.6021742740909
          ]
         ],
         "geo": "geo",
         "hovertemplate": "<b>%{hovertext}</b><br><br>country=%{customdata[0]}<br>gdpPercap=%{customdata[1]}<br>iso_alpha=%{location}<extra></extra>",
         "hovertext": [
          1044.6021742740909
         ],
         "legendgroup": "Nicaragua",
         "locations": [
          "NIC"
         ],
         "marker": {
          "color": "#FF6692",
          "size": [
           1044.6021742740909
          ],
          "sizemode": "area",
          "sizeref": 24.23764525809297,
          "symbol": "circle"
         },
         "mode": "markers",
         "name": "Nicaragua",
         "showlegend": true,
         "type": "scattergeo"
        },
        {
         "customdata": [
          [
           "Panama",
           2139.3507217238625
          ]
         ],
         "geo": "geo",
         "hovertemplate": "<b>%{hovertext}</b><br><br>country=%{customdata[0]}<br>gdpPercap=%{customdata[1]}<br>iso_alpha=%{location}<extra></extra>",
         "hovertext": [
          2139.3507217238625
         ],
         "legendgroup": "Panama",
         "locations": [
          "PAN"
         ],
         "marker": {
          "color": "#B6E880",
          "size": [
           2139.3507217238625
          ],
          "sizemode": "area",
          "sizeref": 24.23764525809297,
          "symbol": "circle"
         },
         "mode": "markers",
         "name": "Panama",
         "showlegend": true,
         "type": "scattergeo"
        },
        {
         "customdata": [
          [
           "Paraguay",
           971.5430298861991
          ]
         ],
         "geo": "geo",
         "hovertemplate": "<b>%{hovertext}</b><br><br>country=%{customdata[0]}<br>gdpPercap=%{customdata[1]}<br>iso_alpha=%{location}<extra></extra>",
         "hovertext": [
          971.5430298861991
         ],
         "legendgroup": "Paraguay",
         "locations": [
          "PRY"
         ],
         "marker": {
          "color": "#FF97FF",
          "size": [
           971.5430298861991
          ],
          "sizemode": "area",
          "sizeref": 24.23764525809297,
          "symbol": "circle"
         },
         "mode": "markers",
         "name": "Paraguay",
         "showlegend": true,
         "type": "scattergeo"
        },
        {
         "customdata": [
          [
           "Peru",
           1056.6601194143711
          ]
         ],
         "geo": "geo",
         "hovertemplate": "<b>%{hovertext}</b><br><br>country=%{customdata[0]}<br>gdpPercap=%{customdata[1]}<br>iso_alpha=%{location}<extra></extra>",
         "hovertext": [
          1056.6601194143711
         ],
         "legendgroup": "Peru",
         "locations": [
          "PER"
         ],
         "marker": {
          "color": "#FECB52",
          "size": [
           1056.6601194143711
          ],
          "sizemode": "area",
          "sizeref": 24.23764525809297,
          "symbol": "circle"
         },
         "mode": "markers",
         "name": "Peru",
         "showlegend": true,
         "type": "scattergeo"
        },
        {
         "customdata": [
          [
           "Puerto Rico",
           5652.978150876394
          ]
         ],
         "geo": "geo",
         "hovertemplate": "<b>%{hovertext}</b><br><br>country=%{customdata[0]}<br>gdpPercap=%{customdata[1]}<br>iso_alpha=%{location}<extra></extra>",
         "hovertext": [
          5652.978150876394
         ],
         "legendgroup": "Puerto Rico",
         "locations": [
          "PRI"
         ],
         "marker": {
          "color": "#636efa",
          "size": [
           5652.978150876394
          ],
          "sizemode": "area",
          "sizeref": 24.23764525809297,
          "symbol": "circle"
         },
         "mode": "markers",
         "name": "Puerto Rico",
         "showlegend": true,
         "type": "scattergeo"
        },
        {
         "customdata": [
          [
           "Trinidad and Tobago",
           3944.4730900183986
          ]
         ],
         "geo": "geo",
         "hovertemplate": "<b>%{hovertext}</b><br><br>country=%{customdata[0]}<br>gdpPercap=%{customdata[1]}<br>iso_alpha=%{location}<extra></extra>",
         "hovertext": [
          3944.4730900183986
         ],
         "legendgroup": "Trinidad and Tobago",
         "locations": [
          "TTO"
         ],
         "marker": {
          "color": "#EF553B",
          "size": [
           3944.4730900183986
          ],
          "sizemode": "area",
          "sizeref": 24.23764525809297,
          "symbol": "circle"
         },
         "mode": "markers",
         "name": "Trinidad and Tobago",
         "showlegend": true,
         "type": "scattergeo"
        },
        {
         "customdata": [
          [
           "United States",
           9695.058103237188
          ]
         ],
         "geo": "geo",
         "hovertemplate": "<b>%{hovertext}</b><br><br>country=%{customdata[0]}<br>gdpPercap=%{customdata[1]}<br>iso_alpha=%{location}<extra></extra>",
         "hovertext": [
          9695.058103237188
         ],
         "legendgroup": "United States",
         "locations": [
          "USA"
         ],
         "marker": {
          "color": "#00cc96",
          "size": [
           9695.058103237188
          ],
          "sizemode": "area",
          "sizeref": 24.23764525809297,
          "symbol": "circle"
         },
         "mode": "markers",
         "name": "United States",
         "showlegend": true,
         "type": "scattergeo"
        },
        {
         "customdata": [
          [
           "Uruguay",
           1612.2592634495063
          ]
         ],
         "geo": "geo",
         "hovertemplate": "<b>%{hovertext}</b><br><br>country=%{customdata[0]}<br>gdpPercap=%{customdata[1]}<br>iso_alpha=%{location}<extra></extra>",
         "hovertext": [
          1612.2592634495063
         ],
         "legendgroup": "Uruguay",
         "locations": [
          "URY"
         ],
         "marker": {
          "color": "#ab63fa",
          "size": [
           1612.2592634495063
          ],
          "sizemode": "area",
          "sizeref": 24.23764525809297,
          "symbol": "circle"
         },
         "mode": "markers",
         "name": "Uruguay",
         "showlegend": true,
         "type": "scattergeo"
        },
        {
         "customdata": [
          [
           "Venezuela",
           1476.3908630419053
          ]
         ],
         "geo": "geo",
         "hovertemplate": "<b>%{hovertext}</b><br><br>country=%{customdata[0]}<br>gdpPercap=%{customdata[1]}<br>iso_alpha=%{location}<extra></extra>",
         "hovertext": [
          1476.3908630419053
         ],
         "legendgroup": "Venezuela",
         "locations": [
          "VEN"
         ],
         "marker": {
          "color": "#FFA15A",
          "size": [
           1476.3908630419053
          ],
          "sizemode": "area",
          "sizeref": 24.23764525809297,
          "symbol": "circle"
         },
         "mode": "markers",
         "name": "Venezuela",
         "showlegend": true,
         "type": "scattergeo"
        }
       ],
       "layout": {
        "geo": {
         "center": {},
         "domain": {
          "x": [
           0,
           1
          ],
          "y": [
           0,
           1
          ]
         },
         "scope": "south america"
        },
        "legend": {
         "itemsizing": "constant",
         "title": {
          "text": "country"
         },
         "tracegroupgap": 0
        },
        "template": {
         "data": {
          "bar": [
           {
            "error_x": {
             "color": "#2a3f5f"
            },
            "error_y": {
             "color": "#2a3f5f"
            },
            "marker": {
             "line": {
              "color": "#E5ECF6",
              "width": 0.5
             }
            },
            "type": "bar"
           }
          ],
          "barpolar": [
           {
            "marker": {
             "line": {
              "color": "#E5ECF6",
              "width": 0.5
             }
            },
            "type": "barpolar"
           }
          ],
          "carpet": [
           {
            "aaxis": {
             "endlinecolor": "#2a3f5f",
             "gridcolor": "white",
             "linecolor": "white",
             "minorgridcolor": "white",
             "startlinecolor": "#2a3f5f"
            },
            "baxis": {
             "endlinecolor": "#2a3f5f",
             "gridcolor": "white",
             "linecolor": "white",
             "minorgridcolor": "white",
             "startlinecolor": "#2a3f5f"
            },
            "type": "carpet"
           }
          ],
          "choropleth": [
           {
            "colorbar": {
             "outlinewidth": 0,
             "ticks": ""
            },
            "type": "choropleth"
           }
          ],
          "contour": [
           {
            "colorbar": {
             "outlinewidth": 0,
             "ticks": ""
            },
            "colorscale": [
             [
              0,
              "#0d0887"
             ],
             [
              0.1111111111111111,
              "#46039f"
             ],
             [
              0.2222222222222222,
              "#7201a8"
             ],
             [
              0.3333333333333333,
              "#9c179e"
             ],
             [
              0.4444444444444444,
              "#bd3786"
             ],
             [
              0.5555555555555556,
              "#d8576b"
             ],
             [
              0.6666666666666666,
              "#ed7953"
             ],
             [
              0.7777777777777778,
              "#fb9f3a"
             ],
             [
              0.8888888888888888,
              "#fdca26"
             ],
             [
              1,
              "#f0f921"
             ]
            ],
            "type": "contour"
           }
          ],
          "contourcarpet": [
           {
            "colorbar": {
             "outlinewidth": 0,
             "ticks": ""
            },
            "type": "contourcarpet"
           }
          ],
          "heatmap": [
           {
            "colorbar": {
             "outlinewidth": 0,
             "ticks": ""
            },
            "colorscale": [
             [
              0,
              "#0d0887"
             ],
             [
              0.1111111111111111,
              "#46039f"
             ],
             [
              0.2222222222222222,
              "#7201a8"
             ],
             [
              0.3333333333333333,
              "#9c179e"
             ],
             [
              0.4444444444444444,
              "#bd3786"
             ],
             [
              0.5555555555555556,
              "#d8576b"
             ],
             [
              0.6666666666666666,
              "#ed7953"
             ],
             [
              0.7777777777777778,
              "#fb9f3a"
             ],
             [
              0.8888888888888888,
              "#fdca26"
             ],
             [
              1,
              "#f0f921"
             ]
            ],
            "type": "heatmap"
           }
          ],
          "heatmapgl": [
           {
            "colorbar": {
             "outlinewidth": 0,
             "ticks": ""
            },
            "colorscale": [
             [
              0,
              "#0d0887"
             ],
             [
              0.1111111111111111,
              "#46039f"
             ],
             [
              0.2222222222222222,
              "#7201a8"
             ],
             [
              0.3333333333333333,
              "#9c179e"
             ],
             [
              0.4444444444444444,
              "#bd3786"
             ],
             [
              0.5555555555555556,
              "#d8576b"
             ],
             [
              0.6666666666666666,
              "#ed7953"
             ],
             [
              0.7777777777777778,
              "#fb9f3a"
             ],
             [
              0.8888888888888888,
              "#fdca26"
             ],
             [
              1,
              "#f0f921"
             ]
            ],
            "type": "heatmapgl"
           }
          ],
          "histogram": [
           {
            "marker": {
             "colorbar": {
              "outlinewidth": 0,
              "ticks": ""
             }
            },
            "type": "histogram"
           }
          ],
          "histogram2d": [
           {
            "colorbar": {
             "outlinewidth": 0,
             "ticks": ""
            },
            "colorscale": [
             [
              0,
              "#0d0887"
             ],
             [
              0.1111111111111111,
              "#46039f"
             ],
             [
              0.2222222222222222,
              "#7201a8"
             ],
             [
              0.3333333333333333,
              "#9c179e"
             ],
             [
              0.4444444444444444,
              "#bd3786"
             ],
             [
              0.5555555555555556,
              "#d8576b"
             ],
             [
              0.6666666666666666,
              "#ed7953"
             ],
             [
              0.7777777777777778,
              "#fb9f3a"
             ],
             [
              0.8888888888888888,
              "#fdca26"
             ],
             [
              1,
              "#f0f921"
             ]
            ],
            "type": "histogram2d"
           }
          ],
          "histogram2dcontour": [
           {
            "colorbar": {
             "outlinewidth": 0,
             "ticks": ""
            },
            "colorscale": [
             [
              0,
              "#0d0887"
             ],
             [
              0.1111111111111111,
              "#46039f"
             ],
             [
              0.2222222222222222,
              "#7201a8"
             ],
             [
              0.3333333333333333,
              "#9c179e"
             ],
             [
              0.4444444444444444,
              "#bd3786"
             ],
             [
              0.5555555555555556,
              "#d8576b"
             ],
             [
              0.6666666666666666,
              "#ed7953"
             ],
             [
              0.7777777777777778,
              "#fb9f3a"
             ],
             [
              0.8888888888888888,
              "#fdca26"
             ],
             [
              1,
              "#f0f921"
             ]
            ],
            "type": "histogram2dcontour"
           }
          ],
          "mesh3d": [
           {
            "colorbar": {
             "outlinewidth": 0,
             "ticks": ""
            },
            "type": "mesh3d"
           }
          ],
          "parcoords": [
           {
            "line": {
             "colorbar": {
              "outlinewidth": 0,
              "ticks": ""
             }
            },
            "type": "parcoords"
           }
          ],
          "pie": [
           {
            "automargin": true,
            "type": "pie"
           }
          ],
          "scatter": [
           {
            "marker": {
             "colorbar": {
              "outlinewidth": 0,
              "ticks": ""
             }
            },
            "type": "scatter"
           }
          ],
          "scatter3d": [
           {
            "line": {
             "colorbar": {
              "outlinewidth": 0,
              "ticks": ""
             }
            },
            "marker": {
             "colorbar": {
              "outlinewidth": 0,
              "ticks": ""
             }
            },
            "type": "scatter3d"
           }
          ],
          "scattercarpet": [
           {
            "marker": {
             "colorbar": {
              "outlinewidth": 0,
              "ticks": ""
             }
            },
            "type": "scattercarpet"
           }
          ],
          "scattergeo": [
           {
            "marker": {
             "colorbar": {
              "outlinewidth": 0,
              "ticks": ""
             }
            },
            "type": "scattergeo"
           }
          ],
          "scattergl": [
           {
            "marker": {
             "colorbar": {
              "outlinewidth": 0,
              "ticks": ""
             }
            },
            "type": "scattergl"
           }
          ],
          "scattermapbox": [
           {
            "marker": {
             "colorbar": {
              "outlinewidth": 0,
              "ticks": ""
             }
            },
            "type": "scattermapbox"
           }
          ],
          "scatterpolar": [
           {
            "marker": {
             "colorbar": {
              "outlinewidth": 0,
              "ticks": ""
             }
            },
            "type": "scatterpolar"
           }
          ],
          "scatterpolargl": [
           {
            "marker": {
             "colorbar": {
              "outlinewidth": 0,
              "ticks": ""
             }
            },
            "type": "scatterpolargl"
           }
          ],
          "scatterternary": [
           {
            "marker": {
             "colorbar": {
              "outlinewidth": 0,
              "ticks": ""
             }
            },
            "type": "scatterternary"
           }
          ],
          "surface": [
           {
            "colorbar": {
             "outlinewidth": 0,
             "ticks": ""
            },
            "colorscale": [
             [
              0,
              "#0d0887"
             ],
             [
              0.1111111111111111,
              "#46039f"
             ],
             [
              0.2222222222222222,
              "#7201a8"
             ],
             [
              0.3333333333333333,
              "#9c179e"
             ],
             [
              0.4444444444444444,
              "#bd3786"
             ],
             [
              0.5555555555555556,
              "#d8576b"
             ],
             [
              0.6666666666666666,
              "#ed7953"
             ],
             [
              0.7777777777777778,
              "#fb9f3a"
             ],
             [
              0.8888888888888888,
              "#fdca26"
             ],
             [
              1,
              "#f0f921"
             ]
            ],
            "type": "surface"
           }
          ],
          "table": [
           {
            "cells": {
             "fill": {
              "color": "#EBF0F8"
             },
             "line": {
              "color": "white"
             }
            },
            "header": {
             "fill": {
              "color": "#C8D4E3"
             },
             "line": {
              "color": "white"
             }
            },
            "type": "table"
           }
          ]
         },
         "layout": {
          "annotationdefaults": {
           "arrowcolor": "#2a3f5f",
           "arrowhead": 0,
           "arrowwidth": 1
          },
          "autotypenumbers": "strict",
          "coloraxis": {
           "colorbar": {
            "outlinewidth": 0,
            "ticks": ""
           }
          },
          "colorscale": {
           "diverging": [
            [
             0,
             "#8e0152"
            ],
            [
             0.1,
             "#c51b7d"
            ],
            [
             0.2,
             "#de77ae"
            ],
            [
             0.3,
             "#f1b6da"
            ],
            [
             0.4,
             "#fde0ef"
            ],
            [
             0.5,
             "#f7f7f7"
            ],
            [
             0.6,
             "#e6f5d0"
            ],
            [
             0.7,
             "#b8e186"
            ],
            [
             0.8,
             "#7fbc41"
            ],
            [
             0.9,
             "#4d9221"
            ],
            [
             1,
             "#276419"
            ]
           ],
           "sequential": [
            [
             0,
             "#0d0887"
            ],
            [
             0.1111111111111111,
             "#46039f"
            ],
            [
             0.2222222222222222,
             "#7201a8"
            ],
            [
             0.3333333333333333,
             "#9c179e"
            ],
            [
             0.4444444444444444,
             "#bd3786"
            ],
            [
             0.5555555555555556,
             "#d8576b"
            ],
            [
             0.6666666666666666,
             "#ed7953"
            ],
            [
             0.7777777777777778,
             "#fb9f3a"
            ],
            [
             0.8888888888888888,
             "#fdca26"
            ],
            [
             1,
             "#f0f921"
            ]
           ],
           "sequentialminus": [
            [
             0,
             "#0d0887"
            ],
            [
             0.1111111111111111,
             "#46039f"
            ],
            [
             0.2222222222222222,
             "#7201a8"
            ],
            [
             0.3333333333333333,
             "#9c179e"
            ],
            [
             0.4444444444444444,
             "#bd3786"
            ],
            [
             0.5555555555555556,
             "#d8576b"
            ],
            [
             0.6666666666666666,
             "#ed7953"
            ],
            [
             0.7777777777777778,
             "#fb9f3a"
            ],
            [
             0.8888888888888888,
             "#fdca26"
            ],
            [
             1,
             "#f0f921"
            ]
           ]
          },
          "colorway": [
           "#636efa",
           "#EF553B",
           "#00cc96",
           "#ab63fa",
           "#FFA15A",
           "#19d3f3",
           "#FF6692",
           "#B6E880",
           "#FF97FF",
           "#FECB52"
          ],
          "font": {
           "color": "#2a3f5f"
          },
          "geo": {
           "bgcolor": "white",
           "lakecolor": "white",
           "landcolor": "#E5ECF6",
           "showlakes": true,
           "showland": true,
           "subunitcolor": "white"
          },
          "hoverlabel": {
           "align": "left"
          },
          "hovermode": "closest",
          "mapbox": {
           "style": "light"
          },
          "paper_bgcolor": "white",
          "plot_bgcolor": "#E5ECF6",
          "polar": {
           "angularaxis": {
            "gridcolor": "white",
            "linecolor": "white",
            "ticks": ""
           },
           "bgcolor": "#E5ECF6",
           "radialaxis": {
            "gridcolor": "white",
            "linecolor": "white",
            "ticks": ""
           }
          },
          "scene": {
           "xaxis": {
            "backgroundcolor": "#E5ECF6",
            "gridcolor": "white",
            "gridwidth": 2,
            "linecolor": "white",
            "showbackground": true,
            "ticks": "",
            "zerolinecolor": "white"
           },
           "yaxis": {
            "backgroundcolor": "#E5ECF6",
            "gridcolor": "white",
            "gridwidth": 2,
            "linecolor": "white",
            "showbackground": true,
            "ticks": "",
            "zerolinecolor": "white"
           },
           "zaxis": {
            "backgroundcolor": "#E5ECF6",
            "gridcolor": "white",
            "gridwidth": 2,
            "linecolor": "white",
            "showbackground": true,
            "ticks": "",
            "zerolinecolor": "white"
           }
          },
          "shapedefaults": {
           "line": {
            "color": "#2a3f5f"
           }
          },
          "ternary": {
           "aaxis": {
            "gridcolor": "white",
            "linecolor": "white",
            "ticks": ""
           },
           "baxis": {
            "gridcolor": "white",
            "linecolor": "white",
            "ticks": ""
           },
           "bgcolor": "#E5ECF6",
           "caxis": {
            "gridcolor": "white",
            "linecolor": "white",
            "ticks": ""
           }
          },
          "title": {
           "x": 0.05
          },
          "xaxis": {
           "automargin": true,
           "gridcolor": "white",
           "linecolor": "white",
           "ticks": "",
           "title": {
            "standoff": 15
           },
           "zerolinecolor": "white",
           "zerolinewidth": 2
          },
          "yaxis": {
           "automargin": true,
           "gridcolor": "white",
           "linecolor": "white",
           "ticks": "",
           "title": {
            "standoff": 15
           },
           "zerolinecolor": "white",
           "zerolinewidth": 2
          }
         }
        },
        "title": {
         "text": "Deviation in GDP of each country in South America"
        }
       }
      },
      "text/html": [
       "<div>                            <div id=\"a8f76591-ee5e-4e93-af7b-fb9f617fdbdb\" class=\"plotly-graph-div\" style=\"height:525px; width:100%;\"></div>            <script type=\"text/javascript\">                require([\"plotly\"], function(Plotly) {                    window.PLOTLYENV=window.PLOTLYENV || {};                                    if (document.getElementById(\"a8f76591-ee5e-4e93-af7b-fb9f617fdbdb\")) {                    Plotly.newPlot(                        \"a8f76591-ee5e-4e93-af7b-fb9f617fdbdb\",                        [{\"customdata\": [[\"Argentina\", 1862.5831513991852]], \"geo\": \"geo\", \"hovertemplate\": \"<b>%{hovertext}</b><br><br>country=%{customdata[0]}<br>gdpPercap=%{customdata[1]}<br>iso_alpha=%{location}<extra></extra>\", \"hovertext\": [1862.5831513991852], \"legendgroup\": \"Argentina\", \"locations\": [\"ARG\"], \"marker\": {\"color\": \"#636efa\", \"size\": [1862.5831513991852], \"sizemode\": \"area\", \"sizeref\": 24.23764525809297, \"symbol\": \"circle\"}, \"mode\": \"markers\", \"name\": \"Argentina\", \"showlegend\": true, \"type\": \"scattergeo\"}, {\"customdata\": [[\"Bolivia\", 524.7487056551422]], \"geo\": \"geo\", \"hovertemplate\": \"<b>%{hovertext}</b><br><br>country=%{customdata[0]}<br>gdpPercap=%{customdata[1]}<br>iso_alpha=%{location}<extra></extra>\", \"hovertext\": [524.7487056551422], \"legendgroup\": \"Bolivia\", \"locations\": [\"BOL\"], \"marker\": {\"color\": \"#EF553B\", \"size\": [524.7487056551422], \"sizemode\": \"area\", \"sizeref\": 24.23764525809297, \"symbol\": \"circle\"}, \"mode\": \"markers\", \"name\": \"Bolivia\", \"showlegend\": true, \"type\": \"scattergeo\"}, {\"customdata\": [[\"Brazil\", 2436.4537541482923]], \"geo\": \"geo\", \"hovertemplate\": \"<b>%{hovertext}</b><br><br>country=%{customdata[0]}<br>gdpPercap=%{customdata[1]}<br>iso_alpha=%{location}<extra></extra>\", \"hovertext\": [2436.4537541482923], \"legendgroup\": \"Brazil\", \"locations\": [\"BRA\"], \"marker\": {\"color\": \"#00cc96\", \"size\": [2436.4537541482923], \"sizemode\": \"area\", \"sizeref\": 24.23764525809297, \"symbol\": \"circle\"}, \"mode\": \"markers\", \"name\": \"Brazil\", \"showlegend\": true, \"type\": \"scattergeo\"}, {\"customdata\": [[\"Canada\", 8210.112789217534]], \"geo\": \"geo\", \"hovertemplate\": \"<b>%{hovertext}</b><br><br>country=%{customdata[0]}<br>gdpPercap=%{customdata[1]}<br>iso_alpha=%{location}<extra></extra>\", \"hovertext\": [8210.112789217534], \"legendgroup\": \"Canada\", \"locations\": [\"CAN\"], \"marker\": {\"color\": \"#ab63fa\", \"size\": [8210.112789217534], \"sizemode\": \"area\", \"sizeref\": 24.23764525809297, \"symbol\": \"circle\"}, \"mode\": \"markers\", \"name\": \"Canada\", \"showlegend\": true, \"type\": \"scattergeo\"}, {\"customdata\": [[\"Chile\", 3026.1940231231747]], \"geo\": \"geo\", \"hovertemplate\": \"<b>%{hovertext}</b><br><br>country=%{customdata[0]}<br>gdpPercap=%{customdata[1]}<br>iso_alpha=%{location}<extra></extra>\", \"hovertext\": [3026.1940231231747], \"legendgroup\": \"Chile\", \"locations\": [\"CHL\"], \"marker\": {\"color\": \"#FFA15A\", \"size\": [3026.1940231231747], \"sizemode\": \"area\", \"sizeref\": 24.23764525809297, \"symbol\": \"circle\"}, \"mode\": \"markers\", \"name\": \"Chile\", \"showlegend\": true, \"type\": \"scattergeo\"}, {\"customdata\": [[\"Colombia\", 1652.9314656406464]], \"geo\": \"geo\", \"hovertemplate\": \"<b>%{hovertext}</b><br><br>country=%{customdata[0]}<br>gdpPercap=%{customdata[1]}<br>iso_alpha=%{location}<extra></extra>\", \"hovertext\": [1652.9314656406464], \"legendgroup\": \"Colombia\", \"locations\": [\"COL\"], \"marker\": {\"color\": \"#19d3f3\", \"size\": [1652.9314656406464], \"sizemode\": \"area\", \"sizeref\": 24.23764525809297, \"symbol\": \"circle\"}, \"mode\": \"markers\", \"name\": \"Colombia\", \"showlegend\": true, \"type\": \"scattergeo\"}, {\"customdata\": [[\"Costa Rica\", 2018.532901460858]], \"geo\": \"geo\", \"hovertemplate\": \"<b>%{hovertext}</b><br><br>country=%{customdata[0]}<br>gdpPercap=%{customdata[1]}<br>iso_alpha=%{location}<extra></extra>\", \"hovertext\": [2018.532901460858], \"legendgroup\": \"Costa Rica\", \"locations\": [\"CRI\"], \"marker\": {\"color\": \"#FF6692\", \"size\": [2018.532901460858], \"sizemode\": \"area\", \"sizeref\": 24.23764525809297, \"symbol\": \"circle\"}, \"mode\": \"markers\", \"name\": \"Costa Rica\", \"showlegend\": true, \"type\": \"scattergeo\"}, {\"customdata\": [[\"Cuba\", 1127.7810717472016]], \"geo\": \"geo\", \"hovertemplate\": \"<b>%{hovertext}</b><br><br>country=%{customdata[0]}<br>gdpPercap=%{customdata[1]}<br>iso_alpha=%{location}<extra></extra>\", \"hovertext\": [1127.7810717472016], \"legendgroup\": \"Cuba\", \"locations\": [\"CUB\"], \"marker\": {\"color\": \"#B6E880\", \"size\": [1127.7810717472016], \"sizemode\": \"area\", \"sizeref\": 24.23764525809297, \"symbol\": \"circle\"}, \"mode\": \"markers\", \"name\": \"Cuba\", \"showlegend\": true, \"type\": \"scattergeo\"}, {\"customdata\": [[\"Dominican Republic\", 1373.9062331198909]], \"geo\": \"geo\", \"hovertemplate\": \"<b>%{hovertext}</b><br><br>country=%{customdata[0]}<br>gdpPercap=%{customdata[1]}<br>iso_alpha=%{location}<extra></extra>\", \"hovertext\": [1373.9062331198909], \"legendgroup\": \"Dominican Republic\", \"locations\": [\"DOM\"], \"marker\": {\"color\": \"#FF97FF\", \"size\": [1373.9062331198909], \"sizemode\": \"area\", \"sizeref\": 24.23764525809297, \"symbol\": \"circle\"}, \"mode\": \"markers\", \"name\": \"Dominican Republic\", \"showlegend\": true, \"type\": \"scattergeo\"}, {\"customdata\": [[\"Ecuador\", 1435.1522819702238]], \"geo\": \"geo\", \"hovertemplate\": \"<b>%{hovertext}</b><br><br>country=%{customdata[0]}<br>gdpPercap=%{customdata[1]}<br>iso_alpha=%{location}<extra></extra>\", \"hovertext\": [1435.1522819702238], \"legendgroup\": \"Ecuador\", \"locations\": [\"ECU\"], \"marker\": {\"color\": \"#FECB52\", \"size\": [1435.1522819702238], \"sizemode\": \"area\", \"sizeref\": 24.23764525809297, \"symbol\": \"circle\"}, \"mode\": \"markers\", \"name\": \"Ecuador\", \"showlegend\": true, \"type\": \"scattergeo\"}, {\"customdata\": [[\"El Salvador\", 804.7006970800187]], \"geo\": \"geo\", \"hovertemplate\": \"<b>%{hovertext}</b><br><br>country=%{customdata[0]}<br>gdpPercap=%{customdata[1]}<br>iso_alpha=%{location}<extra></extra>\", \"hovertext\": [804.7006970800187], \"legendgroup\": \"El Salvador\", \"locations\": [\"SLV\"], \"marker\": {\"color\": \"#636efa\", \"size\": [804.7006970800187], \"sizemode\": \"area\", \"sizeref\": 24.23764525809297, \"symbol\": \"circle\"}, \"mode\": \"markers\", \"name\": \"El Salvador\", \"showlegend\": true, \"type\": \"scattergeo\"}, {\"customdata\": [[\"Guatemala\", 992.215770059954]], \"geo\": \"geo\", \"hovertemplate\": \"<b>%{hovertext}</b><br><br>country=%{customdata[0]}<br>gdpPercap=%{customdata[1]}<br>iso_alpha=%{location}<extra></extra>\", \"hovertext\": [992.215770059954], \"legendgroup\": \"Guatemala\", \"locations\": [\"GTM\"], \"marker\": {\"color\": \"#EF553B\", \"size\": [992.215770059954], \"sizemode\": \"area\", \"sizeref\": 24.23764525809297, \"symbol\": \"circle\"}, \"mode\": \"markers\", \"name\": \"Guatemala\", \"showlegend\": true, \"type\": \"scattergeo\"}, {\"customdata\": [[\"Haiti\", 266.449296487635]], \"geo\": \"geo\", \"hovertemplate\": \"<b>%{hovertext}</b><br><br>country=%{customdata[0]}<br>gdpPercap=%{customdata[1]}<br>iso_alpha=%{location}<extra></extra>\", \"hovertext\": [266.449296487635], \"legendgroup\": \"Haiti\", \"locations\": [\"HTI\"], \"marker\": {\"color\": \"#00cc96\", \"size\": [266.449296487635], \"sizemode\": \"area\", \"sizeref\": 24.23764525809297, \"symbol\": \"circle\"}, \"mode\": \"markers\", \"name\": \"Haiti\", \"showlegend\": true, \"type\": \"scattergeo\"}, {\"customdata\": [[\"Honduras\", 453.58591041069946]], \"geo\": \"geo\", \"hovertemplate\": \"<b>%{hovertext}</b><br><br>country=%{customdata[0]}<br>gdpPercap=%{customdata[1]}<br>iso_alpha=%{location}<extra></extra>\", \"hovertext\": [453.58591041069946], \"legendgroup\": \"Honduras\", \"locations\": [\"HND\"], \"marker\": {\"color\": \"#ab63fa\", \"size\": [453.58591041069946], \"sizemode\": \"area\", \"sizeref\": 24.23764525809297, \"symbol\": \"circle\"}, \"mode\": \"markers\", \"name\": \"Honduras\", \"showlegend\": true, \"type\": \"scattergeo\"}, {\"customdata\": [[\"Jamaica\", 1343.4723672319974]], \"geo\": \"geo\", \"hovertemplate\": \"<b>%{hovertext}</b><br><br>country=%{customdata[0]}<br>gdpPercap=%{customdata[1]}<br>iso_alpha=%{location}<extra></extra>\", \"hovertext\": [1343.4723672319974], \"legendgroup\": \"Jamaica\", \"locations\": [\"JAM\"], \"marker\": {\"color\": \"#FFA15A\", \"size\": [1343.4723672319974], \"sizemode\": \"area\", \"sizeref\": 24.23764525809297, \"symbol\": \"circle\"}, \"mode\": \"markers\", \"name\": \"Jamaica\", \"showlegend\": true, \"type\": \"scattergeo\"}, {\"customdata\": [[\"Mexico\", 2770.8122529469697]], \"geo\": \"geo\", \"hovertemplate\": \"<b>%{hovertext}</b><br><br>country=%{customdata[0]}<br>gdpPercap=%{customdata[1]}<br>iso_alpha=%{location}<extra></extra>\", \"hovertext\": [2770.8122529469697], \"legendgroup\": \"Mexico\", \"locations\": [\"MEX\"], \"marker\": {\"color\": \"#19d3f3\", \"size\": [2770.8122529469697], \"sizemode\": \"area\", \"sizeref\": 24.23764525809297, \"symbol\": \"circle\"}, \"mode\": \"markers\", \"name\": \"Mexico\", \"showlegend\": true, \"type\": \"scattergeo\"}, {\"customdata\": [[\"Nicaragua\", 1044.6021742740909]], \"geo\": \"geo\", \"hovertemplate\": \"<b>%{hovertext}</b><br><br>country=%{customdata[0]}<br>gdpPercap=%{customdata[1]}<br>iso_alpha=%{location}<extra></extra>\", \"hovertext\": [1044.6021742740909], \"legendgroup\": \"Nicaragua\", \"locations\": [\"NIC\"], \"marker\": {\"color\": \"#FF6692\", \"size\": [1044.6021742740909], \"sizemode\": \"area\", \"sizeref\": 24.23764525809297, \"symbol\": \"circle\"}, \"mode\": \"markers\", \"name\": \"Nicaragua\", \"showlegend\": true, \"type\": \"scattergeo\"}, {\"customdata\": [[\"Panama\", 2139.3507217238625]], \"geo\": \"geo\", \"hovertemplate\": \"<b>%{hovertext}</b><br><br>country=%{customdata[0]}<br>gdpPercap=%{customdata[1]}<br>iso_alpha=%{location}<extra></extra>\", \"hovertext\": [2139.3507217238625], \"legendgroup\": \"Panama\", \"locations\": [\"PAN\"], \"marker\": {\"color\": \"#B6E880\", \"size\": [2139.3507217238625], \"sizemode\": \"area\", \"sizeref\": 24.23764525809297, \"symbol\": \"circle\"}, \"mode\": \"markers\", \"name\": \"Panama\", \"showlegend\": true, \"type\": \"scattergeo\"}, {\"customdata\": [[\"Paraguay\", 971.5430298861991]], \"geo\": \"geo\", \"hovertemplate\": \"<b>%{hovertext}</b><br><br>country=%{customdata[0]}<br>gdpPercap=%{customdata[1]}<br>iso_alpha=%{location}<extra></extra>\", \"hovertext\": [971.5430298861991], \"legendgroup\": \"Paraguay\", \"locations\": [\"PRY\"], \"marker\": {\"color\": \"#FF97FF\", \"size\": [971.5430298861991], \"sizemode\": \"area\", \"sizeref\": 24.23764525809297, \"symbol\": \"circle\"}, \"mode\": \"markers\", \"name\": \"Paraguay\", \"showlegend\": true, \"type\": \"scattergeo\"}, {\"customdata\": [[\"Peru\", 1056.6601194143711]], \"geo\": \"geo\", \"hovertemplate\": \"<b>%{hovertext}</b><br><br>country=%{customdata[0]}<br>gdpPercap=%{customdata[1]}<br>iso_alpha=%{location}<extra></extra>\", \"hovertext\": [1056.6601194143711], \"legendgroup\": \"Peru\", \"locations\": [\"PER\"], \"marker\": {\"color\": \"#FECB52\", \"size\": [1056.6601194143711], \"sizemode\": \"area\", \"sizeref\": 24.23764525809297, \"symbol\": \"circle\"}, \"mode\": \"markers\", \"name\": \"Peru\", \"showlegend\": true, \"type\": \"scattergeo\"}, {\"customdata\": [[\"Puerto Rico\", 5652.978150876394]], \"geo\": \"geo\", \"hovertemplate\": \"<b>%{hovertext}</b><br><br>country=%{customdata[0]}<br>gdpPercap=%{customdata[1]}<br>iso_alpha=%{location}<extra></extra>\", \"hovertext\": [5652.978150876394], \"legendgroup\": \"Puerto Rico\", \"locations\": [\"PRI\"], \"marker\": {\"color\": \"#636efa\", \"size\": [5652.978150876394], \"sizemode\": \"area\", \"sizeref\": 24.23764525809297, \"symbol\": \"circle\"}, \"mode\": \"markers\", \"name\": \"Puerto Rico\", \"showlegend\": true, \"type\": \"scattergeo\"}, {\"customdata\": [[\"Trinidad and Tobago\", 3944.4730900183986]], \"geo\": \"geo\", \"hovertemplate\": \"<b>%{hovertext}</b><br><br>country=%{customdata[0]}<br>gdpPercap=%{customdata[1]}<br>iso_alpha=%{location}<extra></extra>\", \"hovertext\": [3944.4730900183986], \"legendgroup\": \"Trinidad and Tobago\", \"locations\": [\"TTO\"], \"marker\": {\"color\": \"#EF553B\", \"size\": [3944.4730900183986], \"sizemode\": \"area\", \"sizeref\": 24.23764525809297, \"symbol\": \"circle\"}, \"mode\": \"markers\", \"name\": \"Trinidad and Tobago\", \"showlegend\": true, \"type\": \"scattergeo\"}, {\"customdata\": [[\"United States\", 9695.058103237188]], \"geo\": \"geo\", \"hovertemplate\": \"<b>%{hovertext}</b><br><br>country=%{customdata[0]}<br>gdpPercap=%{customdata[1]}<br>iso_alpha=%{location}<extra></extra>\", \"hovertext\": [9695.058103237188], \"legendgroup\": \"United States\", \"locations\": [\"USA\"], \"marker\": {\"color\": \"#00cc96\", \"size\": [9695.058103237188], \"sizemode\": \"area\", \"sizeref\": 24.23764525809297, \"symbol\": \"circle\"}, \"mode\": \"markers\", \"name\": \"United States\", \"showlegend\": true, \"type\": \"scattergeo\"}, {\"customdata\": [[\"Uruguay\", 1612.2592634495063]], \"geo\": \"geo\", \"hovertemplate\": \"<b>%{hovertext}</b><br><br>country=%{customdata[0]}<br>gdpPercap=%{customdata[1]}<br>iso_alpha=%{location}<extra></extra>\", \"hovertext\": [1612.2592634495063], \"legendgroup\": \"Uruguay\", \"locations\": [\"URY\"], \"marker\": {\"color\": \"#ab63fa\", \"size\": [1612.2592634495063], \"sizemode\": \"area\", \"sizeref\": 24.23764525809297, \"symbol\": \"circle\"}, \"mode\": \"markers\", \"name\": \"Uruguay\", \"showlegend\": true, \"type\": \"scattergeo\"}, {\"customdata\": [[\"Venezuela\", 1476.3908630419053]], \"geo\": \"geo\", \"hovertemplate\": \"<b>%{hovertext}</b><br><br>country=%{customdata[0]}<br>gdpPercap=%{customdata[1]}<br>iso_alpha=%{location}<extra></extra>\", \"hovertext\": [1476.3908630419053], \"legendgroup\": \"Venezuela\", \"locations\": [\"VEN\"], \"marker\": {\"color\": \"#FFA15A\", \"size\": [1476.3908630419053], \"sizemode\": \"area\", \"sizeref\": 24.23764525809297, \"symbol\": \"circle\"}, \"mode\": \"markers\", \"name\": \"Venezuela\", \"showlegend\": true, \"type\": \"scattergeo\"}],                        {\"geo\": {\"center\": {}, \"domain\": {\"x\": [0.0, 1.0], \"y\": [0.0, 1.0]}, \"scope\": \"south america\"}, \"legend\": {\"itemsizing\": \"constant\", \"title\": {\"text\": \"country\"}, \"tracegroupgap\": 0}, \"template\": {\"data\": {\"bar\": [{\"error_x\": {\"color\": \"#2a3f5f\"}, \"error_y\": {\"color\": \"#2a3f5f\"}, \"marker\": {\"line\": {\"color\": \"#E5ECF6\", \"width\": 0.5}}, \"type\": \"bar\"}], \"barpolar\": [{\"marker\": {\"line\": {\"color\": \"#E5ECF6\", \"width\": 0.5}}, \"type\": \"barpolar\"}], \"carpet\": [{\"aaxis\": {\"endlinecolor\": \"#2a3f5f\", \"gridcolor\": \"white\", \"linecolor\": \"white\", \"minorgridcolor\": \"white\", \"startlinecolor\": \"#2a3f5f\"}, \"baxis\": {\"endlinecolor\": \"#2a3f5f\", \"gridcolor\": \"white\", \"linecolor\": \"white\", \"minorgridcolor\": \"white\", \"startlinecolor\": \"#2a3f5f\"}, \"type\": \"carpet\"}], \"choropleth\": [{\"colorbar\": {\"outlinewidth\": 0, \"ticks\": \"\"}, \"type\": \"choropleth\"}], \"contour\": [{\"colorbar\": {\"outlinewidth\": 0, \"ticks\": \"\"}, \"colorscale\": [[0.0, \"#0d0887\"], [0.1111111111111111, \"#46039f\"], [0.2222222222222222, \"#7201a8\"], [0.3333333333333333, \"#9c179e\"], [0.4444444444444444, \"#bd3786\"], [0.5555555555555556, \"#d8576b\"], [0.6666666666666666, \"#ed7953\"], [0.7777777777777778, \"#fb9f3a\"], [0.8888888888888888, \"#fdca26\"], [1.0, \"#f0f921\"]], \"type\": \"contour\"}], \"contourcarpet\": [{\"colorbar\": {\"outlinewidth\": 0, \"ticks\": \"\"}, \"type\": \"contourcarpet\"}], \"heatmap\": [{\"colorbar\": {\"outlinewidth\": 0, \"ticks\": \"\"}, \"colorscale\": [[0.0, \"#0d0887\"], [0.1111111111111111, \"#46039f\"], [0.2222222222222222, \"#7201a8\"], [0.3333333333333333, \"#9c179e\"], [0.4444444444444444, \"#bd3786\"], [0.5555555555555556, \"#d8576b\"], [0.6666666666666666, \"#ed7953\"], [0.7777777777777778, \"#fb9f3a\"], [0.8888888888888888, \"#fdca26\"], [1.0, \"#f0f921\"]], \"type\": \"heatmap\"}], \"heatmapgl\": [{\"colorbar\": {\"outlinewidth\": 0, \"ticks\": \"\"}, \"colorscale\": [[0.0, \"#0d0887\"], [0.1111111111111111, \"#46039f\"], [0.2222222222222222, \"#7201a8\"], [0.3333333333333333, \"#9c179e\"], [0.4444444444444444, \"#bd3786\"], [0.5555555555555556, \"#d8576b\"], [0.6666666666666666, \"#ed7953\"], [0.7777777777777778, \"#fb9f3a\"], [0.8888888888888888, \"#fdca26\"], [1.0, \"#f0f921\"]], \"type\": \"heatmapgl\"}], \"histogram\": [{\"marker\": {\"colorbar\": {\"outlinewidth\": 0, \"ticks\": \"\"}}, \"type\": \"histogram\"}], \"histogram2d\": [{\"colorbar\": {\"outlinewidth\": 0, \"ticks\": \"\"}, \"colorscale\": [[0.0, \"#0d0887\"], [0.1111111111111111, \"#46039f\"], [0.2222222222222222, \"#7201a8\"], [0.3333333333333333, \"#9c179e\"], [0.4444444444444444, \"#bd3786\"], [0.5555555555555556, \"#d8576b\"], [0.6666666666666666, \"#ed7953\"], [0.7777777777777778, \"#fb9f3a\"], [0.8888888888888888, \"#fdca26\"], [1.0, \"#f0f921\"]], \"type\": \"histogram2d\"}], \"histogram2dcontour\": [{\"colorbar\": {\"outlinewidth\": 0, \"ticks\": \"\"}, \"colorscale\": [[0.0, \"#0d0887\"], [0.1111111111111111, \"#46039f\"], [0.2222222222222222, \"#7201a8\"], [0.3333333333333333, \"#9c179e\"], [0.4444444444444444, \"#bd3786\"], [0.5555555555555556, \"#d8576b\"], [0.6666666666666666, \"#ed7953\"], [0.7777777777777778, \"#fb9f3a\"], [0.8888888888888888, \"#fdca26\"], [1.0, \"#f0f921\"]], \"type\": \"histogram2dcontour\"}], \"mesh3d\": [{\"colorbar\": {\"outlinewidth\": 0, \"ticks\": \"\"}, \"type\": \"mesh3d\"}], \"parcoords\": [{\"line\": {\"colorbar\": {\"outlinewidth\": 0, \"ticks\": \"\"}}, \"type\": \"parcoords\"}], \"pie\": [{\"automargin\": true, \"type\": \"pie\"}], \"scatter\": [{\"marker\": {\"colorbar\": {\"outlinewidth\": 0, \"ticks\": \"\"}}, \"type\": \"scatter\"}], \"scatter3d\": [{\"line\": {\"colorbar\": {\"outlinewidth\": 0, \"ticks\": \"\"}}, \"marker\": {\"colorbar\": {\"outlinewidth\": 0, \"ticks\": \"\"}}, \"type\": \"scatter3d\"}], \"scattercarpet\": [{\"marker\": {\"colorbar\": {\"outlinewidth\": 0, \"ticks\": \"\"}}, \"type\": \"scattercarpet\"}], \"scattergeo\": [{\"marker\": {\"colorbar\": {\"outlinewidth\": 0, \"ticks\": \"\"}}, \"type\": \"scattergeo\"}], \"scattergl\": [{\"marker\": {\"colorbar\": {\"outlinewidth\": 0, \"ticks\": \"\"}}, \"type\": \"scattergl\"}], \"scattermapbox\": [{\"marker\": {\"colorbar\": {\"outlinewidth\": 0, \"ticks\": \"\"}}, \"type\": \"scattermapbox\"}], \"scatterpolar\": [{\"marker\": {\"colorbar\": {\"outlinewidth\": 0, \"ticks\": \"\"}}, \"type\": \"scatterpolar\"}], \"scatterpolargl\": [{\"marker\": {\"colorbar\": {\"outlinewidth\": 0, \"ticks\": \"\"}}, \"type\": \"scatterpolargl\"}], \"scatterternary\": [{\"marker\": {\"colorbar\": {\"outlinewidth\": 0, \"ticks\": \"\"}}, \"type\": \"scatterternary\"}], \"surface\": [{\"colorbar\": {\"outlinewidth\": 0, \"ticks\": \"\"}, \"colorscale\": [[0.0, \"#0d0887\"], [0.1111111111111111, \"#46039f\"], [0.2222222222222222, \"#7201a8\"], [0.3333333333333333, \"#9c179e\"], [0.4444444444444444, \"#bd3786\"], [0.5555555555555556, \"#d8576b\"], [0.6666666666666666, \"#ed7953\"], [0.7777777777777778, \"#fb9f3a\"], [0.8888888888888888, \"#fdca26\"], [1.0, \"#f0f921\"]], \"type\": \"surface\"}], \"table\": [{\"cells\": {\"fill\": {\"color\": \"#EBF0F8\"}, \"line\": {\"color\": \"white\"}}, \"header\": {\"fill\": {\"color\": \"#C8D4E3\"}, \"line\": {\"color\": \"white\"}}, \"type\": \"table\"}]}, \"layout\": {\"annotationdefaults\": {\"arrowcolor\": \"#2a3f5f\", \"arrowhead\": 0, \"arrowwidth\": 1}, \"autotypenumbers\": \"strict\", \"coloraxis\": {\"colorbar\": {\"outlinewidth\": 0, \"ticks\": \"\"}}, \"colorscale\": {\"diverging\": [[0, \"#8e0152\"], [0.1, \"#c51b7d\"], [0.2, \"#de77ae\"], [0.3, \"#f1b6da\"], [0.4, \"#fde0ef\"], [0.5, \"#f7f7f7\"], [0.6, \"#e6f5d0\"], [0.7, \"#b8e186\"], [0.8, \"#7fbc41\"], [0.9, \"#4d9221\"], [1, \"#276419\"]], \"sequential\": [[0.0, \"#0d0887\"], [0.1111111111111111, \"#46039f\"], [0.2222222222222222, \"#7201a8\"], [0.3333333333333333, \"#9c179e\"], [0.4444444444444444, \"#bd3786\"], [0.5555555555555556, \"#d8576b\"], [0.6666666666666666, \"#ed7953\"], [0.7777777777777778, \"#fb9f3a\"], [0.8888888888888888, \"#fdca26\"], [1.0, \"#f0f921\"]], \"sequentialminus\": [[0.0, \"#0d0887\"], [0.1111111111111111, \"#46039f\"], [0.2222222222222222, \"#7201a8\"], [0.3333333333333333, \"#9c179e\"], [0.4444444444444444, \"#bd3786\"], [0.5555555555555556, \"#d8576b\"], [0.6666666666666666, \"#ed7953\"], [0.7777777777777778, \"#fb9f3a\"], [0.8888888888888888, \"#fdca26\"], [1.0, \"#f0f921\"]]}, \"colorway\": [\"#636efa\", \"#EF553B\", \"#00cc96\", \"#ab63fa\", \"#FFA15A\", \"#19d3f3\", \"#FF6692\", \"#B6E880\", \"#FF97FF\", \"#FECB52\"], \"font\": {\"color\": \"#2a3f5f\"}, \"geo\": {\"bgcolor\": \"white\", \"lakecolor\": \"white\", \"landcolor\": \"#E5ECF6\", \"showlakes\": true, \"showland\": true, \"subunitcolor\": \"white\"}, \"hoverlabel\": {\"align\": \"left\"}, \"hovermode\": \"closest\", \"mapbox\": {\"style\": \"light\"}, \"paper_bgcolor\": \"white\", \"plot_bgcolor\": \"#E5ECF6\", \"polar\": {\"angularaxis\": {\"gridcolor\": \"white\", \"linecolor\": \"white\", \"ticks\": \"\"}, \"bgcolor\": \"#E5ECF6\", \"radialaxis\": {\"gridcolor\": \"white\", \"linecolor\": \"white\", \"ticks\": \"\"}}, \"scene\": {\"xaxis\": {\"backgroundcolor\": \"#E5ECF6\", \"gridcolor\": \"white\", \"gridwidth\": 2, \"linecolor\": \"white\", \"showbackground\": true, \"ticks\": \"\", \"zerolinecolor\": \"white\"}, \"yaxis\": {\"backgroundcolor\": \"#E5ECF6\", \"gridcolor\": \"white\", \"gridwidth\": 2, \"linecolor\": \"white\", \"showbackground\": true, \"ticks\": \"\", \"zerolinecolor\": \"white\"}, \"zaxis\": {\"backgroundcolor\": \"#E5ECF6\", \"gridcolor\": \"white\", \"gridwidth\": 2, \"linecolor\": \"white\", \"showbackground\": true, \"ticks\": \"\", \"zerolinecolor\": \"white\"}}, \"shapedefaults\": {\"line\": {\"color\": \"#2a3f5f\"}}, \"ternary\": {\"aaxis\": {\"gridcolor\": \"white\", \"linecolor\": \"white\", \"ticks\": \"\"}, \"baxis\": {\"gridcolor\": \"white\", \"linecolor\": \"white\", \"ticks\": \"\"}, \"bgcolor\": \"#E5ECF6\", \"caxis\": {\"gridcolor\": \"white\", \"linecolor\": \"white\", \"ticks\": \"\"}}, \"title\": {\"x\": 0.05}, \"xaxis\": {\"automargin\": true, \"gridcolor\": \"white\", \"linecolor\": \"white\", \"ticks\": \"\", \"title\": {\"standoff\": 15}, \"zerolinecolor\": \"white\", \"zerolinewidth\": 2}, \"yaxis\": {\"automargin\": true, \"gridcolor\": \"white\", \"linecolor\": \"white\", \"ticks\": \"\", \"title\": {\"standoff\": 15}, \"zerolinecolor\": \"white\", \"zerolinewidth\": 2}}}, \"title\": {\"text\": \"Deviation in GDP of each country in South America\"}},                        {\"responsive\": true}                    ).then(function(){\n",
       "                            \n",
       "var gd = document.getElementById('a8f76591-ee5e-4e93-af7b-fb9f617fdbdb');\n",
       "var x = new MutationObserver(function (mutations, observer) {{\n",
       "        var display = window.getComputedStyle(gd).display;\n",
       "        if (!display || display === 'none') {{\n",
       "            console.log([gd, 'removed!']);\n",
       "            Plotly.purge(gd);\n",
       "            observer.disconnect();\n",
       "        }}\n",
       "}});\n",
       "\n",
       "// Listen for the removal of the full notebook cells\n",
       "var notebookContainer = gd.closest('#notebook-container');\n",
       "if (notebookContainer) {{\n",
       "    x.observe(notebookContainer, {childList: true});\n",
       "}}\n",
       "\n",
       "// Listen for the clearing of the current output cell\n",
       "var outputEl = gd.closest('.output');\n",
       "if (outputEl) {{\n",
       "    x.observe(outputEl, {childList: true});\n",
       "}}\n",
       "\n",
       "                        })                };                });            </script>        </div>"
      ]
     },
     "metadata": {},
     "output_type": "display_data"
    }
   ],
   "source": [
    "#South America\n",
    "\n",
    "dev=df.groupby(['country', 'continent', 'iso_alpha'])['gdpPercap'].std().reset_index()\n",
    "\n",
    "devGDP = dev.loc[dev['continent']=='Americas']\n",
    "\n",
    "fig = px.scatter_geo(devGDP, locations=\"iso_alpha\", size=\"gdpPercap\", hover_name=\"gdpPercap\" , hover_data=[ \"country\",\"gdpPercap\"], color=\"country\", title = 'Deviation in GDP of each country in South America')\n",
    "\n",
    "fig.update_layout(\n",
    "        geo_scope='south america',\n",
    "                 )\n",
    "\n",
    "fig.show()"
   ]
  },
  {
   "cell_type": "markdown",
   "metadata": {},
   "source": [
    "Question 3>>> The change in population of each African country in the last 3 decades"
   ]
  },
  {
   "cell_type": "code",
   "execution_count": null,
   "metadata": {},
   "outputs": [],
   "source": []
  }
 ],
 "metadata": {
  "kernelspec": {
   "display_name": "Python 3",
   "language": "python",
   "name": "python3"
  },
  "language_info": {
   "codemirror_mode": {
    "name": "ipython",
    "version": 3
   },
   "file_extension": ".py",
   "mimetype": "text/x-python",
   "name": "python",
   "nbconvert_exporter": "python",
   "pygments_lexer": "ipython3",
   "version": "3.8.5"
  }
 },
 "nbformat": 4,
 "nbformat_minor": 4
}
